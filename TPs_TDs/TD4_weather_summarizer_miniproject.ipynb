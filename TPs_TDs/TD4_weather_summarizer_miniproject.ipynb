{
 "cells": [
  {
   "cell_type": "markdown",
   "metadata": {},
   "source": [
    "<center><h1>Mini-projet: Résumé météo</h1></center>\n",
    "\n",
    "<b>Objectif : </b> Créé un logiciel de commande de ligne qui va nous permettre d'obtenir la météo actuelle de différentes locations dans le monde avec plus ou moins de détail selon les arguments que l'on spécifira en ligne de commande.\n",
    "\n",
    "## Création du projet\n",
    "* Créez un nouveau dossier et nommez le \"weather_summarizer\"\n",
    "* Ouvrez ce dossier dans VSCode\n",
    "\n",
    "\n"
   ]
  },
  {
   "cell_type": "markdown",
   "metadata": {},
   "source": [
    "## Introduction API et requêtes HTTP \n",
    "\n",
    "Un API ou Application Programming Interface est un ensemble de fonctions qui permettent à un programme d'interagir avec un autre programme.   \n",
    "Dans notre cas, nous allons utiliser un API en soumettant une requête à un serveur distant qui va nous retourner des données météo.   \n",
    "\n",
    "Cette requête se fera sous forme d'une URL comme celle-ci: https://api.open-meteo.com/v1/forecast?latitude=52.52&longitude=13.41&current=temperature_2m,windspeed_10m\n",
    "* https://api.open-meteo.com/v1/forecast: correspond à l'adresse du serveur distant qui accepte notre requête et qui aura pour but de nous retourner des données météo\n",
    "* ?latitude=52.52&longitude=13.41&current=temperature_2m,windspeed_10m: correspond aux paramètres de notre requête. \n",
    "  * Le ? indique que nous allons passer des paramètres à notre requête\n",
    "  * Le latitude=52.52 correspond au paramètre latitude qui a pour valeur 52.52°\n",
    "  * Le & indique que nous allons passer un autre paramètre à notre requête\n",
    "  * current=temperature_2m,windspeed_10m est un paramètre qui va contenir une liste de valeurs séparées par une virgule.\n",
    "\n",
    "Copiez l'URL ci-dessus dans votre navigateur et observez le résultat."
   ]
  },
  {
   "cell_type": "code",
   "execution_count": null,
   "metadata": {},
   "outputs": [],
   "source": [
    "# Que voyez-vous dans votre navigateur?"
   ]
  },
  {
   "cell_type": "markdown",
   "metadata": {},
   "source": [
    "\n",
    "### Le format JSON\n",
    "JSON, acronyme de JavaScript Object Notation, est un format de données léger qui utilise des paires clé-valeur pour stocker des informations.  \n",
    "Dans sa forme la plus simple, il ressemble à un objet JavaScript : { \"cle\": \"valeur\" }, où \"cle\" est un identifiant unique et \"valeur\" peut être un texte,  \n",
    "un nombre, un booléen, un tableau, ou même un autre objet JSON qui va aussi contenir des paires \"cle\": \"valeur\".\n",
    "\n",
    "* Dans VSCode créez un nouveau fichier output_example.json\n",
    "* Copiez-collez le contenu de la requête dans votre navigateur dans le fichier output_example.json\n",
    "* Ouvrez la palette de commande (Ctrl+Shift+P) et tapez \"Format Document\" et sélectionnez \"Format Document\""
   ]
  },
  {
   "cell_type": "code",
   "execution_count": null,
   "metadata": {},
   "outputs": [],
   "source": [
    "# Quels sont les données qu'on a récupéré? Décrivez la structure des données."
   ]
  },
  {
   "cell_type": "markdown",
   "metadata": {},
   "source": [
    "### Les différents arguments de la requête:\n",
    "\n",
    "Pour ce projet, on va principalement s'intéresser à la liste de valeurs que l'on peut spécifier dans le paramètre current pour obtenir les données météo actuelles.\n",
    "(https://api.open-meteo.com/v1/forecast?latitude=52.52&longitude=13.41&__current__=...)\n",
    "\n",
    "L'argument current peut contenir les valeurs suivantes:\n",
    "* temperature_2m: température en °C à 2m du sol\n",
    "* relativehumidity_2m: humidité relative en % à 2m du sol\n",
    "* apparent_temperature: température ressentie\n",
    "* is_day: 1 si le soleil est levé, 0 sinon\n",
    "* precipitation: quantité de précipitation\n",
    "* rain: quantité de pluie\n",
    "* showers: quantité d'averse\n",
    "* snowfall: quantité de neige\n",
    "* weathercode: code météo\n",
    "* cloudcover: couverture nuageuse \n",
    "* pressure_msl: pression atmosphérique au niveau de la mer\n",
    "* surface_pressure: pression atmosphérique à la surface\n",
    "* windspeed_10m: vitesse du vent à 10m du sol\n",
    "* winddirection_10m: direction du vent à 10m du sol\n",
    "* windgusts_10m: rafales de vent à 10m du sol\n",
    "\n",
    "Modifiez l'argument current dans l'URL pour obtenir les données suivantes:\n",
    "* temperature_2m\n",
    "* relativehumidity_2m\n",
    "* apparent_temperature\n",
    "* windspeed_10m"
   ]
  },
  {
   "cell_type": "code",
   "execution_count": null,
   "metadata": {},
   "outputs": [],
   "source": [
    "# Quel est l'URL utilisé pour récupérer les données? "
   ]
  },
  {
   "cell_type": "markdown",
   "metadata": {},
   "source": [
    "### Trouver la latitude et la longitude d'une ville:\n",
    "Pour celà vous pouvez utiliser le site https://www.latlong.net/\n"
   ]
  },
  {
   "cell_type": "code",
   "execution_count": null,
   "metadata": {},
   "outputs": [],
   "source": [
    "# Quelle est la latitude/longitude de Strasbourg arrondie à 2 décimales?"
   ]
  },
  {
   "cell_type": "markdown",
   "metadata": {},
   "source": [
    "### Envoyer des requêtes avec Python\n",
    "* Ouvrez un terminal dans VSCode (Ctrl+Shift+ù)\n",
    "* Exécutez la commande suivante: pip install requests\n",
    "* Créez un nouveau fichier request_examples.py\n",
    "* Créez une chaîne de caractère qui contient l'URL de la requête\n",
    "* Importez le module requests\n",
    "* Utilisez la fonction get() du module requests pour envoyer la requête et stockez le résultat dans une variable response\n",
    "* Affichez le contenu de la réponse en utilisant la fonction print(response.text)"
   ]
  },
  {
   "cell_type": "code",
   "execution_count": null,
   "metadata": {},
   "outputs": [],
   "source": [
    "# Qu'obtenez-vous?"
   ]
  },
  {
   "cell_type": "markdown",
   "metadata": {},
   "source": [
    "## Création du fichier weather_api_caller.py\n",
    "\n",
    "Ce fichier aura pour but d'implémenter une classe qui contiendra des méthodes pour requêter des données météo à partir de https://open-meteo.com/.\n",
    "* Créez un nouveau fichier weather_api_caller.py\n",
    "* Créez une classe WeatherAPICaller\n",
    "* Ajoutez par défaut un attribut base_url qui contiendra l'URL de base de l'API (https://api.open-meteo.com/v1/forecast)\n",
    "* Implémentez la méthode fetch_data(url) qui va envoyer une requête à l'URL passée en paramètre et retourner le contenu de la réponse\n",
    "* Implémentez la méthode get_simple_summary(latitude, longitude) qui va retourner les données pour la température, l'humidité relative, la température ressentie et la vitesse du vent.\n",
    "* Implémentez la méthode get_rain_focused_summary() qui va retourner en plus des données de la méthode get_simple_summary, les données de pluie, d'averse et de neige.\n",
    "* Implémentez la méthode get_wind_focused_summary() qui va retourner en plus des données de la méthode get_simple_summary, les données de vitesse du vent, de direction du vent et de rafales de vent.\n",
    "* Implémentez la méthode get_detailed_summary() qui va retourner toutes les données météo (tout les arguments que current peut prendre).\n",
    "Pour les méthodes ..._summary, construisez d'abord l'url en utilisant base_url et en ajoutant les paramètres nécessaires et ensuite appelez la méthode fetch_data(url) pour récupérer les données."
   ]
  },
  {
   "cell_type": "markdown",
   "metadata": {},
   "source": [
    "## Création du fichier models.py\n",
    "\n",
    "Ce fichier aura pour de contenir les classes qui vont représenter les données météo et les lieux.\n",
    "* Créez un nouveau fichier models.py\n",
    "* Créez une classe Location avec les attributs suivants:\n",
    "  * name: le nom du lieu\n",
    "  * latitude: la latitude du lieu\n",
    "  * longitude: la longitude du lieu  \n",
    "<br/>\n",
    "* Créez une classe WeatherSummary avec les attributs permettant de stocker les données météo (température, humidité, etc...) de la méthode get_simple_summary de la classe WeatherAPICaller. Ajoutez un attribut location de type Location qui contiendra les informations du lieu.\n",
    "* Implémentez la méthode get_summary() qui va retourner une chaîne de caractère contenant un résumé des données météo.\n",
    "\n",
    "* Créez une classe WeatherRainSummary qui hérite de WeatherSummary et qui contient en plus les attributs permettant de stocker les données météo (pluie, averse, neige) de la méthode get_rain_focused_summary  la classe WeatherAPICaller.\n",
    "* Redéfinissez la méthode get_summary() de manière à ce qu'elle appelle la méthode get_summary() de la classe mère et qu'elle y ajoute les données de pluie, d'averse et de neige.\n",
    "\n",
    "* Créez une classe WeatherWindySummary qui hérite de WeatherSummary et qui contient en plus les attributs permettant de stocker les données météo (vitesse du vent, direction du vent, rafales de vent) de la thode get_wind_focused_summary de la classe WeatherAPICaller.\n",
    "* Redéfinissez la méthode get_summary() de manière à ce qu'elle appelle la méthode get_summary() de la classe mère et qu'elle y ajoute les données de vitesse du vent, de direction du vent et de rafales de nt.\n",
    "\n",
    "* Créez une classe WeatherDetailedSummary qui hérite de WeatherSummary et qui contient en plus les attributs permettant de stocker toutes les données météo de la méthode get_detailed_summary de la classe atherAPICaller.\n",
    "* Redéfinissez la méthode get_summary() pour qu'elle retourne une chaîne de caractère contenant un résumé des données météo."
   ]
  },
  {
   "cell_type": "markdown",
   "metadata": {},
   "source": [
    "## Modification du fichier weather_api_caller.py\n",
    "\n",
    "On va modifier la classe WeatherAPICaller pour utiliser les classes du fichier models.py. On va d'abord comprendre comment manipuler un fichier JSON en Python.\n",
    "\n",
    "### Manipulation d'un fichier JSON:\n",
    "\n",
    "* Créez un nouveau fichier handle_json_example.py\n",
    "* Importez le module json\n",
    "* Créez une chaîne de caractère qui contient le contenu du fichier output_example.json (vous pouvez utilisez un triple ''' quote pour écrire sur plusieurs lignes)\n",
    "* Utilisez la fonction loads() du module json pour charger le contenu de la chaîne de caractère dans une variable data_dict\n",
    "* Affichez le contenu de la variable data"
   ]
  },
  {
   "cell_type": "code",
   "execution_count": null,
   "metadata": {},
   "outputs": [],
   "source": [
    "# Que voyez-vous?\n",
    "\n",
    "\n",
    "# Qu'est-ce que data_dict?\n",
    "\n",
    "\n",
    "# Qu'est-ce que data_dict['current']?\n",
    "\n",
    "\n",
    "# Comment accéder à la valeur de temperature_2m?\n",
    "\n"
   ]
  },
  {
   "cell_type": "markdown",
   "metadata": {},
   "source": [
    "### Modification de la classe WeatherAPICaller\n",
    "* Modifiez la signature des méthodes get_summary pour qu'elles prennent en argument une instance de la classe Location\n",
    "* Modifiez la classe WeatherAPICaller pour que ses méthodes get_summary retournent une instance de la classe WeatherSummary, WeatherRainSummary, WeatherWindySummary ou WeatherDetailedSummary en fonction de la méthode appelée\n",
    "\n",
    "## Création d'un fichier config.py\n",
    "Ce fichier va contenir une liste de lieux d'intérêts avec leur latitude et leur longitude. Ajoutez une constante LOCATIONS = [ ... ] qui contient une liste d'objets de type Location de votre choix (au moins 3).\n"
   ]
  },
  {
   "cell_type": "markdown",
   "metadata": {},
   "source": [
    "### Création du fichier get_my_weather_report.py\n",
    "\n",
    "Ce fichier sera le script que l'on exécutera en ligne de commande. Il aura pour but de récupérer les données météo pour les villes spécifiées dans le fichier config.py et d'afficher un résumé de ces données.   \n",
    "L'utilisateur aura le choix entre 4 types de résumés et pour celà, il devra spécifier un argument de commande: simple, rain, wind ou detailed.\n",
    "\n",
    "#### Gestion des arguments en ligne de commande\n",
    "Pour gérer les arguments de commande, on va utiliser le module argparse qui provient de la librairie standard de Python. Ce module va vous permettre de spécifier les arguments de commande que votre script va accepter et de récupérer les valeurs de ces arguments.  \n",
    "De plus, il va vous permettre d'afficher une aide à l'utilisateur en cas d'erreur ou si l'utilisateur demande de l'aide.  \n",
    "\n",
    "* Créez un fichier handle_command_line_arguments_example.py\n",
    "* Importez le module argparse\n",
    "* Implémentez une fonction get_command_line_arguments() qui va retourner les arguments de commande de votre script.  \n",
    "  * Créez un objet de type ArgumentParser et stockez le dans une variable parser: parser = argparse.ArgumentParser(description='This is an example of how to use argparse')  \n",
    "\n",
    "Pour ajoutez un argument de commande, vous devez utiliser la méthode add_argument() de votre objet parser.  \n",
    "Prenons en exemple l'ajout d'un argument verbose qui va être un booléen et qui va permettre d'afficher des informations supplémentaires lors de l'exécution du script.  \n",
    "parser.add_argument('-v', '--verbose', help='increase output verbosity if \"yes\"', type=str, required=True, choices=['yes', 'no'])  \n",
    "* \"-v\" est le nom court de l'argument de commande\n",
    "* \"--verbose\" est le nom long de l'argument de commande\n",
    "* help est le message d'aide qui sera affiché à l'utilisateur\n",
    "* type est le type de l'argument de commande\n",
    "* required indique si l'argument est obligatoire ou non\n",
    "* choices est une liste de valeurs possibles pour l'argument de commande\n",
    "\n",
    "Pour récupérer les arguments de commande, vous devez utiliser la méthode parse_args() de votre objet parser: args = parser.parse_args()  \n",
    "La variable args est un objet de type Namespace qui contient les arguments de commande.  \n",
    "Dans notre exemple, args.verbose contiendra la valeur de l'argument verbose  \n",
    "\n",
    "* Ajoutez dans la fonction get_command_line_arguments(): print(args)\n",
    "* Dans votre script handle_command_line_arguments_example.py, exécutez la fonction get_command_line_arguments() et affichez les arguments de commande.\n",
    "* Exécutez votre script en ligne de commande en utilisant la commande suivante: python handle_command_line_arguments_example.py -v yes"
   ]
  },
  {
   "cell_type": "code",
   "execution_count": null,
   "metadata": {},
   "outputs": [],
   "source": [
    "# Que vous affiche votre script?"
   ]
  },
  {
   "cell_type": "markdown",
   "metadata": {},
   "source": [
    "* Exécuter votre script en ligne de commande en utilisant la commande suivante: python handle_command_line_arguments_example.py"
   ]
  },
  {
   "cell_type": "code",
   "execution_count": null,
   "metadata": {},
   "outputs": [],
   "source": [
    "# Que vous affiche votre script?"
   ]
  },
  {
   "cell_type": "markdown",
   "metadata": {},
   "source": [
    "#### Exécution de la logique uniquement en ligne de commande\n",
    "\n",
    "Lorsque vous importez un fichier python, tout le code est exécuté. Par exemple si nous importons le fichier handle_command_line_arguments_example.py dans un autre fichier python  \n",
    "le code sera exécuté et le script tentera de récupérer les arguments de la ligne de commande ce qui n'est pas souhaitable.\n",
    "\n",
    "Pour uniquement exécuter la logique du script lorsque le fichier est exécuté directement, il faut utiliser la variable \\_\\_name\\_\\_ .  \n",
    "Python utilise la variable spéciale \\_\\_name\\_\\_  pour distinguer si un fichier est exécuté comme programme principal ou s'il est importé comme un module.  \n",
    "Lorsque le fichier est exécuté comme programme principal, la variable \\_\\_name\\_\\_  vaut \\_\\_main\\_\\_.  \n",
    "\n",
    "* Ajoutez une condition pour exécuter la fonction get_command_line_arguments uniquement si le fichier est exécuté comme programme principal dans le fichier handle_command_line_arguments_example.py"
   ]
  },
  {
   "cell_type": "code",
   "execution_count": null,
   "metadata": {},
   "outputs": [],
   "source": [
    "# Quelle est la condition que vous avez utilisé pour éxécuter le fichier uniquement si on l'éxécute en tant que script?"
   ]
  },
  {
   "cell_type": "markdown",
   "metadata": {},
   "source": [
    "### Implémentation de la logique de get_my_weather_report.py:\n",
    "\n",
    "* Implémentez la fonction get_mode() qui permet de récupérer l'argument \"mode\" qui aura quatre choix: simple, rain, wind ou detailed\n",
    "* Implémentez la fonction main() qui:\n",
    "  * récupère le mode\n",
    "  * parcoure la liste de locations spécifiées dans le fichier config.py\n",
    "  * pour chaque location:\n",
    "    * récupère les données météo en utilisant la classe WeatherAPICaller\n",
    "    * affiche le résumé des données météo\n",
    "* Exécutez la méthode main uniquement quand le fichier est exécuté en ligne de commande\n",
    "* Testez votre projet"
   ]
  },
  {
   "cell_type": "code",
   "execution_count": null,
   "metadata": {},
   "outputs": [],
   "source": [
    "# Fin du projet"
   ]
  }
 ],
 "metadata": {
  "kernelspec": {
   "display_name": "crypto",
   "language": "python",
   "name": "python3"
  },
  "language_info": {
   "name": "python",
   "version": "3.8.12"
  }
 },
 "nbformat": 4,
 "nbformat_minor": 2
}
