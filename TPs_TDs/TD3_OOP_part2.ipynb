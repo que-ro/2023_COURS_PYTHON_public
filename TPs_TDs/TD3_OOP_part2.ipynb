{
 "cells": [
  {
   "cell_type": "markdown",
   "id": "superior-anthropology",
   "metadata": {},
   "source": [
    "<center><h1>TD: Programmation orientée objet - part 2</h1></center>\n"
   ]
  },
  {
   "cell_type": "markdown",
   "id": "physical-format",
   "metadata": {},
   "source": [
    "## Exercice 1: Polymorphisme d'héritage 1\n",
    "\n",
    "### Partie 1: Classe de base - Vehicle\n",
    "    1. Créez une classe appelée Vehicle avec une méthode fuel_efficiency(). Cette méthode doit afficher le message \"Méthode de la classe de base pour calculer l'efficacité énergétique\" sans rien retourner.\n",
    "    \n",
    "### Partie 2: Classes dérivées\n",
    "    2.1. Classe: Car (hérite de Vehicle). Créez cette classe avec les attributs weight et engine_power. Redéfinissez la méthode fuel_efficiency(): pour qu'elle retourne l'efficacité énergétique de la voiture en fonction de son poids et de sa puissance: \n",
    "    \n",
    "$$ \\frac{\\text{engine_power}}{\\text{weight}} \\times 100 $$\n",
    "\n",
    "    \n",
    "    2.2. Classe: Motorcycle (hérite de Vehicle). Créez cette classe avec l'attribut weight. Redéfinissez la méthode fuel_efficiency(): pour qu'elle retourne l'efficacité énergétique de la moto, qui pourrait être considérée comme une valeur fixe multipliée par son poids.\n",
    "\n",
    "$$ 500 \\times \\text{weight} $$\n",
    "\n",
    "    2.3. Classe: Truck (hérite de Vehicle). Créez cette classe avec les attributs weight et cargo_weight. Redéfinissez la méthode fuel_efficiency(): pour qu'elle retourne l'efficacité énergétique du camion en fonction de son poids total :\n",
    "\n",
    "$$ \\frac{1000}{\\text{weight} + \\text{cargo_weight}} $$\n",
    "\n",
    "    \n",
    "### Partie 3: Script de test\n",
    "    3.1. Créez un script pour tester ces classes.\n",
    "    3.2. Instanciez une voiture, une moto et un camion avec des valeurs pour leurs attributs.\n",
    "    3.3. Appelez la méthode fuel_efficiency() pour chaque instance et affichez les résultats.\n"
   ]
  },
  {
   "cell_type": "code",
   "execution_count": null,
   "id": "rocky-schema",
   "metadata": {},
   "outputs": [],
   "source": []
  },
  {
   "cell_type": "markdown",
   "id": "shaped-travel",
   "metadata": {},
   "source": [
    "## Exercice 2: polymorphisme d'héritage 2\n",
    "\n",
    "### Partie 1: Classe de base - Shape\n",
    "    1. Créez une classe appelée Shape avec une méthode calculateArea(). Cette méthode doit afficher le message \"Méthode de la classe de base pour calculer l'aire\" sans rien retourner.\n",
    "\n",
    "### Partie 2: Classes dérivées\n",
    "    2.1. Classe: Circle (hérite de Shape). Créez cette classe avec l'attribut radius et redéfinissez la méthode calculate_area() afin qu'elle retoune l'aire d'un cercle\n",
    "    2.2. Classe: Rectangle (hérite de Shape). Créez cette classe avec les attributs width et height. Redéfinissez la méthode calculate_area() afin qu'elle retoune l'aire du rectangle\n",
    "    2.3. Classe: Triangle (hérite de Shape). Créez cette classe avec les attributs base et height. Redéfinissez la méthode calculate_area() afin qu'elle retoune l'aire du triangle\n",
    "\n",
    "### Partie 3: Script de test\n",
    "    3.1. Créez un script pour tester ces classes.\n",
    "    3.2. Instanciez un cercle, un rectangle et un triangle.\n",
    "    3.3. Appelez la méthode calculateArea() pour chaque instance et affichez les résultats.\n",
    "    \n",
    "<b>Note : </b>Observez comment, bien que chaque forme soit une Shape, la méthode calculateArea() se comporte différemment pour chaque forme, mettant en évidence le polymorphisme d'héritage.\n",
    "N'oubliez pas d'importer le module math pour accéder à la valeur de π lors de la définition de la classe Circle."
   ]
  },
  {
   "cell_type": "code",
   "execution_count": null,
   "id": "sacred-helping",
   "metadata": {},
   "outputs": [],
   "source": []
  },
  {
   "cell_type": "markdown",
   "id": "injured-tennis",
   "metadata": {},
   "source": [
    "## Exercice 3: polymorphisme ad hoc 1\n",
    "\n",
    "### Partie 1\n",
    "\n",
    "    1.1. Créez une classe Phone avec l'attribut number (str) \n",
    "    1.2. Créez une classe email avec l'attribut mail_adress (str).\n",
    "    \n",
    "### Partie 2\n",
    "\n",
    "    2.1. Créez la classe RegisterSystem\n",
    "    2.2. Définissez la méthode protégée _register_with_phone qui prendra en argument une variable de type Phone et qui affiche un message prévenant l'utilisateur qu'un code de vérification a été envoyé au numéro de téléphone.\n",
    "    2.3. Définissez la méthode protégée _register_with_email qui prendra en argument une variable de type Email et qui affiche un message prévenant l'utilisateur qu'un code de vérification a été envoyé à l'adresse mail.\n",
    "    2.4. Définissez une méthode publique register qui prendra en argument contact_info de type inconnu et qui implémentera le polymorphisme ad hoc. \n"
   ]
  },
  {
   "cell_type": "code",
   "execution_count": null,
   "id": "existing-carter",
   "metadata": {},
   "outputs": [],
   "source": []
  },
  {
   "cell_type": "markdown",
   "id": "alone-overhead",
   "metadata": {},
   "source": [
    "## Exercice 4: polymorphisme ad hoc 2\n",
    "\n",
    "    1. Recréez les classes de l'exercice 2 en reprenant uniquement les attributs et non les méthodes\n",
    "    2. Créez une classe CalculateAreaUtility et définissez les méthodes de manière à implémenter le polymorphisme ad hoc afin de calculer l'aire des classes Circle, Rectangle et Triangle.\n"
   ]
  },
  {
   "cell_type": "code",
   "execution_count": null,
   "id": "distinguished-cannon",
   "metadata": {},
   "outputs": [],
   "source": []
  }
 ],
 "metadata": {
  "kernelspec": {
   "display_name": "Python 3",
   "language": "python",
   "name": "python3"
  },
  "language_info": {
   "codemirror_mode": {
    "name": "ipython",
    "version": 3
   },
   "file_extension": ".py",
   "mimetype": "text/x-python",
   "name": "python",
   "nbconvert_exporter": "python",
   "pygments_lexer": "ipython3",
   "version": "3.8.5"
  }
 },
 "nbformat": 4,
 "nbformat_minor": 5
}
