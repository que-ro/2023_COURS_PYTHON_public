{
 "cells": [
  {
   "attachments": {},
   "cell_type": "markdown",
   "id": "c2c87e10",
   "metadata": {},
   "source": [
    "<center><h1>TD: Programmation orientée objet - part 1</h1></center>\n",
    "\n",
    "## Exercice 1\n",
    "1. Définissez une classe Book avec les attributs suivants : title, author (Nom complet), price.\n",
    "2. Définissez la méthode view() qui retourne les informations d'une instance/objet Book sous forme de string.\n",
    "3. Ecrivez un programme pour tester la classe Book\n"
   ]
  },
  {
   "cell_type": "code",
   "execution_count": null,
   "id": "3c4b8f93",
   "metadata": {},
   "outputs": [],
   "source": []
  },
  {
   "cell_type": "markdown",
   "id": "appointed-growing",
   "metadata": {},
   "source": [
    "## Exercice 2:\n",
    "1. Définissez la classe Circle avec l'attribut: radius.\n",
    "2. Définissez la méthode area() qui returne l'aire du cercle.\n",
    "3. Définissez la méthode circumference() qui retourne le périmètre du cercle.\n",
    "4. Testez la classe en instanciant deux cercles et en utilisant les méthodes.\n",
    "\n",
    "<b>Note</b>: Utilisez la valeur π du module math"
   ]
  },
  {
   "cell_type": "code",
   "execution_count": null,
   "id": "serious-scoop",
   "metadata": {},
   "outputs": [],
   "source": []
  },
  {
   "attachments": {},
   "cell_type": "markdown",
   "id": "4d48c626",
   "metadata": {},
   "source": [
    "## Exercice 3\n",
    "1. Définissez une classe Person avec les attributs suivants : name, country, date_of_birth.\n",
    "2. Définissez la méthode calculate_age() qui retourne l'âge de la personne. Utilisez la classe date du module datetime\n",
    "3. Ecrivez un programme pour tester la classe Person et la méthode calculate_age()."
   ]
  },
  {
   "cell_type": "code",
   "execution_count": null,
   "id": "43a04236",
   "metadata": {},
   "outputs": [],
   "source": [
    "from datetime import date\n",
    "\n",
    "# Example of how you can use the date class\n",
    "random_date = date(2021, 6, 12)\n",
    "print(random_date)\n",
    "print(random_date.day)\n",
    "print(random_date.month)\n",
    "print(random_date.year)\n",
    "\n",
    "print(\"---\")\n",
    "\n",
    "print(date.today())"
   ]
  },
  {
   "cell_type": "code",
   "execution_count": null,
   "id": "f2f75643",
   "metadata": {},
   "outputs": [],
   "source": []
  },
  {
   "cell_type": "markdown",
   "id": "1f9b5dc9",
   "metadata": {},
   "source": [
    "4. Affichez les méthodes et les attributs de la classe date."
   ]
  },
  {
   "cell_type": "code",
   "execution_count": null,
   "id": "66639c4b",
   "metadata": {},
   "outputs": [],
   "source": []
  },
  {
   "cell_type": "markdown",
   "id": "comprehensive-failure",
   "metadata": {},
   "source": [
    "## Exercice 4:\n",
    "1. Définissez la classe Song avec les attributs: title, artist, et duration.\n",
    "2. Définissez la classe Playlist avec les attributs: name et songs (une liste).\n",
    "3. Dans la classe Playlist, ajoutez les méthodes:  \n",
    "    3.1 add_song(song) pour ajouter une chanson à la playlist.  \n",
    "    3.2 remove_song(title) pour retirer une chanson de la playlist en utilisant son titre.  \n",
    "    3.3 total_duration() pour retourner la durée totale des chansons dans la playlist.  \n",
    "4. Testez les classes en créant une instance de Playlist, en ajoutant et supprimant des chansons à l'aide des méthodes add_song(song) et remove_song(title). Puis, obtenez la durée totale de la playlist."
   ]
  },
  {
   "cell_type": "code",
   "execution_count": null,
   "id": "ultimate-melbourne",
   "metadata": {},
   "outputs": [],
   "source": []
  },
  {
   "cell_type": "markdown",
   "id": "sorted-prospect",
   "metadata": {},
   "source": [
    "## Exercice 5:\n",
    "1. Définissez une classe Item avec les attributs: name, price.\n",
    "2. Définissez une classe ShoppingCart avec un attribut items (une liste).\n",
    "3. Ajoutez des méthodes à ShoppingCart:  \n",
    "    3.1 add_item(item) pour ajouter un article au panier.  \n",
    "    3.2 remove_item(item_name) pour retirer un article par son nom.  \n",
    "    3.3 total_price() pour calculer le prix total des articles dans le panier.  \n",
    "4. Écrivez un programme pour simuler des achats. Ajoutez plusieurs articles au panier, retirez un article, puis imprimez le prix total."
   ]
  },
  {
   "cell_type": "code",
   "execution_count": null,
   "id": "attended-latter",
   "metadata": {},
   "outputs": [],
   "source": []
  },
  {
   "attachments": {},
   "cell_type": "markdown",
   "id": "5a6e5ece",
   "metadata": {},
   "source": [
    "## Exercice 6:\n",
    "1. Définir une classe Point avec les attributs suivants : x, y.\n",
    "2. Définir la méthode show() qui affiche les coordonnées du point.\n",
    "3. Définir la méthode move() qui modifie les coordonnées.\n",
    "4. Définir la méthode distance_from() qui calcule la distance entre le point appelant cette méthode à un autre point. Importez le module math et utilisez la méthode sqrt.\n",
    "\n",
    "Rappel: <br/>\n",
    "$$ d = \\sqrt{(x_2 - x_1)^2 + (y_2 - y_1)^2} $$"
   ]
  },
  {
   "cell_type": "code",
   "execution_count": null,
   "id": "6ab625e2",
   "metadata": {},
   "outputs": [],
   "source": [
    "class Point:\n",
    "    pass"
   ]
  },
  {
   "cell_type": "code",
   "execution_count": null,
   "id": "6efba836",
   "metadata": {},
   "outputs": [],
   "source": [
    "# This is an example of code that should run once the class Point\n",
    "# is completed\n",
    "point1 = Point(2, 3)\n",
    "point2 = Point(3, 3)\n",
    "point1.show()\n",
    "point2.show()\n",
    "\n",
    "point1.move(10, -10)\n",
    "point1.show()\n",
    "point2.show()\n",
    "\n",
    "print(f\"distance between point1 and point2 : {point1.distance_from(point2)}\")"
   ]
  },
  {
   "cell_type": "markdown",
   "id": "exterior-match",
   "metadata": {},
   "source": [
    "## Exercice 7:\n",
    "1. Définissez une classe User avec les attributs : username, password.\n",
    "2. Définissez une classe System avec un attribut users (une liste).\n",
    "3. Ajoutez des méthodes à System :  \n",
    "    3.1. register(username, password) pour créer et ajouter un nouvel utilisateur.  \n",
    "    3.2. login(username, password) pour vérifier si le username et le password correspondent à un utilisateur enregistré.  \n",
    "4. Écrivez un programme où les utilisateurs peuvent s'inscrire et se connecter. Vérifiez le processus en vous connectant avec un utilisateur enregistré."
   ]
  },
  {
   "cell_type": "code",
   "execution_count": null,
   "id": "spiritual-jesus",
   "metadata": {},
   "outputs": [],
   "source": []
  },
  {
   "cell_type": "markdown",
   "id": "4f19dd9f",
   "metadata": {},
   "source": [
    "## Exercice 8:\n",
    "\n",
    "1. Codez une classe myString permettant de doter les chaines de caractères des méthodes append() et pop() faisant les mêmes opérations que celles des listes. <br/><br/> Exemple si on crée des chaines via l'instanciation s1 = myString(\"Hello\") et s2 = \"bonjour\", et on lui applique les méthodes : print(s1.append(\" world !\")) affiche 'Hello world !' print(s2.pop(2)) affiche 'bojour'"
   ]
  },
  {
   "cell_type": "code",
   "execution_count": null,
   "id": "a6123b78",
   "metadata": {},
   "outputs": [],
   "source": []
  },
  {
   "cell_type": "markdown",
   "id": "modern-cholesterol",
   "metadata": {},
   "source": [
    "## Exercice 9:\n",
    "1. Définissez une classe Resistor avec les attributs : resistance\n",
    "2. Dans la classe Resistor, ajoutez les méthodes :  \n",
    "    2.1. set_resistance(value): définit la valeur de la résistance.  \n",
    "    2.2. get_resistance(): retourne la valeur de la résistance.  \n",
    "    2.3. calculate_voltage(current): retourne la tension à travers le résistor selon la loi d'Ohm V=IR.  \n",
    "3. Définissez une classe Circuit avec un attribut resistors : une liste pour stocker les résistors ajoutés au circuit.\n",
    "4. Dans la classe Circuit, ajoutez les méthodes :  \n",
    "    4.1. add_resistor(resistor)  \n",
    "    4.2. get_total_resistance(): suppose que tous les résistors sont en série.  \n",
    "    4.3. calculate_total_voltage(current)  \n",
    "5. Écrivez un programme pour simuler l'ajout de résistors à un circuit, calculer la résistance totale et la tension totale pour un courant donné."
   ]
  },
  {
   "cell_type": "code",
   "execution_count": null,
   "id": "intended-landing",
   "metadata": {},
   "outputs": [],
   "source": []
  },
  {
   "cell_type": "markdown",
   "id": "crucial-mother",
   "metadata": {},
   "source": [
    "## Exercice 10:\n",
    "1. Définissez une classe nommée Rectangle avec les attributs : height et base. Utilisez l'encapsulation pour vous assurer que ces attributs ne soient pas accessibles à l'extérieur de la classe. \n",
    "2. Créez les méthodes set_height(height) et set_base(base) qui contrôlent la définition de la hauteur et de la base et s'assurent également que des valeurs négatives ne peuvent pas être définies.\n",
    "3. Redéfinissez votre constructeur pour qu'il utilise les méthodes set_height(height) et set_base(base) pour empêcher les valeurs négatives lors de l'instanciation. \n",
    "4. Créez les méthodes area() et perimeter().\n",
    "5. Rédigez un programme pour tester la classe."
   ]
  },
  {
   "cell_type": "code",
   "execution_count": null,
   "id": "published-world",
   "metadata": {},
   "outputs": [],
   "source": []
  },
  {
   "cell_type": "markdown",
   "id": "italic-novelty",
   "metadata": {},
   "source": [
    "## Exercice 11: Stock d'un produit\n",
    "1. Définissez une classe Product avec des attributs name, price et stock.   \n",
    "    1.1. Lors de l'instanciation, faites en sorte que stock ne soit pas négatif.   \n",
    "    1.2. Utilisez l'encapsulation pour empêcher la modification directe de stock, name et price de l'extérieur de la classe.  \n",
    "2. Créez les méthodes add_stock(quantity) et remove_stock(quantity) pour gérer le stock. Assurez-vous que la quantité ne soit pas négative et que le stock ne devienne jamais négatif.\n",
    "3. Créez une méthode display_stock() pour voir le stock actuel.\n",
    "4. Rédigez un programme pour tester la classe."
   ]
  },
  {
   "cell_type": "code",
   "execution_count": null,
   "id": "alert-wayne",
   "metadata": {},
   "outputs": [],
   "source": []
  },
  {
   "cell_type": "markdown",
   "id": "basic-manitoba",
   "metadata": {},
   "source": [
    "## Exercice 12: Gestionnaire de mot de passe\n",
    "1. Définissez une classe PasswordManager avec un attribut password. Utilisez l'encapsulation pour s'assurer que le mot de passe ne peut pas être directement lu ou modifié de l'extérieur de la classe.\n",
    "2. Créez une méthode check_password(password) qui renvoie True si le mdp fourni est correct, sinon False.\n",
    "3. Créez une méthode change_password(old_password, new_password) qui permet de changer le mot de passe seulement si l'ancien mdp fourni est correct.\n",
    "4. Rédigez un programme pour tester la classe."
   ]
  },
  {
   "cell_type": "code",
   "execution_count": null,
   "id": "addressed-sullivan",
   "metadata": {},
   "outputs": [],
   "source": []
  },
  {
   "cell_type": "markdown",
   "id": "amateur-decrease",
   "metadata": {},
   "source": [
    "## Exercice 13:\n",
    "1. Créez une classe nommée Book avec les attributs title et author\n",
    "2. Ajoutez une méthode info() qui affiche le titre et l'auteur du livre.\n",
    "3. Créez une classe nommée AudioBook qui hérite de Book. Cette classe aura un attribut supplémentaire: duration (utilisez super())\n",
    "4. Ajoutez une nouvelle méthode dans AudioBook: audio_info() qui appelle la méthode info() de la classe Book (utilisez super()) et affiche ensuite la durée du livre audio.\n",
    "5. Créez une instance de Book avec un titre et un auteur de votre choix, et appelez sa méthode info().\n",
    "6. Créez une instance de AudioBook avec un titre, un auteur et une durée de votre choix. Appelez ses méthodes info() et audio_info()."
   ]
  },
  {
   "cell_type": "code",
   "execution_count": null,
   "id": "broadband-stroke",
   "metadata": {},
   "outputs": [],
   "source": []
  },
  {
   "cell_type": "markdown",
   "id": "contemporary-oklahoma",
   "metadata": {},
   "source": [
    "## Exercice 14: \n",
    "\n",
    "1. Créez une classe Rectangle avec les attributs: length et width.\n",
    "2. Définissez une méthode area() qui retourne l'aire du rectangle\n",
    "3. Créez une classe RectangularParallelepipede qui appelera dans son constructeur (__init__) le constructeur de Rectangle (pensez à super()). Ajoutez à RectangularParallelepipede l'attribut height.\n",
    "4. Redéfinissez la méthode area() dans RectangularParallelepipede\n",
    "5. Ajoutez une méthode volume() qui retourne le volume.\n",
    "6. Créez un rectangle avec des dimensions de votre choix et affichez son aire.\n",
    "7. Créez un rectangle parallélépipède avec des dimensions de votre choix, affichez sa surface totale et son volume."
   ]
  },
  {
   "cell_type": "code",
   "execution_count": null,
   "id": "controlling-indiana",
   "metadata": {},
   "outputs": [],
   "source": []
  },
  {
   "cell_type": "markdown",
   "id": "identical-knight",
   "metadata": {},
   "source": [
    "## Exercice 15: \n",
    "1. Créez une classe ElectronicDevice avec des attributs brand, power_supply et is_on qui est par défault False.\n",
    "2. Ajoutez une méthode turn_on() et turn_off() à la classe ElectronicDevice\n",
    "3. Créez une classe Television qui hérite de ElectronicDevice et ajoute des attributs screen_size, resolution et channel.\n",
    "4. Ajoutez une méthode change_channel() à la classe Television\n",
    "5. Créez une classe Radio qui hérite de ElectronicDevice et ajoute un attribut frequency.\n",
    "6. Ajoutez une méthode change_frequency() à la classe Radio\n",
    "7. Créez un script pour tester ces classes. Observez l'accessibilité des différentes méthodes et attributs sur différentes instances des classes."
   ]
  },
  {
   "cell_type": "code",
   "execution_count": null,
   "id": "incoming-fleece",
   "metadata": {},
   "outputs": [],
   "source": []
  },
  {
   "cell_type": "markdown",
   "id": "approved-vault",
   "metadata": {},
   "source": [
    "## Exercice 76: E-Commerce System\n",
    "1. Créez une classe Product avec des attributs product_id, name, price, et stock_quantity.  \n",
    "    1.1. Ajoutez une méthode apply_discount(discount_percentage) qui réduit le prix du produit selon le pourcentage donné.  \n",
    "    1.2. Ajoutez une méthode restock(amount) pour augmenter la quantité en stock du produit.  \n",
    "    1.3. Ajoutez une méthode purchase(amount) pour diminuer la quantité en stock du produit et retourner le prix total. Si le stock n'est pas suffisant, la méthode doit retourner la valeur -1.\n",
    "2. Créez une classe Clothing qui hérite de Product.  \n",
    "    2.1. Ajoutez des attributs supplémentaires: size, material, et gender.  \n",
    "    2.2. Ajoutez une méthode info() qui retourne les détails de l'article de vêtement.  \n",
    "3. Créez une classe Electronic qui hérite de Product.  \n",
    "    3.1. Ajoutez des attributs supplémentaires: brand, warranty_period (int représentant année), et end_of_warranty (date) spécifié par défaut à None.  \n",
    "    3.2. Ajoutez une méthode register_warranty() qui retourne la date de fin de garantie basée sur la date actuelle. (utilisez warranty_period et utilisez le module timedelta)\n",
    "    3.3. Redéfinissez la méthode purchase() pour qu'elle utilise la méthode register_warranty()\n",
    "4. Créez une classe Store.  \n",
    "    4.1. Ajoutez un attribut products (une liste qui contient tous les produits).  \n",
    "    4.2. Ajoutez une méthode add_product(product) pour ajouter un produit à l'inventaire du magasin.  \n",
    "    4.3. Ajoutez une méthode search_by_name(name) pour rechercher un produit par son nom.  \n",
    "    4.4. Ajoutez une méthode process_purchase(product_id, amount) pour faciliter l'achat d'un produit en une certaine quantité. Si le stock n'est pas suffisant, affichez un message. Si la quantité est suffisante, procédez à l'achat en utilisant la méthode de Purchase et affichez le prix total.\n",
    "5. Créez un script pour tester ces classes dans le contexte d'un magasin en ligne \"Tech & Threads\".  \n",
    "    5.1. Initialisation: Commencez par créer un magasin appelé \"Tech & Threads\".  \n",
    "    5.2. Ajout des produits: Ajoutez quelques articles de vêtement et produits électroniques au magasin, comme une chemise, un jean, un smartphone et un casque.  \n",
    "    5.3. Recherche et affichage: Recherchez un produit par son nom (par exemple, \"chemise\") et affichez ses détails.  \n",
    "    5.4. Transactions: Achetez des produits.\n",
    "    5.5. Gestion des produits: Appliquez une réduction de 20% sur le smartphone. Puis, rajoutez du stock pour le jean.    \n",
    "    5.7. Conclusion: Affichez l'inventaire total du magasin après toutes les opérations.  "
   ]
  },
  {
   "cell_type": "code",
   "execution_count": null,
   "id": "auburn-guidance",
   "metadata": {},
   "outputs": [],
   "source": [
    "# Example to how to use timedelta\n",
    "from datetime import datetime, timedelta\n",
    "period_in_years = 2\n",
    "today = datetime.now()\n",
    "date_after_period = today + timedelta(days=period_in_years*365)\n",
    "print(date_after_period)"
   ]
  },
  {
   "cell_type": "code",
   "execution_count": null,
   "id": "inner-bacon",
   "metadata": {},
   "outputs": [],
   "source": []
  },
  {
   "cell_type": "code",
   "execution_count": null,
   "id": "pretty-occurrence",
   "metadata": {},
   "outputs": [],
   "source": []
  }
 ],
 "metadata": {
  "kernelspec": {
   "display_name": "Python 3",
   "language": "python",
   "name": "python3"
  },
  "language_info": {
   "codemirror_mode": {
    "name": "ipython",
    "version": 3
   },
   "file_extension": ".py",
   "mimetype": "text/x-python",
   "name": "python",
   "nbconvert_exporter": "python",
   "pygments_lexer": "ipython3",
   "version": "3.8.5"
  }
 },
 "nbformat": 4,
 "nbformat_minor": 5
}
