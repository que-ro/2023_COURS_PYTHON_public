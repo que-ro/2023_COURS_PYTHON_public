{
 "cells": [
  {
   "cell_type": "markdown",
   "id": "c2c87e10",
   "metadata": {},
   "source": [
    "<center><h1>TD: Programmation orientée objet - part 1</h1></center>\n",
    "\n",
    "## Exercice 1\n",
    "1. Définissez une classe Book avec les attributs suivants : title, author (Nom complet), price.\n",
    "2. Définissez la méthode view() qui retourne les informations d'une instance/objet Book sous forme de string.\n",
    "3. Ecrivez un programme pour tester la classe Book\n"
   ]
  },
  {
   "cell_type": "code",
   "execution_count": 2,
   "id": "3c4b8f93",
   "metadata": {},
   "outputs": [
    {
     "name": "stdout",
     "output_type": "stream",
     "text": [
      "Book title Projet dernière chance | Author : Andy Weir | Price : 20$\n"
     ]
    }
   ],
   "source": [
    "class Book:\n",
    "    \n",
    "    # Q1.\n",
    "    def __init__(self, title, author, price):\n",
    "        self.title = title\n",
    "        self.author = author\n",
    "        self.price = price\n",
    "\n",
    "    # Q2.\n",
    "    def view(self):\n",
    "        print(f\"Book title {self.title} | Author : {self.author} | Price : {self.price}\")\n",
    "        \n",
    "\n",
    "# Q3. Testing script\n",
    "book = Book(\n",
    "    title=\"Projet dernière chance\",\n",
    "    author=\"Andy Weir\",\n",
    "    price=\"20$\"\n",
    ")\n",
    "\n",
    "book.view()"
   ]
  },
  {
   "cell_type": "markdown",
   "id": "appointed-growing",
   "metadata": {},
   "source": [
    "## Exercice 2:\n",
    "1. Définissez la classe Circle avec l'attribut: radius.\n",
    "2. Définissez la méthode area() qui returne l'aire du cercle.\n",
    "3. Définissez la méthode circumference() qui retourne le périmètre du cercle.\n",
    "4. Testez la classe en instanciant deux cercles et en utilisant les méthodes.\n",
    "\n",
    "<b>Note</b>: Utilisez la valeur π du module math"
   ]
  },
  {
   "cell_type": "code",
   "execution_count": 3,
   "id": "serious-scoop",
   "metadata": {},
   "outputs": [
    {
     "name": "stdout",
     "output_type": "stream",
     "text": [
      "Circle1: aire 113.09733552923255 | circonférence 37.69911184307752\n",
      "Circle1: aire 50.26548245743669 | circonférence 25.132741228718345\n"
     ]
    }
   ],
   "source": [
    "import math\n",
    "\n",
    "\n",
    "class Circle:\n",
    "    \n",
    "    # Q1.\n",
    "    def __init__(self, arg_radius):\n",
    "        self.radius = arg_radius\n",
    "        \n",
    "    # Q2.\n",
    "    def area(self):\n",
    "        return math.pi * (self.radius ** 2)\n",
    "    \n",
    "    # Q3.\n",
    "    def circumference(self):\n",
    "        return 2 * math.pi * self.radius\n",
    "    \n",
    "    \n",
    "# Q4. Testing script\n",
    "circle1 = Circle(6)\n",
    "circle2= Circle(4)\n",
    "\n",
    "print(f\"Circle1: aire {circle1.area()} | circonférence {circle1.circumference()}\")\n",
    "print(f\"Circle1: aire {circle2.area()} | circonférence {circle2.circumference()}\")"
   ]
  },
  {
   "cell_type": "markdown",
   "id": "4d48c626",
   "metadata": {},
   "source": [
    "## Exercice 3\n",
    "1. Définissez une classe Person avec les attributs suivants : name, country, date_of_birth.\n",
    "2. Définissez la méthode calculate_age() qui retourne l'âge de la personne. Utilisez la classe date du module datetime\n",
    "3. Ecrivez un programme pour tester la classe Person et la méthode calculate_age()."
   ]
  },
  {
   "cell_type": "code",
   "execution_count": null,
   "id": "43a04236",
   "metadata": {},
   "outputs": [],
   "source": [
    "from datetime import date\n",
    "\n",
    "# Example of how you can use the date class\n",
    "random_date = date(2021, 6, 12)\n",
    "print(random_date)\n",
    "print(random_date.day)\n",
    "print(random_date.month)\n",
    "print(random_date.year)\n",
    "\n",
    "print(\"---\")\n",
    "\n",
    "print(date.today())"
   ]
  },
  {
   "cell_type": "code",
   "execution_count": 5,
   "id": "f2f75643",
   "metadata": {},
   "outputs": [
    {
     "name": "stdout",
     "output_type": "stream",
     "text": [
      "Âge personne 1: 35 ans\n"
     ]
    }
   ],
   "source": [
    "from datetime import date\n",
    "\n",
    "\n",
    "class Person:\n",
    "    \n",
    "    # Q1.\n",
    "    def __init__(self, name:str, country:str, date_of_birth:date):\n",
    "        self.name = name\n",
    "        self.country = country\n",
    "        self.date_of_birth = date_of_birth\n",
    "    \n",
    "    # Q2.\n",
    "    def calculate_age(self):\n",
    "        date_now = date.today()\n",
    "        age = date_now.year - self.date_of_birth.year\n",
    "        return age\n",
    "    \n",
    "\n",
    "# Q3. Testing script\n",
    "person1 = Person(name=\"Aurélien\", country=\"France\", date_of_birth=date(1988, 10, 18))\n",
    "print(f\"Âge personne 1: {person1.calculate_age()} ans\")"
   ]
  },
  {
   "cell_type": "markdown",
   "id": "1f9b5dc9",
   "metadata": {},
   "source": [
    "4. Affichez les méthodes et les attributs de la classe date."
   ]
  },
  {
   "cell_type": "code",
   "execution_count": 6,
   "id": "66639c4b",
   "metadata": {},
   "outputs": [
    {
     "name": "stdout",
     "output_type": "stream",
     "text": [
      "['__add__', '__class__', '__delattr__', '__dir__', '__doc__', '__eq__', '__format__', '__ge__', '__getattribute__', '__gt__', '__hash__', '__init__', '__init_subclass__', '__le__', '__lt__', '__ne__', '__new__', '__radd__', '__reduce__', '__reduce_ex__', '__repr__', '__rsub__', '__setattr__', '__sizeof__', '__str__', '__sub__', '__subclasshook__', 'ctime', 'day', 'fromisocalendar', 'fromisoformat', 'fromordinal', 'fromtimestamp', 'isocalendar', 'isoformat', 'isoweekday', 'max', 'min', 'month', 'replace', 'resolution', 'strftime', 'timetuple', 'today', 'toordinal', 'weekday', 'year']\n"
     ]
    }
   ],
   "source": [
    "print(dir(date))"
   ]
  },
  {
   "cell_type": "code",
   "execution_count": 7,
   "id": "appropriate-plaintiff",
   "metadata": {},
   "outputs": [
    {
     "name": "stdout",
     "output_type": "stream",
     "text": [
      "__add__ | type : <class 'wrapper_descriptor'>\n",
      "__class__ | type : <class 'type'>\n",
      "__delattr__ | type : <class 'wrapper_descriptor'>\n",
      "__dir__ | type : <class 'method_descriptor'>\n",
      "__doc__ | type : <class 'str'>\n",
      "__eq__ | type : <class 'wrapper_descriptor'>\n",
      "__format__ | type : <class 'method_descriptor'>\n",
      "__ge__ | type : <class 'wrapper_descriptor'>\n",
      "__getattribute__ | type : <class 'wrapper_descriptor'>\n",
      "__gt__ | type : <class 'wrapper_descriptor'>\n",
      "__hash__ | type : <class 'wrapper_descriptor'>\n",
      "__init__ | type : <class 'wrapper_descriptor'>\n",
      "__init_subclass__ | type : <class 'builtin_function_or_method'>\n",
      "__le__ | type : <class 'wrapper_descriptor'>\n",
      "__lt__ | type : <class 'wrapper_descriptor'>\n",
      "__ne__ | type : <class 'wrapper_descriptor'>\n",
      "__new__ | type : <class 'builtin_function_or_method'>\n",
      "__radd__ | type : <class 'wrapper_descriptor'>\n",
      "__reduce__ | type : <class 'method_descriptor'>\n",
      "__reduce_ex__ | type : <class 'method_descriptor'>\n",
      "__repr__ | type : <class 'wrapper_descriptor'>\n",
      "__rsub__ | type : <class 'wrapper_descriptor'>\n",
      "__setattr__ | type : <class 'wrapper_descriptor'>\n",
      "__sizeof__ | type : <class 'method_descriptor'>\n",
      "__str__ | type : <class 'wrapper_descriptor'>\n",
      "__sub__ | type : <class 'wrapper_descriptor'>\n",
      "__subclasshook__ | type : <class 'builtin_function_or_method'>\n",
      "ctime | type : <class 'method_descriptor'>\n",
      "day | type : <class 'getset_descriptor'>\n",
      "fromisocalendar | type : <class 'builtin_function_or_method'>\n",
      "fromisoformat | type : <class 'builtin_function_or_method'>\n",
      "fromordinal | type : <class 'builtin_function_or_method'>\n",
      "fromtimestamp | type : <class 'builtin_function_or_method'>\n",
      "isocalendar | type : <class 'method_descriptor'>\n",
      "isoformat | type : <class 'method_descriptor'>\n",
      "isoweekday | type : <class 'method_descriptor'>\n",
      "max | type : <class 'datetime.date'>\n",
      "min | type : <class 'datetime.date'>\n",
      "month | type : <class 'getset_descriptor'>\n",
      "replace | type : <class 'method_descriptor'>\n",
      "resolution | type : <class 'datetime.timedelta'>\n",
      "strftime | type : <class 'method_descriptor'>\n",
      "timetuple | type : <class 'method_descriptor'>\n",
      "today | type : <class 'builtin_function_or_method'>\n",
      "toordinal | type : <class 'method_descriptor'>\n",
      "weekday | type : <class 'method_descriptor'>\n",
      "year | type : <class 'getset_descriptor'>\n"
     ]
    }
   ],
   "source": [
    "for name in dir(date):\n",
    "    print(f\"{name} | type : {type(getattr(date, name))}\")"
   ]
  },
  {
   "cell_type": "markdown",
   "id": "comprehensive-failure",
   "metadata": {},
   "source": [
    "## Exercice 4:\n",
    "1. Définissez la classe Song avec les attributs: title, artist, et duration.\n",
    "2. Définissez la classe Playlist avec les attributs: name et songs (une liste).\n",
    "3. Dans la classe Playlist, ajoutez les méthodes:  \n",
    "    3.1 add_song(song) pour ajouter une chanson à la playlist.  \n",
    "    3.2 remove_song(title) pour retirer une chanson de la playlist en utilisant son titre.  \n",
    "    3.3 total_duration() pour retourner la durée totale des chansons dans la playlist.  \n",
    "4. Testez les classes en créant une instance de Playlist, en ajoutant et supprimant des chansons à l'aide des méthodes add_song(song) et remove_song(title). Puis, obtenez la durée totale de la playlist."
   ]
  },
  {
   "cell_type": "code",
   "execution_count": 12,
   "id": "ultimate-melbourne",
   "metadata": {},
   "outputs": [
    {
     "name": "stdout",
     "output_type": "stream",
     "text": [
      "liste des durées: [4, 6, 5]\n",
      "Total duration of playlist: 15\n",
      "liste des durées: [6, 5]\n",
      "Total duration of playlist after remove: 11\n"
     ]
    }
   ],
   "source": [
    "# Q1.\n",
    "class Song:\n",
    "\n",
    "    def __init__(self, title:str, artist:str, duration:int):\n",
    "        self.title = title\n",
    "        self.artist = artist\n",
    "        self.duration = duration\n",
    "        \n",
    "\n",
    "# Q2.\n",
    "class Playlist:\n",
    "    \n",
    "    def __init__(self, name, songs=[]):\n",
    "        self.name = name\n",
    "        self.songs = songs\n",
    "    \n",
    "    # Q3.\n",
    "    def add_song(self, song:Song):\n",
    "        self.songs.append(song)\n",
    "        \n",
    "    def remove_song(self, title:str):\n",
    "        for song in self.songs:\n",
    "            if song.title == title:\n",
    "                self.songs.remove(song)\n",
    "                break;\n",
    "                \n",
    "    def total_duration(self):\n",
    "        duration_list = [song.duration for song in self.songs]\n",
    "        print(f\"liste des durées: {duration_list}\")\n",
    "        return sum(duration_list)\n",
    "              \n",
    "\n",
    "# Q4. Scripting test\n",
    "song1 = Song(title=\"Space song\",artist=\"Beach House\",duration=4)\n",
    "song2 = Song(title=\"Night Call\", artist=\"Kavinsky\", duration=6)\n",
    "song3 = Song(title=\"Bohemian Rapshody\",artist=\"Queen\",duration=5)\n",
    "\n",
    "# Two manner to instantiate with or without songs\n",
    "songs = [song1, song2, song3]\n",
    "my_playlist = Playlist(name = \"Ma Playlist\",songs = songs)\n",
    "\n",
    "# Or instantiate with an empty list\n",
    "my_playlist = Playlist(name = \"Ma Playlist\",)\n",
    "my_playlist.add_song(song1)\n",
    "my_playlist.add_song(song2)\n",
    "my_playlist.add_song(song3)\n",
    "\n",
    "print(f\"Total duration of playlist: {my_playlist.total_duration()}\")\n",
    "\n",
    "my_playlist.remove_song(\"Space song\")\n",
    "print(f\"Total duration of playlist after remove: {my_playlist.total_duration()}\")\n",
    "        \n",
    "        \n",
    "        \n",
    "# Note: pour l'argument songs du constructeur Playlist\n",
    "# il y a une valeur par défaut (voir __init__) qui est\n",
    "# une liste vide [], d'où on a pas besoin de préciser l'argument\n",
    "playlist1 = Playlist(\n",
    "    name = \"Playlist1\",\n",
    "    songs=[]\n",
    ")\n",
    "\n",
    "playlist1 = Playlist(\n",
    "    name = \"Playlist1\",\n",
    ")"
   ]
  },
  {
   "cell_type": "markdown",
   "id": "sorted-prospect",
   "metadata": {},
   "source": [
    "## Exercice 5:\n",
    "1. Définissez une classe Item avec les attributs: name, price.\n",
    "2. Définissez une classe ShoppingCart avec un attribut items (une liste).\n",
    "3. Ajoutez des méthodes à ShoppingCart:  \n",
    "    3.1 add_item(item) pour ajouter un article au panier.  \n",
    "    3.2 remove_item(item_name) pour retirer un article par son nom.  \n",
    "    3.3 total_price() pour calculer le prix total des articles dans le panier.  \n",
    "4. Écrivez un programme pour simuler des achats. Ajoutez plusieurs articles au panier, retirez un article, puis imprimez le prix total."
   ]
  },
  {
   "cell_type": "code",
   "execution_count": 15,
   "id": "attended-latter",
   "metadata": {},
   "outputs": [
    {
     "name": "stdout",
     "output_type": "stream",
     "text": [
      "Prix total panier: 1.5\n",
      "Prix total panier après avoir retiré Banane: 1.0\n"
     ]
    }
   ],
   "source": [
    "# Q1.\n",
    "class Item:\n",
    "    \n",
    "    def __init__(self, name, price):\n",
    "        self.name = name\n",
    "        self.price = price\n",
    "        \n",
    "# Q2.        \n",
    "class ShoppingCart:\n",
    "    \n",
    "    def __init__(self, items=[]):\n",
    "        self.items = items\n",
    "    \n",
    "    # Q3.\n",
    "    def add_item(self, item:Item):\n",
    "        self.items.append(item)\n",
    "        \n",
    "    def remove_item(self, item_name:str):\n",
    "        for item in self.items:\n",
    "            if item.name == item_name:\n",
    "                self.items.remove(item)\n",
    "                \n",
    "    def total_price(self):\n",
    "        list_prices = [item.price for item in self.items]\n",
    "        return sum(list_prices)\n",
    "    \n",
    "    \n",
    "# Q4. Testing script\n",
    "item1 = Item(name=\"Pomme\", price=0.7)\n",
    "item2 = Item(name=\"Banane\", price=0.5)\n",
    "item3 = Item(name=\"Patate\", price=0.3)\n",
    "\n",
    "some_items = [item1, item2]\n",
    "shopping_cart = ShoppingCart(items=some_items)\n",
    "shopping_cart.add_item(item3)\n",
    "\n",
    "print(f\"Prix total panier: {shopping_cart.total_price()}\")\n",
    "\n",
    "shopping_cart.remove_item(\"Banane\")\n",
    "print(f\"Prix total panier après avoir retiré Banane: {shopping_cart.total_price()}\")\n"
   ]
  },
  {
   "cell_type": "markdown",
   "id": "5a6e5ece",
   "metadata": {},
   "source": [
    "## Exercice 6:\n",
    "1. Définir une classe Point avec les attributs suivants : x, y.\n",
    "2. Définir la méthode show() qui affiche les coordonnées du point.\n",
    "3. Définir la méthode move() qui modifie les coordonnées.\n",
    "4. Définir la méthode distance_from() qui calcule la distance entre le point appelant cette méthode à un autre point. Importez le module math et utilisez la méthode sqrt.\n",
    "\n",
    "Rappel: <br/>\n",
    "$$ d = \\sqrt{(x_2 - x_1)^2 + (y_2 - y_1)^2} $$"
   ]
  },
  {
   "cell_type": "code",
   "execution_count": 17,
   "id": "6ab625e2",
   "metadata": {},
   "outputs": [],
   "source": [
    "import math\n",
    "\n",
    "\n",
    "# Q1.\n",
    "class Point:\n",
    "    \n",
    "    def __init__(self, x_arg, y_arg):\n",
    "        self.x = x_arg\n",
    "        self.y = y_arg\n",
    "    \n",
    "    # Q2.\n",
    "    def show(self):\n",
    "        print(f\"Coordonnées x : {self.x} | y : {self.y}\")\n",
    "    \n",
    "    # Q3.\n",
    "    def move(self, x_arg, y_arg):\n",
    "        self.x += x_arg\n",
    "        self.y += y_arg\n",
    "        \n",
    "    def distance_from(self, other_point):\n",
    "        return math.sqrt((other_point.x - self.x) ** 2 \n",
    "                + (other_point.y - self.y) ** 2)\n",
    "        \n",
    "        "
   ]
  },
  {
   "cell_type": "code",
   "execution_count": 18,
   "id": "6efba836",
   "metadata": {},
   "outputs": [
    {
     "name": "stdout",
     "output_type": "stream",
     "text": [
      "Coordonnées x : 2 | y : 3\n",
      "Coordonnées x : 3 | y : 3\n",
      "Coordonnées x : 12 | y : -7\n",
      "Coordonnées x : 3 | y : 3\n",
      "distance between point1 and point2 : 13.45362404707371\n"
     ]
    }
   ],
   "source": [
    "# This is an example of code that should run once the class Point\n",
    "# is completed\n",
    "point1 = Point(2, 3)\n",
    "point2 = Point(3, 3)\n",
    "point1.show()\n",
    "point2.show()\n",
    "\n",
    "point1.move(10, -10)\n",
    "point1.show()\n",
    "point2.show()\n",
    "\n",
    "print(f\"distance between point1 and point2 : {point1.distance_from(point2)}\")"
   ]
  },
  {
   "cell_type": "markdown",
   "id": "exterior-match",
   "metadata": {},
   "source": [
    "## Exercice 7:\n",
    "1. Définissez une classe User avec les attributs : username, password.\n",
    "2. Définissez une classe System avec un attribut users (une liste).\n",
    "3. Ajoutez des méthodes à System :  \n",
    "    3.1. register(username, password) pour créer et ajouter un nouvel utilisateur.  \n",
    "    3.2. login(username, password) pour vérifier si le username et le password correspondent à un utilisateur enregistré.  \n",
    "4. Écrivez un programme où les utilisateurs peuvent s'inscrire et se connecter. Vérifiez le processus en vous connectant avec un utilisateur enregistré."
   ]
  },
  {
   "cell_type": "code",
   "execution_count": 6,
   "id": "spiritual-jesus",
   "metadata": {},
   "outputs": [],
   "source": [
    "class User:\n",
    "    \n",
    "    def __init__(self, username_arg, password_arg):\n",
    "        self.username = username_arg\n",
    "        self.password = password_arg\n",
    "        \n",
    "class System:\n",
    "    \n",
    "    def __init__(self, list_users=[]):\n",
    "        self.users = list_users\n",
    "        \n",
    "    def register(self, username_for_register, password_for_register):\n",
    "        a_new_user = User(username_arg = username_for_register, password_arg = password_for_register)\n",
    "        self.users.append(a_new_user)\n",
    "        \n",
    "    def login(self, username_for_login, password_for_login):\n",
    "        is_connected = False\n",
    "        for one_of_the_user in self.users:\n",
    "            if one_of_the_user.username == username_for_login:\n",
    "                if one_of_the_user.password == password_for_login:\n",
    "                    print(\"Connecté\")\n",
    "                    is_connected = True\n",
    "                    return is_connected\n",
    "\n",
    "        print(\"Utilisateur non trouvé ou mauvais mdp/login\")\n",
    "        return is_connected\n",
    "                \n",
    "        \n",
    "user1 = User(username_arg=\"monusername\", password_arg=\"monpwd\")\n",
    "sys = System()\n",
    "sys = System(list_users=[user1])\n",
    "sys.register(username_for_register=\"monusername\", password_for_register=\"monpwd\")\n"
   ]
  },
  {
   "cell_type": "code",
   "execution_count": 7,
   "id": "bored-chrome",
   "metadata": {},
   "outputs": [
    {
     "name": "stdout",
     "output_type": "stream",
     "text": [
      "Utilisateur non trouvé ou mauvais mdp/login\n"
     ]
    },
    {
     "data": {
      "text/plain": [
       "False"
      ]
     },
     "execution_count": 7,
     "metadata": {},
     "output_type": "execute_result"
    }
   ],
   "source": [
    "sys.login(\"randomuser\",\"randompwd\")"
   ]
  },
  {
   "cell_type": "code",
   "execution_count": 8,
   "id": "national-passage",
   "metadata": {},
   "outputs": [
    {
     "name": "stdout",
     "output_type": "stream",
     "text": [
      "Connecté\n"
     ]
    },
    {
     "data": {
      "text/plain": [
       "True"
      ]
     },
     "execution_count": 8,
     "metadata": {},
     "output_type": "execute_result"
    }
   ],
   "source": [
    "sys.login(\"monusername\", \"monpwd\")"
   ]
  },
  {
   "cell_type": "markdown",
   "id": "4f19dd9f",
   "metadata": {},
   "source": [
    "## Exercice 8:\n",
    "\n",
    "1. Codez une classe myString permettant de doter les chaines de caractères des méthodes append() et pop() faisant les mêmes opérations que celles des listes. <br/><br/> Exemple si on crée des chaines via l'instanciation s1 = myString(\"Hello\") et s2 = \"bonjour\", et on lui applique les méthodes : print(s1.append(\" world !\")) affiche 'Hello world !' print(s2.pop(2)) affiche 'bojour'"
   ]
  },
  {
   "cell_type": "code",
   "execution_count": 2,
   "id": "a6123b78",
   "metadata": {},
   "outputs": [
    {
     "data": {
      "text/plain": [
       "'ma '"
      ]
     },
     "execution_count": 2,
     "metadata": {},
     "output_type": "execute_result"
    }
   ],
   "source": [
    "test = \"ma chaine de caracter\"\n",
    "test[:3]"
   ]
  },
  {
   "cell_type": "code",
   "execution_count": 5,
   "id": "selective-classification",
   "metadata": {},
   "outputs": [
    {
     "name": "stdout",
     "output_type": "stream",
     "text": [
      "Hello world!\n",
      "bojour\n"
     ]
    }
   ],
   "source": [
    "class MyString:\n",
    "    \n",
    "    def __init__(self, my_str):\n",
    "        self.value = my_str\n",
    "        \n",
    "    def append(self, word_to_append):\n",
    "        self.value = self.value + word_to_append\n",
    "        return self.value\n",
    "    \n",
    "    def pop(self, index_of_char):\n",
    "        self.value = self.value[:index_of_char] + self.value[index_of_char+1:]\n",
    "        return self.value\n",
    "    \n",
    "    \n",
    "s1 = MyString(\"Hello\")\n",
    "print(s1.append(\" world!\"))\n",
    "\n",
    "s2 = MyString(\"bonjour\")\n",
    "print(s2.pop(2))"
   ]
  },
  {
   "cell_type": "code",
   "execution_count": 7,
   "id": "signal-insurance",
   "metadata": {},
   "outputs": [
    {
     "name": "stdout",
     "output_type": "stream",
     "text": [
      "bo\n",
      "jour\n"
     ]
    }
   ],
   "source": [
    "a_str = \"bonjour\"\n",
    "print(a_str[:2])\n",
    "print(a_str[3:])"
   ]
  },
  {
   "cell_type": "markdown",
   "id": "modern-cholesterol",
   "metadata": {},
   "source": [
    "\n",
    "## Exercice 9:\n",
    "1. Définissez une classe Resistor avec les attributs : resistance\n",
    "2. Dans la classe Resistor, ajoutez les méthodes :  \n",
    "    2.1. set_resistance(value): définit la valeur de la résistance.  \n",
    "    2.2. get_resistance(): retourne la valeur de la résistance.  \n",
    "    2.3. calculate_voltage(current): retourne la tension à travers le résistor selon la loi d'Ohm V=IR.  \n",
    "3. Définissez une classe Circuit avec un attribut resistors : une liste pour stocker les résistors ajoutés au circuit.\n",
    "4. Dans la classe Circuit, ajoutez les méthodes :  \n",
    "    4.1. add_resistor(resistor)  \n",
    "    4.2. get_total_resistance(): suppose que tous les résistors sont en série.  \n",
    "    4.3. calculate_total_voltage(current)  \n",
    "5. Écrivez un programme pour simuler l'ajout de résistors à un circuit, calculer la résistance totale et la tension totale pour un courant donné."
   ]
  },
  {
   "cell_type": "code",
   "execution_count": 9,
   "id": "intended-landing",
   "metadata": {},
   "outputs": [
    {
     "name": "stdout",
     "output_type": "stream",
     "text": [
      "Total resistance: 30\n",
      "Total voltage : 300\n"
     ]
    }
   ],
   "source": [
    "class Resistor:\n",
    "    \n",
    "    def __init__(self,resistance):\n",
    "        self.resistance=resistance\n",
    "        \n",
    "    def set_resistance(self,value):\n",
    "        self.resistance = value\n",
    "        \n",
    "    def get_resistance(self):\n",
    "        return self.resistance\n",
    "    \n",
    "    def calculate_voltage(self, current):\n",
    "        return self.resistance * current\n",
    "    \n",
    "\n",
    "class Circuit:\n",
    "    \n",
    "    def __init__(self, arg_resistors=[]):\n",
    "        self.resistors = arg_resistors\n",
    "        \n",
    "    def add_resistor(self, resistor:Resistor):\n",
    "        self.resistors.append(resistor)\n",
    "        \n",
    "    def get_total_resistance(self):\n",
    "        total_resistance = 0\n",
    "        for resistor in self.resistors:\n",
    "            total_resistance += resistor.get_resistance()\n",
    "        return total_resistance\n",
    "            \n",
    "    def calculate_total_voltage(self, current):\n",
    "        total_voltage = 0\n",
    "        for resistor in self.resistors:\n",
    "            total_voltage += resistor.calculate_voltage(current)\n",
    "        return total_voltage\n",
    "    \n",
    "    \n",
    "resistor1 = Resistor(10)\n",
    "resistor2 = Resistor(20)\n",
    "actual_current = 10\n",
    "circuit = Circuit(arg_resistors=[resistor1, resistor2])\n",
    "\n",
    "print(f\"Total resistance: {circuit.get_total_resistance()}\")\n",
    "print(f\"Total voltage : {circuit.calculate_total_voltage(actual_current)}\")\n",
    "            "
   ]
  },
  {
   "cell_type": "markdown",
   "id": "crucial-mother",
   "metadata": {},
   "source": [
    "## Exercice 10:\n",
    "1. Définissez une classe nommée Rectangle avec les attributs : height et base. Utilisez l'encapsulation pour vous assurer que ces attributs ne soient pas accessibles à l'extérieur de la classe. \n",
    "2. Créez les méthodes set_height(height) et set_base(base) qui contrôlent la définition de la hauteur et de la base et s'assurent également que des valeurs négatives ne peuvent pas être définies.\n",
    "3. Redéfinissez votre constructeur pour qu'il utilise les méthodes set_height(height) et set_base(base) pour empêcher les valeurs négatives lors de l'instanciation. \n",
    "4. Créez les méthodes area() et perimeter().\n",
    "5. Rédigez un programme pour tester la classe."
   ]
  },
  {
   "cell_type": "code",
   "execution_count": 17,
   "id": "published-world",
   "metadata": {},
   "outputs": [
    {
     "name": "stdout",
     "output_type": "stream",
     "text": [
      "Area: 150\n",
      "Perimeter: 50\n"
     ]
    }
   ],
   "source": [
    "class Rectangle:\n",
    "    \n",
    "    def __init__(self, arg_height, arg_base):\n",
    "        # self.__height = arg_height\n",
    "        # self.__base = arg_base\n",
    "        # Remplacé par: \n",
    "        self.set_height(arg_height) \n",
    "        self.set_base(arg_base) \n",
    "        \n",
    "    def set_height(self, arg_height):\n",
    "        if arg_height < 0:\n",
    "            self.__height = 0\n",
    "        else:\n",
    "            self.__height = arg_height\n",
    "        \n",
    "    def set_base(self, arg_base):\n",
    "        if arg_base < 0:\n",
    "            self.__base = 0\n",
    "        else:\n",
    "            self.__base = arg_base\n",
    "        \n",
    "    def area(self):\n",
    "        return self.__height * self.__base\n",
    "    \n",
    "    def perimeter(self):\n",
    "        return 2 * (self.__height + self.__base)\n",
    "        \n",
    "r1 = Rectangle(10, 15)\n",
    "# r1.set_height(-2)\n",
    "print(f\"Area: {r1.area()}\")\n",
    "print(f\"Perimeter: {r1.perimeter()}\")"
   ]
  },
  {
   "cell_type": "markdown",
   "id": "italic-novelty",
   "metadata": {},
   "source": [
    "## Exercice 11: Stock d'un produit\n",
    "1. Définissez une classe Product avec des attributs name, price et stock.   \n",
    "    1.1. Lors de l'instanciation, faites en sorte que stock ne soit pas négatif.   \n",
    "    1.2. Utilisez l'encapsulation pour empêcher la modification directe de stock, name et price de l'extérieur de la classe.  \n",
    "2. Créez les méthodes add_stock(quantity) et remove_stock(quantity) pour gérer le stock. Assurez-vous que la quantité ne soit pas négative et que le stock ne devienne jamais négatif.\n",
    "3. Créez une méthode display_stock() pour voir le stock actuel.\n",
    "4. Rédigez un programme pour tester la classe."
   ]
  },
  {
   "cell_type": "code",
   "execution_count": 18,
   "id": "alert-wayne",
   "metadata": {},
   "outputs": [
    {
     "name": "stdout",
     "output_type": "stream",
     "text": [
      "Stock actuel 0 du produit Phone\n",
      "Stock actuel 10 du produit Phone\n",
      "Stock actuel 0 du produit Phone\n"
     ]
    }
   ],
   "source": [
    "class Product : \n",
    "    \n",
    "    def __init__(self, name, price, arg_stock) : \n",
    "        self._name = name \n",
    "        self._price = price \n",
    "        self.set_stock(arg_stock)\n",
    "        \n",
    "    def set_stock (self, arg_stock) : \n",
    "        if arg_stock < 0 : \n",
    "            self.__stock = 0 \n",
    "        else : \n",
    "            self.__stock += arg_stock \n",
    "            \n",
    "    def add_stock (self, quantity) : \n",
    "        if quantity >= 0 : \n",
    "            self.__stock += quantity \n",
    "        else : \n",
    "            print(\"La quantité ne peut pas être négative.\")\n",
    "            # raise ValueError(\"La quantité ne peut pas être négative\")\n",
    "        \n",
    "    def remove_stock (self, quantity) : \n",
    "        if quantity >= 0 : \n",
    "            self.__stock -= quantity \n",
    "        else : \n",
    "            print(\"La quantité ne peut pas être négative.\")\n",
    "            # raise ValueError(\"La quantité ne peut pas être négative\")\n",
    "        \n",
    "    def display_stock (self) : \n",
    "        # return self.__stock\n",
    "        print(f\"Stock actuel {self.__stock} du produit {self._name}\")\n",
    "        \n",
    "product_phone = Product(\"Phone\", 100, -10)\n",
    "product_phone.display_stock()\n",
    "product_phone.add_stock(10)\n",
    "product_phone.display_stock()\n",
    "product_phone.remove_stock(10)\n",
    "product_phone.display_stock()"
   ]
  },
  {
   "cell_type": "markdown",
   "id": "basic-manitoba",
   "metadata": {},
   "source": [
    "## Exercice 12: Gestionnaire de mot de passe\n",
    "1. Définissez une classe PasswordManager avec un attribut password. Utilisez l'encapsulation pour s'assurer que le mot de passe ne peut pas être directement lu ou modifié de l'extérieur de la classe.\n",
    "2. Créez une méthode check_password(password) qui renvoie True si le mdp fourni est correct, sinon False.\n",
    "3. Créez une méthode change_password(old_password, new_password) qui permet de changer le mot de passe seulement si l'ancien mdp fourni est correct.\n",
    "4. Rédigez un programme pour tester la classe."
   ]
  },
  {
   "cell_type": "code",
   "execution_count": 20,
   "id": "addressed-sullivan",
   "metadata": {},
   "outputs": [
    {
     "name": "stdout",
     "output_type": "stream",
     "text": [
      "Wrong password\n",
      "Password changed\n"
     ]
    }
   ],
   "source": [
    "class PasswordManager:\n",
    "    \n",
    "    def __init__(self , arg_password):\n",
    "        self.__password = arg_password\n",
    "        \n",
    "    def check_password(self, arg_password):\n",
    "        return self.__password == arg_password\n",
    "    \n",
    "    def change_paswword(self, arg_old_password, arg_new_password):\n",
    "        if self.check_password(arg_old_password):\n",
    "            self.__password = arg_new_password\n",
    "            print(\"Password changed\")\n",
    "        else:\n",
    "            print(\"Wrong password\")\n",
    "            \n",
    "            \n",
    "pwd_manager = PasswordManager(\"monmdp\")\n",
    "pwd_manager.change_paswword(arg_old_password=\"test\", arg_new_password=\"new_pwd\")\n",
    "pwd_manager.change_paswword(arg_old_password=\"monmdp\", arg_new_password=\"new_pwd\")"
   ]
  },
  {
   "cell_type": "markdown",
   "id": "amateur-decrease",
   "metadata": {},
   "source": [
    "## Exercice 13:\n",
    "1. Créez une classe nommée Book avec les attributs title et author\n",
    "2. Ajoutez une méthode info() qui affiche le titre et l'auteur du livre.\n",
    "3. Créez une classe nommée AudioBook qui hérite de Book. Cette classe aura un attribut supplémentaire: duration (utilisez super())\n",
    "4. Ajoutez une nouvelle méthode dans AudioBook: audio_info() qui appelle la méthode info() de la classe Book (utilisez super()) et affiche ensuite la durée du livre audio.\n",
    "5. Créez une instance de Book avec un titre et un auteur de votre choix, et appelez sa méthode info().\n",
    "6. Créez une instance de AudioBook avec un titre, un auteur et une durée de votre choix. Appelez ses méthodes info() et audio_info()."
   ]
  },
  {
   "cell_type": "code",
   "execution_count": 21,
   "id": "broadband-stroke",
   "metadata": {},
   "outputs": [
    {
     "name": "stdout",
     "output_type": "stream",
     "text": [
      "Titre: Projet dernière chance | Auteur: Andy weir\n",
      "Titre: Fondation | Auteur: Isaac Asimov\n",
      "Titre: Fondation | Auteur: Isaac Asimov\n",
      "Durée: 2.5\n"
     ]
    }
   ],
   "source": [
    "class Book:\n",
    "    \n",
    "    def __init__(self, arg_title:str, arg_author:str):\n",
    "        self.title = arg_title\n",
    "        self.author = arg_author\n",
    "        \n",
    "    def info(self):\n",
    "        print(f\"Titre: {self.title} | Auteur: {self.author}\")\n",
    "        \n",
    "        \n",
    "class AudioBook(Book):\n",
    "    \n",
    "    def __init__(self, arg_title:str, arg_author:str, arg_duration:float):\n",
    "        super().__init__(arg_title=arg_title, arg_author=arg_author)\n",
    "        self.duration = arg_duration\n",
    "        \n",
    "    def audio_info(self):\n",
    "        super().info()\n",
    "        print(f\"Durée: {self.duration}\")\n",
    "        \n",
    "        \n",
    "book1 = Book(\"Projet dernière chance\", \"Andy weir\")\n",
    "book1.info()\n",
    "\n",
    "audiobook1 = AudioBook(\"Fondation\", \"Isaac Asimov\", \"2.5\")\n",
    "audiobook1.info()\n",
    "audiobook1.audio_info()"
   ]
  },
  {
   "cell_type": "markdown",
   "id": "contemporary-oklahoma",
   "metadata": {},
   "source": [
    "## Exercice 14: \n",
    "\n",
    "1. Créez une classe Rectangle avec les attributs: length et width.\n",
    "2. Définissez une méthode area() qui retourne l'aire du rectangle\n",
    "3. Créez une classe RectangularParallelepipede qui appelera dans son constructeur (__init__) le constructeur de Rectangle (pensez à super()). Ajoutez à RectangularParallelepipede l'attribut height.\n",
    "4. Redéfinissez la méthode area() dans RectangularParallelepipede\n",
    "5. Ajoutez une méthode volume() qui retourne le volume.\n",
    "6. Créez un rectangle avec des dimensions de votre choix et affichez son aire.\n",
    "7. Créez un rectangle parallélépipède avec des dimensions de votre choix, affichez sa surface totale et son volume."
   ]
  },
  {
   "cell_type": "code",
   "execution_count": 25,
   "id": "controlling-indiana",
   "metadata": {},
   "outputs": [
    {
     "name": "stdout",
     "output_type": "stream",
     "text": [
      "Aire du rectangle : 110\n",
      "Aire du rectangle parallélépipède: 104\n",
      "Volume du rectangle parallélépipède: 550\n"
     ]
    }
   ],
   "source": [
    "class Rectangle:\n",
    "    \n",
    "    def __init__(self, arg_length, arg_width):\n",
    "        self.length = arg_length\n",
    "        self.width = arg_width\n",
    "        \n",
    "    def area(self):\n",
    "        return self.length * self.width\n",
    "    \n",
    "    \n",
    "class RectangularParallelepide(Rectangle):\n",
    "    \n",
    "    def __init__(self, arg_length, arg_width, arg_height):\n",
    "        super().__init__(arg_length, arg_width)\n",
    "        self.height = arg_height\n",
    "        \n",
    "    def area(self):\n",
    "        return (2 * (self.height + self.width) + 2 * (self.length + self.width) \n",
    "            + 2 * (self.height + self.length))\n",
    "    \n",
    "    def volume(self):\n",
    "        return self.length * self.width * self.height\n",
    "    \n",
    "\n",
    "rectangle1 = Rectangle(11, 10)\n",
    "print(f\"Aire du rectangle : {rectangle1.area()}\")\n",
    "\n",
    "rect_parallelipede = RectangularParallelepide(11, 10, 5)\n",
    "print(f\"Aire du rectangle parallélépipède: {rect_parallelipede.area()}\")\n",
    "print(f\"Volume du rectangle parallélépipède: {rect_parallelipede.volume()}\")\n",
    "    "
   ]
  },
  {
   "cell_type": "markdown",
   "id": "identical-knight",
   "metadata": {},
   "source": [
    "## Exercice 15: \n",
    "1. Créez une classe ElectronicDevice avec des attributs brand, power_supply et is_on qui est par défault False.\n",
    "2. Ajoutez une méthode turn_on() et turn_off() à la classe ElectronicDevice\n",
    "3. Créez une classe Television qui hérite de ElectronicDevice et ajoute des attributs screen_size, resolution et channel.\n",
    "4. Ajoutez une méthode change_channel() à la classe Television\n",
    "5. Créez une classe Radio qui hérite de ElectronicDevice et ajoute un attribut frequency.\n",
    "6. Ajoutez une méthode change_frequency() à la classe Radio\n",
    "7. Créez un script pour tester ces classes. Observez l'accessibilité des différentes méthodes et attributs sur différentes instances des classes."
   ]
  },
  {
   "cell_type": "code",
   "execution_count": 26,
   "id": "incoming-fleece",
   "metadata": {},
   "outputs": [
    {
     "name": "stdout",
     "output_type": "stream",
     "text": [
      "Channel of tv: 2\n",
      "Fréquence de la radio: 88.1\n",
      "Fréquence de la radio après l'avoir allumé: 102\n"
     ]
    }
   ],
   "source": [
    "class ElectronicDevice:\n",
    "    \n",
    "    def __init__(self, arg_brand, arg_power_supply):\n",
    "        self.brand = arg_brand\n",
    "        self.power_supply = arg_power_supply\n",
    "        self.is_on = False\n",
    "        \n",
    "    def turn_on(self):\n",
    "        self.is_on = True\n",
    "        \n",
    "    def turn_off(self):\n",
    "        self.is_on = False\n",
    "        \n",
    "    \n",
    "class Television(ElectronicDevice):\n",
    "    \n",
    "    def __init__(self, arg_brand, arg_power_supply, arg_screen_size, arg_resolution, arg_channel):\n",
    "        super().__init__(arg_brand, arg_power_supply)\n",
    "        self.screen_size = arg_screen_size\n",
    "        self.resolution = arg_resolution\n",
    "        self.channel = arg_channel\n",
    "        \n",
    "    def change_channel(self, arg_channel_nb):\n",
    "        if self.is_on:\n",
    "            self.channel = arg_channel_nb\n",
    "            \n",
    "            \n",
    "class Radio(ElectronicDevice):\n",
    "\n",
    "    def __init__(self, arg_brand, arg_power_supply, arg_frequency):\n",
    "        super().__init__(arg_brand, arg_power_supply)\n",
    "        self.frequency = arg_frequency\n",
    "        \n",
    "    def change_frequency(self, arg_frequency_to_update):\n",
    "        if self.is_on:\n",
    "            self.frequency = arg_frequency_to_update\n",
    "            \n",
    "tv1 = Television(\"Samsung\", 230, \"22pouces\", \"4K\", 1)\n",
    "tv1.turn_on()\n",
    "tv1.change_channel(2)\n",
    "tv1.turn_off()\n",
    "tv1.change_channel(3)\n",
    "print(f\"Channel of tv: {tv1.channel}\")\n",
    "\n",
    "radio1 = Radio(\"Samsung\", 110, 88.1)\n",
    "radio1.change_frequency(100)\n",
    "print(f\"Fréquence de la radio: {radio1.frequency}\")\n",
    "radio1.turn_on()\n",
    "radio1.change_frequency(102)\n",
    "print(f\"Fréquence de la radio après l'avoir allumé: {radio1.frequency}\")"
   ]
  },
  {
   "cell_type": "markdown",
   "id": "approved-vault",
   "metadata": {},
   "source": [
    "## Exercice 16: E-Commerce System\n",
    "1. Créez une classe Product avec des attributs product_id, name, price, et stock_quantity.  \n",
    "    1.1. Ajoutez une méthode apply_discount(discount_percentage) qui réduit le prix du produit selon le pourcentage donné.  \n",
    "    1.2. Ajoutez une méthode restock(amount) pour augmenter la quantité en stock du produit.  \n",
    "    1.3. Ajoutez une méthode purchase(amount) pour diminuer la quantité en stock du produit et retourner le prix total. Si le stock n'est pas suffisant, la méthode doit retourner la valeur -1.\n",
    "2. Créez une classe Clothing qui hérite de Product.  \n",
    "    2.1. Ajoutez des attributs supplémentaires: size, material, et gender.  \n",
    "    2.2. Ajoutez une méthode info() qui retourne les détails de l'article de vêtement.  \n",
    "3. Créez une classe Electronic qui hérite de Product.  \n",
    "    3.1. Ajoutez des attributs supplémentaires: brand, warranty_period (int représentant année), et end_of_warranty (date) spécifié par défaut à None.  \n",
    "    3.2. Ajoutez une méthode register_warranty() qui retourne la date de fin de garantie basée sur la date actuelle. (utilisez warranty_period et utilisez le module timedelta)\n",
    "    3.3. Redéfinissez la méthode purchase() pour qu'elle utilise la méthode register_warranty()\n",
    "4. Créez une classe Store.  \n",
    "    4.1. Ajoutez un attribut products (une liste qui contient tous les produits).  \n",
    "    4.2. Ajoutez une méthode add_product(product) pour ajouter un produit à l'inventaire du magasin.  \n",
    "    4.3. Ajoutez une méthode search_by_name(name) pour rechercher un produit par son nom.  \n",
    "    4.4. Ajoutez une méthode process_purchase(product_id, amount) pour faciliter l'achat d'un produit en une certaine quantité. Si le stock n'est pas suffisant, affichez un message. Si la quantité est suffisante, procédez à l'achat en utilisant la méthode de Purchase et affichez le prix total.\n",
    "5. Créez un script pour tester ces classes dans le contexte d'un magasin en ligne \"Tech & Threads\".  \n",
    "    5.1. Initialisation: Commencez par créer un magasin appelé \"Tech & Threads\".  \n",
    "    5.2. Ajout des produits: Ajoutez quelques articles de vêtement et produits électroniques au magasin, comme une chemise, un jean, un smartphone et un casque.  \n",
    "    5.3. Recherche et affichage: Recherchez un produit par son nom (par exemple, \"chemise\") et affichez ses détails.  \n",
    "    5.4. Transactions: Achetez des produits.\n",
    "    5.5. Gestion des produits: Appliquez une réduction de 20% sur le smartphone. Puis, rajoutez du stock pour le jean.    \n",
    "    5.7. Conclusion: Affichez l'inventaire total du magasin après toutes les opérations.  "
   ]
  },
  {
   "cell_type": "code",
   "execution_count": 32,
   "id": "auburn-guidance",
   "metadata": {},
   "outputs": [
    {
     "name": "stdout",
     "output_type": "stream",
     "text": [
      "2025-10-18 16:38:10.410746\n"
     ]
    }
   ],
   "source": [
    "# Example to how to use timedelta\n",
    "from datetime import datetime, timedelta\n",
    "period_in_years = 2\n",
    "today = datetime.now()\n",
    "date_after_period = today + timedelta(days=period_in_years*365)\n",
    "print(date_after_period)"
   ]
  },
  {
   "cell_type": "code",
   "execution_count": 33,
   "id": "alleged-greece",
   "metadata": {},
   "outputs": [
    {
     "data": {
      "text/plain": [
       "datetime.datetime(2023, 10, 19, 16, 38, 19, 954333)"
      ]
     },
     "execution_count": 33,
     "metadata": {},
     "output_type": "execute_result"
    }
   ],
   "source": [
    "datetime.now()"
   ]
  },
  {
   "cell_type": "code",
   "execution_count": 1,
   "id": "inner-bacon",
   "metadata": {},
   "outputs": [],
   "source": [
    "class Product:\n",
    "    \n",
    "    def __init__(self,product_id,name,price,stock_quantity):\n",
    "        self.product_id = product_id\n",
    "        self.name = name\n",
    "        self.price =price\n",
    "        self.stock_quantity = stock_quantity\n",
    "        \n",
    "    def apply_discount(self,discount_percentage):\n",
    "        self.discount_percentage = discount_percentage\n",
    "        self.price = self.price *(1 - self.discount_percentage)\n",
    "        \n",
    "    def restock(self,amount):\n",
    "        if amount < 0:\n",
    "            return \n",
    "        self.stock_quantity = self.stock_quantity + amount\n",
    "        \n",
    "    def purchase(self,amount):\n",
    "        if amount > self.stock_quantity:\n",
    "            return -1\n",
    "        self.stock_quantity = self.stock_quantity - amount\n",
    "        return self.price * amount\n",
    "    \n",
    "    \n",
    "class Clothing(Product):\n",
    "    \n",
    "    def __init__(self, product_id, name,price, stock_quantity, size, material, gender):\n",
    "        super().__init__(product_id, name,price, stock_quantity)\n",
    "        self.size = size\n",
    "        self.material = material\n",
    "        self.gender = gender\n",
    "        \n",
    "    def info(self):\n",
    "        print(f\"Infos vêtement: id {self.product_id}, nom: {self.name}, prix: {self.price}\",\n",
    "                 f\" Taille: {self.size}, matériel: {self.material}, genre: {self.gender}\")\n",
    "        \n",
    "        \n",
    "class Electronic(Product):\n",
    "    \n",
    "    def __init__(self, product_id, name, price, stock_quantity, brand, warranty_period):\n",
    "        super().__init__(product_id, name,price, stock_quantity)\n",
    "        self.brand = brand\n",
    "        self.warranty_period = warranty_period\n",
    "        self.end_of_warranty = None\n",
    "        \n",
    "    def register_warranty(self):\n",
    "        now = datetime.now()\n",
    "        end_of_warranty = now + timedelta(days = self.warranty_period * 365)\n",
    "        return end_of_warranty\n",
    "    \n",
    "    def purchase(self, amount):\n",
    "        total_price = super().purchase(amount)\n",
    "        if total_price == -1:\n",
    "            return\n",
    "        self.end_of_warranty = self.register_warranty()\n",
    "        "
   ]
  },
  {
   "cell_type": "code",
   "execution_count": 2,
   "id": "pretty-occurrence",
   "metadata": {},
   "outputs": [
    {
     "name": "stdout",
     "output_type": "stream",
     "text": [
      "Infos vêtement: id 1, nom: clothe1, prix: 100  Taille: M, matériel: Coton, genre: M\n"
     ]
    }
   ],
   "source": [
    "clothing1 = Clothing(1, \"clothe1\", 100, 10, \"M\", \"Coton\", \"M\")\n",
    "clothing1.info()"
   ]
  },
  {
   "cell_type": "code",
   "execution_count": 4,
   "id": "variable-cover",
   "metadata": {},
   "outputs": [],
   "source": [
    "#Créez une classe Store.\n",
    "#4.1. Ajoutez un attribut products (une liste qui contient tous les produits).\n",
    "#4.2. Ajoutez une méthode add_product(product) pour ajouter un produit à l'inventaire du magasin.\n",
    "#4.3. Ajoutez une méthode search_by_name(name) pour rechercher un produit par son nom.\n",
    "#4.4. Ajoutez une méthode process_purchase(product_id, amount) pour faciliter l'achat d'un produit en une certaine quantité. Si le stock n'est pas suffisant, affichez un message. Si la quantité est suffisante, procédez à l'achat en utilisant la méthode de Purchase et affichez le prix total.\n",
    "\n",
    "class Store:\n",
    "    \n",
    "    def __init__(self, arg_products, arg_name):\n",
    "        self.products = arg_products\n",
    "        self.name = arg_name\n",
    "        \n",
    "    def add_product(self, product:Product):\n",
    "        existing_product = self.search_by_name(product.name)\n",
    "        if existing_product:\n",
    "            existing_product.restock(product.amount)\n",
    "        else:\n",
    "            self.products.append(product)\n",
    "        \n",
    "    def search_by_name(self, product_name:str):\n",
    "        for product in self.products:\n",
    "            if product.name == product_name:\n",
    "                return product\n",
    "            \n",
    "    def process_purchase(self, arg_product_id, arg_amount):\n",
    "        existing_product = None\n",
    "        for product in self.products:\n",
    "            if product.product_id == arg_product_id:\n",
    "                existing_product = product\n",
    "                \n",
    "        if existing_product:\n",
    "            existing_product.purchase(arg_amount)\n",
    "        else:\n",
    "            print(\"This product doesn't exist\")\n",
    "            "
   ]
  },
  {
   "cell_type": "code",
   "execution_count": 11,
   "id": "collective-train",
   "metadata": {},
   "outputs": [
    {
     "name": "stdout",
     "output_type": "stream",
     "text": [
      "5.3\n",
      "Infos vêtement: id 1, nom: shirt, prix: 20  Taille: M, matériel: cotton, genre: M\n",
      "5.7\n",
      "Item: shirt, quantity: 1, price: 20\n",
      "Item: jean, quantity: 5, price: 50\n",
      "Item: smartphone, quantity: 7, price: 400.0\n",
      "Item: headphone, quantity: 17, price: 200\n"
     ]
    }
   ],
   "source": [
    "# Créez un script pour tester ces classes dans le contexte d'un magasin en ligne \"Tech & Threads\".\n",
    "# 5.1. Initialisation: Commencez par créer un magasin appelé \"Tech & Threads\".\n",
    "# 5.2. Ajout des produits: Ajoutez quelques articles de vêtement et produits électroniques au magasin, comme une chemise, un jean, un smartphone et un casque.\n",
    "# 5.3. Recherche et affichage: Recherchez un produit par son nom (par exemple, \"chemise\") et affichez ses détails.\n",
    "# 5.4. Transactions: Achetez des produits. \n",
    "# 5.5. Gestion des produits: Appliquez une réduction de 20% sur le smartphone. Puis, rajoutez du stock pour le jean.\n",
    "# 5.7. Conclusion: Affichez l'inventaire total du magasin après toutes les opérations.\n",
    "\n",
    "# 5.1.\n",
    "store = Store(arg_products=[], arg_name=\"Tech & Threads\")\n",
    "\n",
    "# 5.2. \n",
    "store.add_product(\n",
    "    Clothing(\n",
    "        product_id=1, \n",
    "        name=\"shirt\",\n",
    "        price=20, \n",
    "        stock_quantity=3, \n",
    "        size=\"M\", \n",
    "        material=\"cotton\", \n",
    "        gender=\"M\"\n",
    "    )\n",
    ")\n",
    "\n",
    "store.add_product(\n",
    "    Clothing(\n",
    "        product_id=2, \n",
    "        name=\"jean\",\n",
    "        price=50, \n",
    "        stock_quantity=3, \n",
    "        size=\"M\", \n",
    "        material=\"denim\", \n",
    "        gender=\"F\"\n",
    "    )\n",
    ")\n",
    "\n",
    "store.add_product(\n",
    "    Electronic(\n",
    "        product_id=3, \n",
    "        name=\"smartphone\", \n",
    "        price=500, \n",
    "        stock_quantity=7, \n",
    "        brand=\"Samsung\", \n",
    "        warranty_period=2\n",
    "    )\n",
    ")\n",
    "\n",
    "store.add_product(\n",
    "    Electronic(\n",
    "        product_id=4, \n",
    "        name=\"headphone\", \n",
    "        price=200, \n",
    "        stock_quantity=17, \n",
    "        brand=\"Sony\", \n",
    "        warranty_period=3\n",
    "    )\n",
    ")\n",
    "\n",
    "# 5.3.\n",
    "print(\"5.3\")\n",
    "store.search_by_name(\"shirt\").info()\n",
    "\n",
    "# 5.4.\n",
    "store.process_purchase(1, 2)\n",
    "\n",
    "# 5.5.\n",
    "store.search_by_name(\"smartphone\").apply_discount(0.20)\n",
    "store.search_by_name(\"jean\").restock(2)\n",
    "\n",
    "# 5.7.\n",
    "print(\"5.7\")\n",
    "for product in store.products:\n",
    "    print(f\"Item: {product.name}, quantity: {product.stock_quantity}, price: {product.price}\")\n",
    "\n",
    "\n",
    "\n",
    "\n",
    "\n"
   ]
  },
  {
   "cell_type": "code",
   "execution_count": null,
   "id": "rocky-layer",
   "metadata": {},
   "outputs": [],
   "source": []
  }
 ],
 "metadata": {
  "kernelspec": {
   "display_name": "Python 3",
   "language": "python",
   "name": "python3"
  },
  "language_info": {
   "codemirror_mode": {
    "name": "ipython",
    "version": 3
   },
   "file_extension": ".py",
   "mimetype": "text/x-python",
   "name": "python",
   "nbconvert_exporter": "python",
   "pygments_lexer": "ipython3",
   "version": "3.8.5"
  }
 },
 "nbformat": 4,
 "nbformat_minor": 5
}
