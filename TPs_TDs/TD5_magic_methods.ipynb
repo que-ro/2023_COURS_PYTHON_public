{
 "cells": [
  {
   "cell_type": "markdown",
   "metadata": {},
   "source": [
    "<center><h1>TD: Méthodes magiques</h1></center>\n",
    "\n",
    "\n",
    "\n",
    "## Exercice 1\n",
    "1. Définissez une classe Temperature avec les attributs suivants : value et unit.\n",
    "2. Implémentez la méthode \\_\\_str\\_\\_ pour retourner une chaîne de caractères formatée de manière conviviale, par exemple \"25 ° Celsius\" ou \"77 ° Fahrenheit\".\n",
    "3. Implémentez la méthode \\_\\_repr\\_\\_ pour retourner une chaîne qui pourrait être utilisée pour recréer l'objet.\n"
   ]
  },
  {
   "cell_type": "code",
   "execution_count": null,
   "metadata": {},
   "outputs": [],
   "source": []
  },
  {
   "cell_type": "markdown",
   "metadata": {},
   "source": [
    "## Exercice 2\n",
    "1. Définissez une classe Point  \n",
    "    1.1. La classe doit contenir les attributs: x et y.  \n",
    "    1.2. Implémentez la méthode \\_\\_str\\_\\_ pour retourner une chaîne de caractères formatée de manière conviviale.  \n",
    "    1.3. Implémentez la méthode \\_\\_repr\\_\\_ pour retourner une chaîne qui pourrait être utilisée pour recréer l'objet.  \n",
    "    \n",
    "2. Définissez une classe Line  \n",
    "    2.1. La classe doit contenir les attributs: point1 et point2  \n",
    "    2.2. Implémentez la méthode \\_\\_str\\_\\_ pour retourner une chaîne de caractères formatée de manière conviviale en réutilisant la méthode la méthode \\_\\_str\\_\\_ de Point.  \n",
    "    2.3. Implémentez la méthode \\_\\_repr\\_\\_ pour retourner une chaîne qui pourrait être utilisée pour recréer l'objet. Il faudra réutiliser la méthode \\_\\_repr\\_\\_ de Point, pour celà utilisez repr().  "
   ]
  },
  {
   "cell_type": "code",
   "execution_count": null,
   "metadata": {},
   "outputs": [],
   "source": []
  },
  {
   "cell_type": "markdown",
   "metadata": {},
   "source": [
    "## Exercice 3\n",
    "\n",
    "1. Définissez une classe MyString. La classe doit encapsuler une chaîne de caractères comme attribut.\n",
    "2. Implémentez la méthode \\_\\_sub\\_\\_ pour permettre la \"soustraction\" de caractères d'une chaîne. Utilisez la méthode replace des chaînes de caractères standard de Python pour enlever toutes les occurrences d'une chaîne de la chaîne encapsulée.\n",
    "3. Implémentez la méthode \\_\\_add\\_\\_ pour concaténer deux objets MyString ou un objet MyString et une chaîne Python standard, retournant un nouvel objet MyString avec le résultat.\n",
    "4. Testez votre script"
   ]
  },
  {
   "cell_type": "code",
   "execution_count": 2,
   "metadata": {},
   "outputs": [
    {
     "data": {
      "text/plain": [
       "'Hello '"
      ]
     },
     "execution_count": 2,
     "metadata": {},
     "output_type": "execute_result"
    }
   ],
   "source": [
    "# Exemple d'utilisation de replace :\n",
    "text = \"Hello World\"\n",
    "text = text.replace(\"World\", \"\") \n",
    "text"
   ]
  },
  {
   "cell_type": "code",
   "execution_count": null,
   "metadata": {},
   "outputs": [],
   "source": []
  },
  {
   "cell_type": "markdown",
   "metadata": {},
   "source": [
    "## Exercice 4\n",
    "\n",
    "1. Définissez une classe Fraction. La classe doit avoir deux attributs : numerator (numérateur) et denominator (dénominateur).\n",
    "    - $\\frac{numérateur}{dénominateur}$\n",
    "2.  Implémentez les méthodes \\_\\_add\\_\\_, \\_\\_sub\\_\\_, \\_\\_mul\\_\\_, \\_\\_truediv\\_\\_, et \\_\\_pow\\_\\_ pour gérer respectivement l'addition, la soustraction, la multiplication, la division et l'exponentiation de fractions.\n",
    "3. Assurez-vous que toutes les fractions sont simplifiées après chaque opération. Vous pouvez écrire une méthode supplémentaire pour simplifier les fractions. Pour simplifier le numérateur et le dénominateur, il faut trouver le plus grand diviseur commun. Pour celà il faut d'abord chercher les diviseurs des deux nombres, ensuite voir quels sont les diviseurs en commun et enfin identifier le plus grand diviseur commun.\n",
    "4. Si une opération tente de définir un dénominateur à zéro, levez une ValueError avec un message d'erreur approprié.\n",
    "5. Testez votre script"
   ]
  },
  {
   "cell_type": "code",
   "execution_count": null,
   "metadata": {},
   "outputs": [],
   "source": []
  },
  {
   "cell_type": "markdown",
   "metadata": {},
   "source": [
    "## Exercice 5\n",
    "\n",
    "1. Définissez une classe Rectangle. La classe doit contenir deux attributs : width (largeur) et height (hauteur).\n",
    "2. Implémentez une méthode pour calculer l'aire d'un rectangle.\n",
    "3. Implémentez les méthodes \\_\\_eq\\_\\_, \\_\\_ne\\_\\_, \\_\\_lt\\_\\_, \\_\\_le\\_\\_, \\_\\_gt\\_\\_, et \\_\\_ge\\_\\_ pour comparer les rectangles selon leur aire (par exemple, un rectangle est considéré plus grand qu'un autre si son aire est plus grande).\n",
    "4. Testez votre script"
   ]
  },
  {
   "cell_type": "code",
   "execution_count": null,
   "metadata": {},
   "outputs": [],
   "source": []
  },
  {
   "cell_type": "markdown",
   "metadata": {},
   "source": [
    " ## Exercice 6\n",
    "\n",
    " Dans cet exercice, vous allez créer une classe Book qui permet de trier une collection de livres selon l'auteur, l'année de publication, et le nombre de pages.\n",
    "\n",
    "1. Définissez une classe Book. La classe doit contenir les attributs suivants : title, author, publication_year, et number_of_pages.\n",
    "2. Implémentez les méthodes de comparaison \\_\\_lt\\_\\_, \\_\\_le\\_\\_, \\_\\_gt\\_\\_, et \\_\\_ge\\_\\_ qui permettront de comparer les livres selon :\n",
    "    - En premier, l'author (tri alphabétique). \"A..\" > \"B..\" (Python assure automatiquement la comparaison de str)\n",
    "    - En deuxième, le publication_year (les plus récents d'abord).\n",
    "    - En dernier, le number_of_pages (les plus épais en premier).\n",
    "3. Testez votre script\n",
    "    - Créez une liste contenant des livres dans le désordre\n",
    "    - Ordonnez la liste en utilisant la fonction intégrée Python sorted(<your_list>)"
   ]
  },
  {
   "cell_type": "markdown",
   "metadata": {},
   "source": []
  }
 ],
 "metadata": {
  "kernelspec": {
   "display_name": "Python 3",
   "language": "python",
   "name": "python3"
  },
  "language_info": {
   "codemirror_mode": {
    "name": "ipython",
    "version": 3
   },
   "file_extension": ".py",
   "mimetype": "text/x-python",
   "name": "python",
   "nbconvert_exporter": "python",
   "pygments_lexer": "ipython3",
   "version": "3.8.5"
  }
 },
 "nbformat": 4,
 "nbformat_minor": 2
}
