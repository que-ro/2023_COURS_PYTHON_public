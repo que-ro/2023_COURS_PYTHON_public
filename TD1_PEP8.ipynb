{
 "cells": [
  {
   "cell_type": "markdown",
   "id": "a9f03159",
   "metadata": {},
   "source": [
    "<center><h1>TD: PEP8 convention d'écriture</h1></center>\n",
    "\n",
    "Aidez-vous du notebook PEP8 convention d'écriture pour compléter ces exercices.\n",
    "\n",
    "## Exercice 1: Convention de nommage\n",
    "\n",
    "Réécrire le script ci-dessous dans une nouvelle cellule, tout en respectant les conventions de nommage stipulées par la PEP 8."
   ]
  },
  {
   "cell_type": "code",
   "execution_count": 9,
   "id": "367eb602",
   "metadata": {},
   "outputs": [
    {
     "name": "stdout",
     "output_type": "stream",
     "text": [
      "A circle with radius: 10 has an area of: 314.0\n"
     ]
    }
   ],
   "source": [
    "# Script not respecting PEP8 naming conventions\n",
    "const_pi = 3.14\n",
    "\n",
    "class my_CIRCLE:\n",
    "    def __init__(self, RADIUS_value):\n",
    "        self.RADIUS_value=RADIUS_value\n",
    "        \n",
    "    def AREA_CIRCLE(self):\n",
    "        return const_pi*(self.RADIUS_value**2)\n",
    "        \n",
    "def PRINT_circle_details(CIRCLE_instance):\n",
    "    print(f\"A circle with radius: {CIRCLE_instance.RADIUS_value} has an area of: {CIRCLE_instance.AREA_CIRCLE()}\")\n",
    "    \n",
    "new_CIRCLE = my_CIRCLE(10)\n",
    "PRINT_circle_details(new_CIRCLE)\n"
   ]
  },
  {
   "cell_type": "code",
   "execution_count": null,
   "id": "df3dd333",
   "metadata": {},
   "outputs": [],
   "source": [
    "# Rewritten script respecting PEP8 naming conventions\n"
   ]
  },
  {
   "cell_type": "markdown",
   "id": "4957469d",
   "metadata": {},
   "source": [
    "## Exercice 2: Longueur des lignes\n",
    "\n",
    "Réécrire le script ci-dessous dans une nouvelle cellule, tout en respectant la longueur des lignes stipulées par la PEP 8."
   ]
  },
  {
   "cell_type": "code",
   "execution_count": 6,
   "id": "a3e2b48d",
   "metadata": {},
   "outputs": [
    {
     "name": "stdout",
     "output_type": "stream",
     "text": [
      "Remember, a well-structured and well-written code is the key to software that is easy to understand, maintain and debug.\n"
     ]
    }
   ],
   "source": [
    "# Script not respecting PEP8 line length\n",
    "import math\n",
    "\n",
    "def compute_complex_calculation(param1, param2, param3, param4, param5, param6, param7, param8):\n",
    "    if param1 < param2 and param3 > param4 and param5 == param6 or param7 != param8:\n",
    "        result = math.pow(param1 + param2 - param3 * param4 / param5, param6) \n",
    "        return result + param7 % param8\n",
    "    \n",
    "valid_input = [1, 2, 3, 4, 5, 6, 7, 8]\n",
    "result = compute_complex_calculation(*valid_input)\n",
    "\n",
    "print(\"Remember, a well-structured and well-written code is the key to software that is easy to understand, maintain and debug.\")\n",
    "\n"
   ]
  },
  {
   "cell_type": "code",
   "execution_count": 8,
   "id": "fda68248",
   "metadata": {},
   "outputs": [],
   "source": [
    "# Rewritten script respecting PEP8 line length\n",
    "\n"
   ]
  },
  {
   "cell_type": "markdown",
   "id": "509df1c0",
   "metadata": {},
   "source": [
    "## Exercice 3: Commentaires\n",
    "\n",
    "Réécrire le script ci-dessous dans une nouvelle cellule, en évitant les commentaires redondant. "
   ]
  },
  {
   "cell_type": "code",
   "execution_count": 11,
   "id": "761f1554",
   "metadata": {},
   "outputs": [],
   "source": [
    "# Script with redundant comments\n",
    "def process_data(data):\n",
    "    \n",
    "    \"\"\"\n",
    "    Method returning some statistics of a list\n",
    "    by only using its int and float data points.\n",
    "\n",
    "    :param data: list of values to be processed.\n",
    "    :return: dict containing sum and average of valid data points.\n",
    "    \"\"\"\n",
    "\n",
    "    #initialize list of valid data points\n",
    "    clean_data = []\n",
    "    \n",
    "    #loop through data points\n",
    "    for entry in data:\n",
    "        # Only append if data point is an int or a float\n",
    "        if isinstance(entry, (int, float)):\n",
    "            clean_data.append(entry)\n",
    "    \n",
    "    #calculate sum of the cleaned data\n",
    "    data_sum = sum(clean_data)\n",
    "    #calculate average of the cleaned data\n",
    "    data_avg = data_sum / len(clean_data) if clean_data else 0\n",
    "    \n",
    "    #return statistics as dictionnary\n",
    "    return {\"sum\": data_sum, \"average\": data_avg}\n",
    "\n"
   ]
  },
  {
   "cell_type": "code",
   "execution_count": 12,
   "id": "f812fa25",
   "metadata": {},
   "outputs": [],
   "source": [
    "# Rewritten scripts with better comments"
   ]
  },
  {
   "cell_type": "markdown",
   "id": "5284a673",
   "metadata": {},
   "source": [
    "## Exercice 4: Mise en page\n",
    "\n",
    "Réécrire le script ci-dessous dans une nouvelle cellule en respectant la mise en page PEP8. "
   ]
  },
  {
   "cell_type": "code",
   "execution_count": 14,
   "id": "60c6e1dc",
   "metadata": {},
   "outputs": [],
   "source": [
    "# Script not respecting PEP8 layout\n",
    "class Calculator:\n",
    "    def add(self, a, b):\n",
    "        return a + b\n",
    "    \n",
    "    \n",
    "    def substract(self, a, b):\n",
    "        result = a - b\n",
    "        return result\n",
    "\n",
    "class OtherClass:\n",
    "    pass\n",
    "    \n",
    "def greet_user():\n",
    "    print(\"Hello user\")"
   ]
  },
  {
   "cell_type": "code",
   "execution_count": 15,
   "id": "9484310e",
   "metadata": {},
   "outputs": [],
   "source": [
    "# Rewritten script respecting PEP8 layout"
   ]
  },
  {
   "cell_type": "markdown",
   "id": "d923207e",
   "metadata": {},
   "source": [
    "## Exercice 5: Indentation\n",
    "\n",
    "Réécrire le script ci-dessous dans une nouvelle cellule en respectant l'indentation."
   ]
  },
  {
   "cell_type": "code",
   "execution_count": 16,
   "id": "1b20e511",
   "metadata": {},
   "outputs": [
    {
     "ename": "IndentationError",
     "evalue": "expected an indented block after function definition on line 2 (310607981.py, line 3)",
     "output_type": "error",
     "traceback": [
      "\u001b[1;36m  Cell \u001b[1;32mIn[16], line 3\u001b[1;36m\u001b[0m\n\u001b[1;33m    if param1 > param2 and param3 < param4:\u001b[0m\n\u001b[1;37m    ^\u001b[0m\n\u001b[1;31mIndentationError\u001b[0m\u001b[1;31m:\u001b[0m expected an indented block after function definition on line 2\n"
     ]
    }
   ],
   "source": [
    "# Script with no indentation\n",
    "def complex_function(param1,param2,param3,param4,param5):\n",
    "if param1 > param2 and param3 < param4:\n",
    "result = (param1 + param2) * (param3 - param4) / param5\n",
    "elif param2 > param1 and param4 < param3:\n",
    "result=(param2 + param1) * (param4 - param3) / param5\n",
    "else:\n",
    "result=0\n",
    "return result\n"
   ]
  },
  {
   "cell_type": "code",
   "execution_count": 1,
   "id": "cb1e2da2",
   "metadata": {},
   "outputs": [],
   "source": [
    "# Rewritten script with good indentation\n"
   ]
  },
  {
   "cell_type": "markdown",
   "id": "cdab9a97",
   "metadata": {},
   "source": [
    "## Exercice 6: \n",
    "\n",
    "* Réécrire le script ci-dessous en respectant les conventions PEP8. (Dans une nouvelle cellule)\n",
    "* Ecrire un script pour tester les classes."
   ]
  },
  {
   "cell_type": "code",
   "execution_count": 5,
   "id": "7018dba9",
   "metadata": {},
   "outputs": [],
   "source": [
    "# Script not respecting PEP8 conventions\n",
    "from datetime import datetime\n",
    "class patient:\n",
    "    \n",
    "    def __init__(self, fname:str, lname:str, dob:datetime):\n",
    "        self.fname = fname\n",
    "        self.lname = lname\n",
    "        self.dob = dob\n",
    "\n",
    "        \n",
    "        \n",
    "class patient_sample:\n",
    "    \n",
    "    \n",
    "    def __init__(self, SAMPLE_ID:str, pat:patient, SOURCE_tissue:str, extract_method:str, dateOfExtraction:datetime, storage_temperature:float, is_processed:bool, has_to_be_returned:bool):\n",
    "        # id of the sample\n",
    "        self.SAMPLE_ID = SAMPLE_ID\n",
    "        # patient from whom the sample was taken\n",
    "        self.patient = pat\n",
    "        #tissue from which the sample comes from\n",
    "        self.SOURCE_tissue = SOURCE_tissue\n",
    "        # MEthod of extraction\n",
    "        self.extract_method = extract_method\n",
    "        # Date of extraction\n",
    "        self.dateOfExtraction = dateOfExtraction\n",
    "        # Temperature of storage for the sample\n",
    "        self.storage_temperature = storage_temperature\n",
    "        #Was the sample processed\n",
    "        self.is_processed = is_processed\n",
    "        # Does the sample needs to be returned\n",
    "        self.has_to_be_returned\n",
    "        \n",
    "        \n",
    "    def CanBeReturned(self):\n",
    "        \n",
    "        \"\"\"\n",
    "        Method that check if a sample can be returned \n",
    "        to provider or not.\n",
    "        :return: bool\n",
    "        \"\"\"\n",
    "        \n",
    "        if (has_to_be_returned\n",
    "            and is_processed):\n",
    "            return True\n",
    "        return False\n",
    "        \n",
    "class fridge:\n",
    "    \n",
    "    def __init__(self, minTemperature, max_nb_samples, samples_stored=[]):\n",
    "        self.minTemperature = minTemperature\n",
    "        self.max_nb_samples = max_nb_samples\n",
    "        self.samples_stored = samples_stored\n",
    "        \n",
    "    \n",
    "    def addSample(self, s):\n",
    "        \n",
    "        \"\"\"\n",
    "        Add sample to the frige\n",
    "        \"\"\"\n",
    "        \n",
    "        self.samples_stored.append(s)\n",
    "        \n",
    "        \n",
    "        \n",
    "    def is_storage_full(self):\n",
    "        \n",
    "        \"\"\"\n",
    "        Method checking if the fridge is full\n",
    "        and returns a boolean.\n",
    "        :return: bool\n",
    "        \"\"\"\n",
    "        \n",
    "        # Return boolean specifying if the frige is full or not\n",
    "        return self.samples_stored >= self.max_nb_samples\n",
    "    \n",
    "    \n",
    "    \n",
    "    def get_samples_that_can_be_returned(self):\n",
    "        \n",
    "        \"\"\"\n",
    "        Method returning the samples that can\n",
    "        be returned to the provider\n",
    "        :return: list[PatientSample]\n",
    "        \"\"\"\n",
    "        \n",
    "        #Init list of samples that can be returned\n",
    "        samples_to_return = []\n",
    "        # Loop through samples\n",
    "        for s in self.samples_stored:\n",
    "            # If sample can be returned\n",
    "            if s.CanBeReturned():\n",
    "                #Add to list of sample\n",
    "                samples_to_return.append(s)\n",
    "        #Return sample\n",
    "        return samples_to_return\n",
    "            \n",
    "    \n",
    "        \n",
    "            "
   ]
  },
  {
   "cell_type": "code",
   "execution_count": 6,
   "id": "e83b7ea8",
   "metadata": {},
   "outputs": [],
   "source": [
    "# Rewritten script respecting PEP8 conventions\n"
   ]
  },
  {
   "cell_type": "code",
   "execution_count": 7,
   "id": "174558ab",
   "metadata": {},
   "outputs": [],
   "source": [
    "# Write a script to test the classes defined above"
   ]
  },
  {
   "cell_type": "code",
   "execution_count": null,
   "id": "5d15f426",
   "metadata": {},
   "outputs": [],
   "source": []
  }
 ],
 "metadata": {
  "kernelspec": {
   "display_name": "Python 3 (ipykernel)",
   "language": "python",
   "name": "python3"
  },
  "language_info": {
   "codemirror_mode": {
    "name": "ipython",
    "version": 3
   },
   "file_extension": ".py",
   "mimetype": "text/x-python",
   "name": "python",
   "nbconvert_exporter": "python",
   "pygments_lexer": "ipython3",
   "version": "3.10.9"
  }
 },
 "nbformat": 4,
 "nbformat_minor": 5
}
