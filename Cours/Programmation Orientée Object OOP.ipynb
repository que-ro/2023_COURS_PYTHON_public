{
 "cells": [
  {
   "cell_type": "markdown",
   "id": "c77197b2",
   "metadata": {},
   "source": [
    "<center><h1>Introduction à la programmation orientée objet (POO)</h1></center>\n",
    "<br/>\n",
    "<center>Quentin Rott 2023</center>\n",
    "<br/>"
   ]
  },
  {
   "cell_type": "markdown",
   "id": "8b63154d",
   "metadata": {},
   "source": [
    "En programmation, diverses méthodes permettent de construire un programme, chacune présentant ses avantages et ses inconvénients. Dans ce module, nous allons revoir un paradigme que vous avez déjà utilisé, celui de la programmation procédurale, et en explorer un nouveau : la programmation orientée objet.\n",
    "\n",
    "## Sommaire :\n",
    "- Rappel du paradigme de programmation procédurale\n",
    "- Introduction à la Programmation Orientée Objet\n",
    "    - Qu'est-ce qu'une Classe ?\n",
    "    - Qu'est-ce qu'un Objet ?\n",
    "    - Tout est objet en Python\n",
    "    - Les pilliers de la Programmation Orientée Objet (OOP)\n",
    "        - Abstraction\n",
    "        - Encapsulation\n",
    "        - Héritage\n",
    "        - Polymorphisme\n",
    "- De la procédurale à l'orienté objet\n",
    "- Contexte d'utilisation des paradigmes"
   ]
  },
  {
   "cell_type": "markdown",
   "id": "sixth-picnic",
   "metadata": {},
   "source": [
    "# Rappel du paradigme de programmation procédurale\n",
    "\n",
    "## Qu'est-ce qu'un paradigme de programmation ?\n",
    "\n",
    "Un paradigme de programmation est un style ou une \"philosophie\" de développement qui détermine comment nous structurons et organisons notre code. Il y a plusieurs paradigmes de programmation comme le paradigme procédural, le paradigme orienté objet, le paradigme fonctionnel, etc. Chaque paradigme a ses propres règles, ses propres avantages et inconvénients, et est plus adapté à certains types de problèmes qu'à d'autres."
   ]
  },
  {
   "cell_type": "markdown",
   "id": "0134ff8e",
   "metadata": {},
   "source": [
    "## Caractéristiques du paradigme procédural\n",
    "\n",
    "Le paradigme procédural est une méthode de programmation centrée sur la notion de procédures, ou fonctions, qui vont décomposer la logique du programme. Voici quelques-unes de ses caractéristiques clés:\n",
    "\n",
    "- <b>Fonctions et Modularité</b> : <br/>\n",
    "La logique du programme est divisée en fonctions, des blocs de code dédiés à effectuer des tâches spécifiques. Cette structure modulaire permet de réutiliser le code et offre une clarté, chaque fonction ayant un but précis.\n",
    " <br/> <br/>\n",
    "- <b>Flux de Contrôle</b> : <br/>\n",
    "Le paradigme procédural utilise des structures de contrôle telles que if, else, while, et for pour gérer le déroulement du programme.\n",
    " <br/> <br/>\n",
    "- <b>Variables Locales et Globales</b> : <br/>\n",
    "Les données sont représentées par des variables, qui peuvent être globales (accessibles de partout dans le programme) ou locales (limitées à une fonction spécifique).\n",
    " <br/> <br/>\n",
    "- <b>Réutilisation de Code</b> : <br/>\n",
    "Les fonctions peuvent être appelées à plusieurs reprises, ce qui évite la duplication de code et facilite sa maintenance.\n",
    " <br/> <br/>\n",
    "- <b>Simplicité</b> : <br/>\n",
    "L'approche procédurale est souvent considérée comme intuitive, grâce à une certaine linéarité dans l'exécution du code.\n",
    " <br/> <br/>\n",
    "- <b>Limites</b> : <br/>\n",
    "Bien que le paradigme procédural soit pratique et clair, il peut présenter des défis lorsque le programme s'étoffe. La gestion d'un nombre croissant de variables et de fonctions peut devenir un défi et introduire des erreurs."
   ]
  },
  {
   "cell_type": "code",
   "execution_count": null,
   "id": "medium-opening",
   "metadata": {
    "scrolled": true
   },
   "outputs": [],
   "source": [
    "## Exemple de programmation procédurale ##\n",
    "\n",
    "# Variable globale\n",
    "library = []  # Une liste pour stocker les noms (str) des livres\n",
    "\n",
    "# Fonctions\n",
    "def add_book(book_name):\n",
    "    library.append(book_name)\n",
    "    print(f\"Le livre '{book_name}' a été ajouté.\")\n",
    "\n",
    "def remove_book(book_name):\n",
    "    if book_name in library:\n",
    "        library.remove(book_name)\n",
    "        print(f\"Le livre '{book_name}' a été supprimé.\")\n",
    "    else:\n",
    "        print(\"Ce livre n'est pas dans la bibliothèque.\")\n",
    "\n",
    "def show_books():\n",
    "    print(\"Livres dans la bibliothèque:\")\n",
    "    for book in library:\n",
    "        print(f\" - {book}\") # book est une variable locale, uniquement accessible à la boucle for\n",
    "\n",
    "# Logique principale du programme\n",
    "while True:\n",
    "    print(\"\\n--- Menu de la bibliothèque ---\")\n",
    "    print(\"1: Ajouter un livre\")\n",
    "    print(\"2: Supprimer un livre\")\n",
    "    print(\"3: Voir tous les livres\")\n",
    "    print(\"4: Quitter\")\n",
    "    choice = input(\"Votre choix: \")\n",
    "\n",
    "    if choice == '1':\n",
    "        book = input(\"Nom du livre à ajouter: \")\n",
    "        add_book(book)\n",
    "    elif choice == '2':\n",
    "        book = input(\"Nom du livre à supprimer: \")\n",
    "        remove_book(book)\n",
    "    elif choice == '3':\n",
    "        show_books()\n",
    "    elif choice == '4':\n",
    "        print(\"Au revoir!\")\n",
    "        break\n",
    "    else:\n",
    "        print(\"Choix invalide. Réessayez.\")"
   ]
  },
  {
   "cell_type": "markdown",
   "id": "experienced-edition",
   "metadata": {},
   "source": [
    "# Introduction à la Programmation Orientée Objet\n",
    "\n",
    "La Programmation Orientée Objet (OOP) est un paradigme de programmation qui utilise des \"objets\" et des \"classes\" pour structurer le code. Ce paradigme permet d'organiser le code de manière plus modulaire et hiérarchique, rendant ainsi le code plus maintenable et cohérent.\n",
    "\n",
    "### Analogie du monde réel\n",
    "Dans la vie quotidienne, nous sommes entourés d'objets : des voitures, des téléphones, des animaux, etc. Chacun de ces objets a des caractéristiques et des fonctionnalités spécifiques.\n",
    "\n",
    "* <b>Caractéristiques</b>: Une voiture a une couleur, une marque, un modèle, etc.\n",
    "* <b>Fonctionnalités</b>: Une voiture peut accélérer, freiner, klaxonner, etc.\n",
    "\n",
    "Ces objets du monde réel peuvent nous aider à comprendre les objets en programmation.\n",
    "\n",
    "### Transition vers la programmation\n",
    "En programmation, nous pouvons également créer nos propres \"objets\". Ces objets ont aussi des \"caractéristiques\" et des \"fonctionnalités\", que nous appelons respectivement attributs et méthodes.\n",
    "\n",
    "* <b>Attributs</b>: Correspondent aux caractéristiques d'un objet, comme la couleur d'une voiture.\n",
    "* <b>Méthodes</b>: Correspondent aux fonctionnalités d'un objet, comme accélérer pour une voiture.\n"
   ]
  },
  {
   "cell_type": "markdown",
   "id": "a9b4f6dc",
   "metadata": {},
   "source": [
    "## Qu'est-ce qu'une Classe ?\n",
    "\n",
    "Imaginez-vous en tant qu'ingénieur automobile chargé de créer un plan de conception pour une voiture. Au lieu de faire un plan très spécifique pour une seule voiture, vous allez créer un plan plus général qui permet de construire toute une gamme de voitures. Ce plan général indique les <b>caractéristiques</b> qu'une voiture peut avoir — comme sa couleur, son poid, ou encore ses composants — ainsi que des <b>fonctionnalités</b> comme accélérer et freiner. \n",
    "\n",
    "En programmation, une <b>Classe</b> fonctionne de manière similaire. Elle agit comme un plan de conception général qui définit les <b>attributs</b> et les <b>méthodes</b> que chaque objet créé à partir de cette classe aura. "
   ]
  },
  {
   "cell_type": "code",
   "execution_count": null,
   "id": "9de51222",
   "metadata": {},
   "outputs": [],
   "source": [
    "# Exemple de classe / plan de conception général\n",
    "\n",
    "class Voiture: # Le mot-clé classe définit une classe\n",
    "    \n",
    "    \"\"\"\n",
    "    Ceci est ma doc de la classe\n",
    "    \"\"\"\n",
    "\n",
    "    # Constructeur\n",
    "    def __init__(self, marque, modele, couleur, vitesse_max):\n",
    "        \n",
    "        print(\"Création d'un objet Voiture\")\n",
    "        \n",
    "        # Attributs\n",
    "        self.marque = marque\n",
    "        self.modele = modele\n",
    "        self.couleur = couleur\n",
    "        self.vitesse_max = vitesse_max\n",
    "        self.vitesse_actuelle = 0  # vitesse initiale à 0\n",
    "    \n",
    "    # Méthodes\n",
    "    def accelerer(self, increment):\n",
    "        \n",
    "        self.vitesse_actuelle += increment\n",
    "        if self.vitesse_actuelle > self.vitesse_max:\n",
    "            self.vitesse_actuelle = self.vitesse_max\n",
    "        print(f\"La voiture accélère. Vitesse actuelle : {self.vitesse_actuelle} km/h\")\n",
    "    \n",
    "    def freiner(self, decrement):\n",
    "        self.vitesse_actuelle -= decrement\n",
    "        if self.vitesse_actuelle < 0:\n",
    "            self.vitesse_actuelle = 0\n",
    "        print(f\"La voiture freine. Vitesse actuelle : {self.vitesse_actuelle} km/h\")\n",
    "    \n",
    "    def afficher_info(self):\n",
    "        print(f\"Marque : {self.marque}, Modèle : {self.modele}, \" +\n",
    "              f\"Couleur : {self.couleur}, Vitesse Max : {self.vitesse_max} km/h\")\n"
   ]
  },
  {
   "attachments": {},
   "cell_type": "markdown",
   "id": "1ee59a88",
   "metadata": {},
   "source": [
    "![Image Alt Text](data:image/svg+xml;base64,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)"
   ]
  },
  {
   "cell_type": "markdown",
   "id": "882d51e3",
   "metadata": {},
   "source": [
    "L'ensemble des attributs permet de stocker <b>l'état</b> de l'objet. Pour un objet voiture issu de notre classe, son état correspondra à l'ensemble des valeurs assignées à ses attributs, tels que la marque, le modèle, la couleur, la vitesse_max et la vitesse_actuelle.\n",
    "\n",
    "La méthode <b>__init__</b> est le constructeur de la classe. Cette méthode est appelée lors de la création d'un nouvelle instance/objet de la classe et permet d'initialiser les attributs de l'instance\n",
    "\n",
    "Le mot-clé <b>self</b> fait référence à l'instance/objet de la classe et permet d'accéder à ces attributs et méthodes"
   ]
  },
  {
   "cell_type": "code",
   "execution_count": null,
   "id": "afff14fe",
   "metadata": {},
   "outputs": [],
   "source": [
    "# Exercices\n",
    "\n",
    "# Création de la classe Telephone\n",
    "class Telephone:\n",
    "    \n",
    "    # Constructeur\n",
    "    def init(self, marque, modele, couleur, contacts_max):\n",
    "\n",
    "        print(\"Création d'un objet Téléphone\")\n",
    "        \n",
    "        self.marque = marque\n",
    "        self.modele = modele\n",
    "        self.couleur = couleur\n",
    "        self.contacts_max = contacts_max\n",
    "        self.nombres_contacts = 0  # appels initiaux à 0\n",
    "\n",
    "    def ajouter_contacts(self, increment):\n",
    "        self.nombres_contacts += increment\n",
    "        if self.nombres_contacts > self.contacts_max:\n",
    "            self.nombres_contacts = self.contacts_max\n",
    "        print(f\"on ajoute un contact. nombre de contacts : {self.nombres_contacts}\")\n",
    "\n",
    "        \n",
    "        \n",
    "        \n",
    "# Création de la classe Cellule\n",
    "# Contexte: on veut modéliser une culture cellulaire et pour\n",
    "# celà on veut créer une classe cellule\n",
    "class Cellule:\n",
    "    pass"
   ]
  },
  {
   "cell_type": "markdown",
   "id": "e0668189",
   "metadata": {},
   "source": [
    "## Qu'est-ce qu'un Objet ?\n",
    "\n",
    "Si la classe est le plan de conception, l'objet est la réalisation concrète de ce plan. Prenons l'exemple de notre ingénieur automobile : une fois que le plan général pour construire des voitures est établi, l'ingénieur peut alors produire des voitures réelles en suivant ce plan. \n",
    "\n",
    "En programmation, créer un objet à partir d'une classe s'appelle <b>instancier la classe</b>. Une fois instanciée, cette \"instance de classe\" devient un objet doté des attributs et méthodes définis dans la classe. \n",
    "\n",
    "Pour résumer :\n",
    "\n",
    "* <b>Classe</b> : Le plan de conception ou encore le moule\n",
    "* <b>Objet</b> : Une réalisation concrète du plan, également appelée \"instance de classe\".\n"
   ]
  },
  {
   "cell_type": "code",
   "execution_count": null,
   "id": "a5d89463",
   "metadata": {},
   "outputs": [],
   "source": [
    "# Instanciation de deux objets (passe par la méthode __init__(...))\n",
    "voiture1 = Voiture(\"Toyota\", \"Corolla\", \"Rouge\", 180)\n",
    "voiture2 = Voiture(\"Honda\", \"Civic\", \"Bleu\", 200)\n"
   ]
  },
  {
   "cell_type": "code",
   "execution_count": null,
   "id": "f5cd251b",
   "metadata": {},
   "outputs": [],
   "source": [
    "# Instanciation en utilisant le nom des arguments\n",
    "voiture1 = Voiture(\n",
    "    couleur=\"Rouge\",\n",
    "    marque=\"Toyota\", \n",
    "    vitesse_max=180,\n",
    "    modele=\"Corolla\"\n",
    ")\n",
    "\n",
    "voiture2 = Voiture(\n",
    "    couleur=\"Bleu\",\n",
    "    marque=\"Honda\", \n",
    "    vitesse_max=200,\n",
    "    modele=\"Civic\"\n",
    ")\n",
    "\n",
    "# On a plus besoin de placer les arguments dans l'ordre"
   ]
  },
  {
   "cell_type": "code",
   "execution_count": null,
   "id": "b589d1e5",
   "metadata": {},
   "outputs": [],
   "source": [
    "# Chaque objet est unique\n",
    "print(f\" Identifiant python de voiture1 : {id(voiture1)}\")\n",
    "print(f\" Identifiant python de voiture2 : {id(voiture2)}\")"
   ]
  },
  {
   "cell_type": "code",
   "execution_count": null,
   "id": "ab971ac8",
   "metadata": {},
   "outputs": [],
   "source": [
    "# Les instances ont leurs propres états\n",
    "voiture1.afficher_info()\n",
    "voiture2.afficher_info()\n",
    "\n",
    "# On constate qu'on a pas besoin de spécifier l'argument self des méthodes.\n",
    "# Python va automatiquement référencer la voiture1 comme l'argument self de la méthode afficher_info.\n"
   ]
  },
  {
   "cell_type": "code",
   "execution_count": null,
   "id": "1d8bc46f",
   "metadata": {},
   "outputs": [],
   "source": [
    "# Les deux objets proviennent de la classe Voiture\n",
    "print(f\"Type de voiture1 : {type(voiture1)}\")\n",
    "print(f\"Type de voiture2 : {type(voiture2)}\")\n"
   ]
  },
  {
   "cell_type": "code",
   "execution_count": null,
   "id": "2c9db700",
   "metadata": {},
   "outputs": [],
   "source": [
    "# Ils contiennent le même jeu d'attributs pour les décrire et les mêmes méthodes\n",
    "print(f\"Attributs et méthodes de voiture1 : {dir(voiture1)}\")\n",
    "print(\"\")\n",
    "print(f\"Attributs et méthodes de voiture2 : {dir(voiture2)}\")\n"
   ]
  },
  {
   "cell_type": "code",
   "execution_count": null,
   "id": "2387c023",
   "metadata": {},
   "outputs": [],
   "source": [
    "# Accéder aux attributs des instances\n",
    "print(f\"Vitesse actuelle voiture1 : {voiture1.vitesse_actuelle}\")\n",
    "print(f\"Vitesse actuelle voiture2 : {voiture2.vitesse_actuelle}\")"
   ]
  },
  {
   "cell_type": "code",
   "execution_count": null,
   "id": "ddb0536e",
   "metadata": {},
   "outputs": [],
   "source": [
    "# Utilisation des méthodes (self)\n",
    "print(\"\\n-- Voiture 1 en action --\")\n",
    "voiture1.accelerer(50)\n",
    "voiture1.freiner(20)\n"
   ]
  },
  {
   "cell_type": "code",
   "execution_count": null,
   "id": "f723bf57",
   "metadata": {},
   "outputs": [],
   "source": [
    "# L'état d'un objet évolue au cours de son existence\n",
    "print(f\"Vitesse actuelle voiture1 : {voiture1.vitesse_actuelle}\")\n",
    "print(f\"Vitesse actuelle voiture2 : {voiture2.vitesse_actuelle}\")"
   ]
  },
  {
   "cell_type": "code",
   "execution_count": null,
   "id": "bf5c6802",
   "metadata": {},
   "outputs": [],
   "source": [
    "# On peut directement changer l'état des attributs accessibles\n",
    "voiture1.couleur = \"Mauve\"\n",
    "voiture1.afficher_info()"
   ]
  },
  {
   "cell_type": "code",
   "execution_count": null,
   "id": "aec4b532",
   "metadata": {},
   "outputs": [],
   "source": [
    "# Quelques minutes pour expérimenter avec la classe Telephone et Cellule\n"
   ]
  },
  {
   "cell_type": "markdown",
   "id": "44aaa268",
   "metadata": {},
   "source": [
    "## Quizz\n",
    "\n",
    "<b>Question 1: Quelle est la différence entre une classe et un objet ?</b>\n",
    "* A) Une classe est une instance d'un objet\n",
    "* B) Un objet est une instance d'une classe\n",
    "* C) Une classe et un objet sont interchangeables\n",
    "* D) Il n'y a pas de différence\n",
    "\n",
    "<b>Question 2: Qu'est-ce qu'une Classe en programmation ?</b>\n",
    "* A) Un ensemble de fonctions\n",
    "* B) Un type de variable\n",
    "* C) Un plan de conception pour créer des objets\n",
    "* D) Une bibliothèque de code\n",
    "\n",
    "<b>Question 3: Quel est le rôle des attributs dans une classe ?</b>\n",
    "* A) Définir les opérations que l'objet peut effectuer\n",
    "* B) Stocker l'état de l'objet\n",
    "* C) Indiquer le type de la classe\n",
    "* D) Gérer la mémoire de l'objet\n",
    "\n",
    "<b>Question 4: À quoi sert la méthode __init__ dans une classe ?</b>\n",
    "* A) Pour initialiser les attributs de l'objet\n",
    "* B) Pour détruire l'objet\n",
    "* C) Pour accélérer le code\n",
    "* D) Pour créer une nouvelle classe\n",
    "\n",
    "<b>Question 5: Quel terme décrit le processus de création d'un objet à partir d'une classe ?</b>\n",
    "* A) Définition\n",
    "* B) Instanciation\n",
    "* C) Héritage\n",
    "* D) Invocation\n",
    "\n",
    "<b>Question 6: Que signifie l'argument self dans les méthodes d'une classe ?</b>\n",
    "* A) Il permet d'accéder aux méthodes globales\n",
    "* B) Il sert à définir des attributs statiques pour la classe\n",
    "* C) Il fait référence à l'instance de la classe elle-même\n",
    "* D) Il spécifie le parent de la classe\n",
    "\n",
    "<b>Question 7: Quelle méthode devriez-vous utiliser pour voir tous les attributs et méthodes d'une instance de classe ?</b>\n",
    "* A) type()\n",
    "* B) id()\n",
    "* C) dir()\n",
    "* D) len()\n",
    "\n",
    "<b>Question 8: Si deux objets sont créés à partir de la même classe, partageront-ils le même état ?</b>\n",
    "* A) Oui, ils partageront le même état\n",
    "* B) Non, chaque objet a son propre état\n",
    "* C) Cela dépend des attributs de la classe\n",
    "* D) Seulement si les objets sont créés en même temps\n",
    "\n",
    "<b>Question 9: Qu'est-ce qu'un constructeur ?</b>\n",
    "* A) Une méthode qui est automatiquement appelée lors de la destruction d'un objet\n",
    "* B) Une méthode qui est automatiquement appelée lors de la création d'un objet\n",
    "* C) Une fonction qui retourne une nouvelle instance d'une classe\n",
    "* D) Un opérateur qui crée une copie superficielle d'un objet"
   ]
  },
  {
   "cell_type": "markdown",
   "id": "5a060f9c",
   "metadata": {},
   "source": [
    "## Tout est objet en Python: Les types de base\n",
    "\n",
    "En Python, même les types de données de base comme les entiers, les chaînes de caractères, et les listes sont des objets. Cela signifie qu'ils ont des attributs et des méthodes que vous pouvez utiliser.\n",
    "\n",
    "### Les entiers"
   ]
  },
  {
   "cell_type": "code",
   "execution_count": null,
   "id": "ef84e58e",
   "metadata": {},
   "outputs": [],
   "source": [
    "my_int = 100\n",
    "print(type(my_int))"
   ]
  },
  {
   "cell_type": "code",
   "execution_count": null,
   "id": "f62c41de",
   "metadata": {},
   "outputs": [],
   "source": [
    "# Les attributs et méthodes des integers\n",
    "print(dir(my_int))"
   ]
  },
  {
   "cell_type": "code",
   "execution_count": null,
   "id": "a42c7826",
   "metadata": {},
   "outputs": [],
   "source": [
    "# Utilisation d'une méthode d'instance\n",
    "my_int_bit_length = my_int.bit_length()\n",
    "print(f\"Nombre de bits utilisé pour stocker my_int : {my_int_bit_length} bits\")"
   ]
  },
  {
   "cell_type": "markdown",
   "id": "773987aa",
   "metadata": {},
   "source": [
    "### Les flottants"
   ]
  },
  {
   "cell_type": "code",
   "execution_count": null,
   "id": "cfca7bd6",
   "metadata": {},
   "outputs": [],
   "source": [
    "my_float = 1.4\n",
    "print(type(my_float))"
   ]
  },
  {
   "cell_type": "code",
   "execution_count": null,
   "id": "a5ccd059",
   "metadata": {},
   "outputs": [],
   "source": [
    "# Les attributs et méthodes des flottants\n",
    "print(dir(my_float))"
   ]
  },
  {
   "cell_type": "code",
   "execution_count": null,
   "id": "acb2a653",
   "metadata": {},
   "outputs": [],
   "source": [
    "# Utilisation d'une méthode d'instance\n",
    "is_my_float_an_int = my_float.is_integer()\n",
    "print(f\"Is my float an int : {is_my_float_an_int}\")"
   ]
  },
  {
   "cell_type": "markdown",
   "id": "7dcb2a35",
   "metadata": {},
   "source": [
    "### Les chaînes de caractère string"
   ]
  },
  {
   "cell_type": "code",
   "execution_count": null,
   "id": "84758c1b",
   "metadata": {},
   "outputs": [],
   "source": [
    "my_str = \"Lorem ipsum dolor sit amet\"\n",
    "print(type(my_str))"
   ]
  },
  {
   "cell_type": "code",
   "execution_count": null,
   "id": "294b3898",
   "metadata": {},
   "outputs": [],
   "source": [
    "# Les attributs et méthodes des str\n",
    "print(dir(my_str))"
   ]
  },
  {
   "cell_type": "code",
   "execution_count": null,
   "id": "270654bb",
   "metadata": {},
   "outputs": [],
   "source": [
    "# Utilisation d'une méthode d'instance\n",
    "print(f\"my_str as uppercase : {my_str.upper()}\")"
   ]
  },
  {
   "cell_type": "markdown",
   "id": "6ce8a6aa",
   "metadata": {},
   "source": [
    "### Les listes"
   ]
  },
  {
   "cell_type": "code",
   "execution_count": null,
   "id": "49c512aa",
   "metadata": {},
   "outputs": [],
   "source": [
    "my_list = [1,2,3,4,5,6,7,8,9]\n",
    "print(type(my_list))"
   ]
  },
  {
   "cell_type": "code",
   "execution_count": null,
   "id": "de3832a6",
   "metadata": {},
   "outputs": [],
   "source": [
    "# Les attributs et méthodes des listes\n",
    "print(dir(my_list))"
   ]
  },
  {
   "cell_type": "code",
   "execution_count": null,
   "id": "84a595da",
   "metadata": {},
   "outputs": [],
   "source": [
    "# Utilisation d'une méthode d'instance\n",
    "my_list.reverse()\n",
    "print(my_list)"
   ]
  },
  {
   "cell_type": "markdown",
   "id": "a781b2da",
   "metadata": {},
   "source": [
    "### Les dictionnaires"
   ]
  },
  {
   "cell_type": "code",
   "execution_count": null,
   "id": "5960c6fd",
   "metadata": {},
   "outputs": [],
   "source": [
    "my_dict = {\n",
    "    \"key1\": \"val1\",\n",
    "    \"key2\": 2,\n",
    "    3: \"val3\",\n",
    "    4: 4\n",
    "}\n",
    "print(type(my_dict))"
   ]
  },
  {
   "cell_type": "code",
   "execution_count": null,
   "id": "a771ad6e",
   "metadata": {},
   "outputs": [],
   "source": [
    "# Les attributs et méthodes des dictionnaires\n",
    "print(dir(my_dict))"
   ]
  },
  {
   "cell_type": "code",
   "execution_count": null,
   "id": "53eda81f",
   "metadata": {},
   "outputs": [],
   "source": [
    "# Utilisation d'une méthode d'instance\n",
    "my_dict.update({4: \"val4\"})\n",
    "print(my_dict)"
   ]
  },
  {
   "cell_type": "markdown",
   "id": "44d991e6",
   "metadata": {},
   "source": [
    "## Les pilliers de la Programmation Orientée Objet (OOP)"
   ]
  },
  {
   "cell_type": "markdown",
   "id": "731f7260",
   "metadata": {},
   "source": [
    "La programmation orientée objet repose sur quatre principes/pilliers qui sont:\n",
    "* Abstraction\n",
    "* Encapsulation\n",
    "* Héritage\n",
    "* Polymorphisme\n",
    "\n",
    "Ces quatre piliers vont permettre de structurer le code de manière à le rendre plus robuste et flexible, ce qui facilite son développement, sa maintenance et sa réutilisation."
   ]
  },
  {
   "cell_type": "markdown",
   "id": "bf25a58a",
   "metadata": {},
   "source": [
    "### Abstraction\n",
    "\n",
    "L'abstraction est le concept de cacher les détails complexes tout en exposant uniquement les parties essentielles. L'abstraction permet de se concentrer sur ce qu'un objet fait plutôt que sur la manière dont il le fait.\n",
    "\n",
    "Prenez l'exemple d'un téléphone : vous l'utilisez constamment sans en connaître le fonctionnement interne. Vous utilisez des applications et des boutons qui vous permettent de passer un appel ou envoyer un SMS sans avoir besoin de connaître quels sont les rouages internes du téléphone qui permettent d'assurer ces fonctionnalités.\n",
    "\n",
    "En programmation il s'agit du même principe. Nous allons pouvoir utiliser les méthodes accessibles d'un objet en s'abstrayant de leurs logiques internes."
   ]
  },
  {
   "cell_type": "code",
   "execution_count": null,
   "id": "bdeb840b",
   "metadata": {},
   "outputs": [],
   "source": [
    "# Exemple de code pour illustrer l'abstraction\n",
    "# Les méthodes débutant par _ est une convention non restrictive que ces méthodes sont privées\n",
    "# et qu'elles devraient uniquement être utilisées dans la classe elle-même\n",
    "import random\n",
    "\n",
    "class Telephone:\n",
    "    \n",
    "    def __init__(self):\n",
    "        self.battery_level = 100\n",
    "    \n",
    "    def _signal_strength(self):\n",
    "        return random.randint(1, 5)\n",
    "    \n",
    "    def _drain_battery(self, amount):\n",
    "        self.battery_level -= amount\n",
    "        if self.battery_level < 0:\n",
    "            self.battery_level = 0\n",
    "    \n",
    "    def _check_battery(self):\n",
    "        if self.battery_level <= 0:\n",
    "            print(\"Batterie faible. Veuillez charger votre téléphone.\")\n",
    "            return False\n",
    "        return True\n",
    "    \n",
    "    def faire_appel(self):\n",
    "        if not self._check_battery():\n",
    "            return\n",
    "        \n",
    "        signal = self._signal_strength()\n",
    "        if signal < 2:\n",
    "            print(\"Signal faible. Impossible de passer l'appel.\")\n",
    "        else:\n",
    "            self._drain_battery(10)\n",
    "            print(f\"Appel en cours... Signal: {signal} barres. Batterie: {self.battery_level}%\")\n",
    "            \n",
    "    def envoyer_sms(self, message):\n",
    "        if not self._check_battery():\n",
    "            return\n",
    "        \n",
    "        self._drain_battery(5)\n",
    "        print(f\"Envoi du SMS: {message}. Batterie: {self.battery_level}%\")\n"
   ]
  },
  {
   "attachments": {},
   "cell_type": "markdown",
   "id": "e73972a8",
   "metadata": {},
   "source": [
    "![Image Alt Text](data:image/svg+xml;base64,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)"
   ]
  },
  {
   "cell_type": "code",
   "execution_count": null,
   "id": "a1bb3821",
   "metadata": {},
   "outputs": [],
   "source": [
    "# Utilisation des méthodes publiques sans connaître la logique interne\n",
    "mon_telephone = Telephone()\n",
    "mon_telephone.faire_appel()\n",
    "mon_telephone.envoyer_sms(\"Bonjour !\")"
   ]
  },
  {
   "cell_type": "code",
   "execution_count": null,
   "id": "e2d1b23b",
   "metadata": {},
   "outputs": [],
   "source": [
    "## Exercice : \n",
    "#\n",
    "# Affichage des statistiques/caractéristiques d'une liste d'entiers\n",
    "# Transformez cette suite logique de commandes en une classe\n",
    "# qui prendra comme argument la liste et qui permettra en une\n",
    "# seule méthode d'afficher les stats/caractéristiques de la liste\n",
    "\n",
    "# Liste de nombres entiers pour les opérations\n",
    "liste_entiers = [2, 25, 6, 12, 15, 7, 11]\n",
    "\n",
    "# Calcul de la moyenne\n",
    "somme_elements = sum(liste_entiers)\n",
    "nombre_elements = len(liste_entiers)\n",
    "moyenne = somme_elements / nombre_elements\n",
    "print(f\"Moyenne: {moyenne}\")\n",
    "\n",
    "# Calcul de la médiane\n",
    "liste_triee = sorted(liste_entiers)\n",
    "if nombre_elements % 2 == 1:\n",
    "    mediane = liste_triee[nombre_elements // 2]\n",
    "else:\n",
    "    mediane = (liste_triee[nombre_elements // 2 - 1] + liste_triee[nombre_elements // 2]) / 2\n",
    "print(f\"Médiane: {mediane}\")\n",
    "\n",
    "# Calcul de l'écart-type\n",
    "somme_diff_carre = sum((x - moyenne)**2 for x in liste_entiers)\n",
    "ecart_type = (somme_diff_carre / nombre_elements)**0.5\n",
    "print(f\"Écart-type: {ecart_type}\")\n",
    "\n",
    "# Filtrage des nombres premiers\n",
    "nombres_premiers = []\n",
    "for n in liste_entiers:\n",
    "    est_premier = True\n",
    "    if n < 2:\n",
    "        est_premier = False\n",
    "    for i in range(2, int(n ** 0.5) + 1):\n",
    "        if n % i == 0:\n",
    "            est_premier = False\n",
    "            break\n",
    "    if est_premier:\n",
    "        nombres_premiers.append(n)\n",
    "print(f\"Nombres premiers: {nombres_premiers}\")"
   ]
  },
  {
   "cell_type": "code",
   "execution_count": null,
   "id": "d9c8f5e2",
   "metadata": {},
   "outputs": [],
   "source": [
    "# Classe à remplir\n",
    "class ListWrapper:\n",
    "    \n",
    "    def __init__(self, liste_entiers):\n",
    "        self.liste_entiers = liste_entiers\n",
    "\n",
    "    def _calculer_moyenne(self):\n",
    "        raise NotImplementedError(\"La méthode _calculer_moyenne n'est pas implémentée\")\n",
    "\n",
    "    def _calculer_mediane(self):\n",
    "        raise NotImplementedError(\"La méthode _calculer_mediane n'est pas implémentée\")\n",
    "\n",
    "    def _calculer_ecart_type(self):\n",
    "        raise NotImplementedError(\"La méthode _calculer_ecart_type n'est pas implémentée\")\n",
    "\n",
    "    def _filtrer_nombres_premiers(self):\n",
    "        raise NotImplementedError(\"La méthode _filtrer_nombres_premiers n'est pas implémentée\")\n",
    "\n",
    "    def obtenir_statistiques_caracteristiques(self):\n",
    "        raise NotImplementedError(\"La méthode obtenir_statistiques_caracteristiques n'est pas implémentée\")\n",
    "\n",
    "# Instanciation de la classe\n",
    "mes_entiers = ListWrapper([2, 25, 6, 12, 15, 7, 11])\n",
    "\n",
    "# Utilisation de la méthode autorisée sans connaître la logique interne\n",
    "mes_entiers.obtenir_statistiques_caracteristiques()\n"
   ]
  },
  {
   "attachments": {},
   "cell_type": "markdown",
   "id": "1e8aa8e7",
   "metadata": {},
   "source": [
    "![Image Alt Text](data:image/svg+xml;base64,PHN2ZyB4bWxucz0iaHR0cDovL3d3dy53My5vcmcvMjAwMC9zdmciIHhtbG5zOnhsaW5rPSJodHRwOi8vd3d3LnczLm9yZy8xOTk5L3hsaW5rIiB4bWxuczpsdWNpZD0ibHVjaWQiIHdpZHRoPSI0MTYiIGhlaWdodD0iMzI4Ij48ZyB0cmFuc2Zvcm09InRyYW5zbGF0ZSgtNjA5IC00MjApIiBsdWNpZDpwYWdlLXRhYi1pZD0iSFdFcC12aS1SU0ZPIj48cGF0aCBkPSJNNjQwIDQ0MGgzNjB2MjYySDY0MHoiIHN0cm9rZT0iIzMzMyIgc3Ryb2tlLXdpZHRoPSIyIiBmaWxsPSIjZmZmIi8+PHBhdGggZD0iTTY0MCA0NzcuNmgzNjBtLTM2MCA1OC4xaDM2MCIgc3Ryb2tlPSIjMzMzIiBzdHJva2Utd2lkdGg9IjIiIGZpbGw9Im5vbmUiLz48dXNlIHhsaW5rOmhyZWY9IiNhIiB0cmFuc2Zvcm09Im1hdHJpeCgxLDAsMCwxLDY0OCw0NDgpIHRyYW5zbGF0ZSg5My44MjQ5OTk5OTk5OTk5OSAxNC42KSIvPjx1c2UgeGxpbms6aHJlZj0iI2IiIHRyYW5zZm9ybT0ibWF0cml4KDEsMCwwLDEsNjQ4LDQ0OCkgdHJhbnNsYXRlKDE1My43MjUgMTQuNikiLz48dXNlIHhsaW5rOmhyZWY9IiNjIiB0cmFuc2Zvcm09Im1hdHJpeCgxLDAsMCwxLDY1Miw0ODUuNikgdHJhbnNsYXRlKDAgMjUuMSkiLz48dXNlIHhsaW5rOmhyZWY9IiNkIiB0cmFuc2Zvcm09Im1hdHJpeCgxLDAsMCwxLDY1Miw0ODUuNikgdHJhbnNsYXRlKDE1LjUgMjUuMSkiLz48dXNlIHhsaW5rOmhyZWY9IiNlIiB0cmFuc2Zvcm09Im1hdHJpeCgxLDAsMCwxLDY1Miw0ODUuNikgdHJhbnNsYXRlKDEyMS4zMDAwMDAwMDAwMDAwMSAyNS4xKSIvPjxnPjx1c2UgeGxpbms6aHJlZj0iI2MiIHRyYW5zZm9ybT0ibWF0cml4KDEsMCwwLDEsNjUyLDU0My43KSB0cmFuc2xhdGUoMCAyNS4xKSIvPjx1c2UgeGxpbms6aHJlZj0iI2YiIHRyYW5zZm9ybT0ibWF0cml4KDEsMCwwLDEsNjUyLDU0My43KSB0cmFuc2xhdGUoMTUuNSAyNS4xKSIvPjx1c2UgeGxpbms6aHJlZj0iI2ciIHRyYW5zZm9ybT0ibWF0cml4KDEsMCwwLDEsNjUyLDU0My43KSB0cmFuc2xhdGUoMCA0Ni43KSIvPjx1c2UgeGxpbms6aHJlZj0iI2giIHRyYW5zZm9ybT0ibWF0cml4KDEsMCwwLDEsNjUyLDU0My43KSB0cmFuc2xhdGUoMTAuOTUgNDYuNykiLz48dXNlIHhsaW5rOmhyZWY9IiNpIiB0cmFuc2Zvcm09Im1hdHJpeCgxLDAsMCwxLDY1Miw1NDMuNykgdHJhbnNsYXRlKDE4OC42NDk5OTk5OTk5OTk5OCA0Ni43KSIvPjx1c2UgeGxpbms6aHJlZj0iI2ciIHRyYW5zZm9ybT0ibWF0cml4KDEsMCwwLDEsNjUyLDU0My43KSB0cmFuc2xhdGUoMCA2OC4zMDAwMDAwMDAwMDAwMSkiLz48dXNlIHhsaW5rOmhyZWY9IiNqIiB0cmFuc2Zvcm09Im1hdHJpeCgxLDAsMCwxLDY1Miw1NDMuNykgdHJhbnNsYXRlKDEwLjk1IDY4LjMwMDAwMDAwMDAwMDAxKSIvPjx1c2UgeGxpbms6aHJlZj0iI2siIHRyYW5zZm9ybT0ibWF0cml4KDEsMCwwLDEsNjUyLDU0My43KSB0cmFuc2xhdGUoMTgzLjU5OTk5OTk5OTk5OTk3IDY4LjMwMDAwMDAwMDAwMDAxKSIvPjx1c2UgeGxpbms6aHJlZj0iI2ciIHRyYW5zZm9ybT0ibWF0cml4KDEsMCwwLDEsNjUyLDU0My43KSB0cmFuc2xhdGUoMCA4OS45MDAwMDAwMDAwMDAwMikiLz48dXNlIHhsaW5rOmhyZWY9IiNsIiB0cmFuc2Zvcm09Im1hdHJpeCgxLDAsMCwxLDY1Miw1NDMuNykgdHJhbnNsYXRlKDEwLjk1IDg5LjkwMDAwMDAwMDAwMDAyKSIvPjx1c2UgeGxpbms6aHJlZj0iI2kiIHRyYW5zZm9ybT0ibWF0cml4KDEsMCwwLDEsNjUyLDU0My43KSB0cmFuc2xhdGUoMTk4LjY0OTk5OTk5OTk5OTk4IDg5LjkwMDAwMDAwMDAwMDAyKSIvPjx1c2UgeGxpbms6aHJlZj0iI2ciIHRyYW5zZm9ybT0ibWF0cml4KDEsMCwwLDEsNjUyLDU0My43KSB0cmFuc2xhdGUoMCAxMTEuNTAwMDAwMDAwMDAwMDEpIi8+PHVzZSB4bGluazpocmVmPSIjbSIgdHJhbnNmb3JtPSJtYXRyaXgoMSwwLDAsMSw2NTIsNTQzLjcpIHRyYW5zbGF0ZSgxMC45NSAxMTEuNTAwMDAwMDAwMDAwMDEpIi8+PHVzZSB4bGluazpocmVmPSIjbiIgdHJhbnNmb3JtPSJtYXRyaXgoMSwwLDAsMSw2NTIsNTQzLjcpIHRyYW5zbGF0ZSgyNDIuMzQ5OTk5OTk5OTk5OTQgMTExLjUwMDAwMDAwMDAwMDAxKSIvPjx1c2UgeGxpbms6aHJlZj0iI2MiIHRyYW5zZm9ybT0ibWF0cml4KDEsMCwwLDEsNjUyLDU0My43KSB0cmFuc2xhdGUoMCAxMzMuMSkiLz48dXNlIHhsaW5rOmhyZWY9IiNvIiB0cmFuc2Zvcm09Im1hdHJpeCgxLDAsMCwxLDY1Miw1NDMuNykgdHJhbnNsYXRlKDE1LjUgMTMzLjEpIi8+PC9nPjxkZWZzPjxwYXRoIGZpbGw9IiMzMzMiIGQ9Ik0yMTItMTc5Yy0xMC0yOC0zNS00NS03My00NS01OSAwLTg3IDQwLTg3IDk5IDAgNjAgMjkgMTAxIDg5IDEwMSA0MyAwIDYyLTI0IDc4LTUybDI3IDE0QzIyOC0yNCAxOTUgNCAxMzkgNCA1OSA0IDIyLTQ2IDE4LTEyNWMtNi0xMDQgOTktMTUzIDE4Ny0xMTEgMTkgOSAzMSAyNiAzOSA0NiIgaWQ9InAiLz48cGF0aCBmaWxsPSIjMzMzIiBkPSJNMjQgMHYtMjYxaDMyVjBIMjQiIGlkPSJxIi8+PHBhdGggZmlsbD0iIzMzMyIgZD0iTTE0MS0zNkMxMjYtMTUgMTEwIDUgNzMgNCAzNyAzIDE1LTE3IDE1LTUzYy0xLTY0IDYzLTYzIDEyNS02MyAzLTM1LTktNTQtNDEtNTQtMjQgMS00MSA3LTQyIDMxbC0zMy0zYzUtMzcgMzMtNTIgNzYtNTIgNDUgMCA3MiAyMCA3MiA2NHY4MmMtMSAyMCA3IDMyIDI4IDI3djIwYy0zMSA5LTYxLTItNTktMzV6TTQ4LTUzYzAgMjAgMTIgMzMgMzIgMzMgNDEtMyA2My0yOSA2MC03NC00MyAyLTkyLTUtOTIgNDEiIGlkPSJyIi8+PHBhdGggZmlsbD0iIzMzMyIgZD0iTTEzNS0xNDNjLTMtMzQtODYtMzgtODcgMCAxNSA1MyAxMTUgMTIgMTE5IDkwUzE3IDIxIDEwLTQ1bDI4LTVjNCAzNiA5NyA0NSA5OCAwLTEwLTU2LTExMy0xNS0xMTgtOTAtNC01NyA4Mi02MyAxMjItNDIgMTIgNyAyMSAxOSAyNCAzNSIgaWQ9InMiLz48cGF0aCBmaWxsPSIjMzMzIiBkPSJNMTAwLTE5NGM2MyAwIDg2IDQyIDg0IDEwNkg0OWMwIDQwIDE0IDY3IDUzIDY4IDI2IDEgNDMtMTIgNDktMjlsMjggOGMtMTEgMjgtMzcgNDUtNzcgNDVDNDQgNCAxNC0zMyAxNS05NmMxLTYxIDI2LTk4IDg1LTk4em01MiA4MWM2LTYwLTc2LTc3LTk3LTI4LTMgNy02IDE3LTYgMjhoMTAzIiBpZD0idCIvPjxnIGlkPSJhIj48dXNlIHRyYW5zZm9ybT0ibWF0cml4KDAuMDUsMCwwLDAuMDUsMCwwKSIgeGxpbms6aHJlZj0iI3AiLz48dXNlIHRyYW5zZm9ybT0ibWF0cml4KDAuMDUsMCwwLDAuMDUsMTIuOTUwMDAwMDAwMDAwMDAxLDApIiB4bGluazpocmVmPSIjcSIvPjx1c2UgdHJhbnNmb3JtPSJtYXRyaXgoMC4wNSwwLDAsMC4wNSwxNi45MDAwMDAwMDAwMDAwMDIsMCkiIHhsaW5rOmhyZWY9IiNyIi8+PHVzZSB0cmFuc2Zvcm09Im1hdHJpeCgwLjA1LDAsMCwwLjA1LDI2LjkwMDAwMDAwMDAwMDAwMiwwKSIgeGxpbms6aHJlZj0iI3MiLz48dXNlIHRyYW5zZm9ybT0ibWF0cml4KDAuMDUsMCwwLDAuMDUsMzUuOTAwMDAwMDAwMDAwMDA2LDApIiB4bGluazpocmVmPSIjcyIvPjx1c2UgdHJhbnNmb3JtPSJtYXRyaXgoMC4wNSwwLDAsMC4wNSw0NC45MDAwMDAwMDAwMDAwMDYsMCkiIHhsaW5rOmhyZWY9IiN0Ii8+PC9nPjxwYXRoIGZpbGw9IiMzMzMiIGQ9Ik0zMCAwdi0yNDhoMzN2MjIxaDEyNVYwSDMwIiBpZD0idSIvPjxwYXRoIGZpbGw9IiMzMzMiIGQ9Ik0yNC0yMzF2LTMwaDMydjMwSDI0ek0yNCAwdi0xOTBoMzJWMEgyNCIgaWQ9InYiLz48cGF0aCBmaWxsPSIjMzMzIiBkPSJNNTktNDdjLTIgMjQgMTggMjkgMzggMjJ2MjRDNjQgOSAyNyA0IDI3LTQwdi0xMjdINXYtMjNoMjRsOS00M2gyMXY0M2gzNXYyM0g1OXYxMjAiIGlkPSJ3Ii8+PHBhdGggZmlsbD0iIzMzMyIgZD0iTTI2NiAwaC00MGwtNTYtMjEwTDExNSAwSDc1TDItMjQ4aDM1TDk2LTMwbDE1LTY0IDQzLTE1NGgzMmw1OSAyMTggNTktMjE4aDM1IiBpZD0ieCIvPjxwYXRoIGZpbGw9IiMzMzMiIGQ9Ik0xMTQtMTYzQzM2LTE3OSA2MS03MiA1NyAwSDI1bC0xLTE5MGgzMGMxIDEyLTEgMjkgMiAzOSA2LTI3IDIzLTQ5IDU4LTQxdjI5IiBpZD0ieSIvPjxwYXRoIGZpbGw9IiMzMzMiIGQ9Ik0xMTUtMTk0YzU1IDEgNzAgNDEgNzAgOThTMTY5IDIgMTE1IDRDODQgNCA2Ni05IDU1LTMwbDEgMTA1SDI0bC0xLTI2NWgzMWwyIDMwYzEwLTIxIDI4LTM0IDU5LTM0em0tOCAxNzRjNDAgMCA0NS0zNCA0NS03NXMtNi03My00NS03NGMtNDIgMC01MSAzMi01MSA3NiAwIDQzIDEwIDczIDUxIDczIiBpZD0ieiIvPjxnIGlkPSJiIj48dXNlIHRyYW5zZm9ybT0ibWF0cml4KDAuMDUsMCwwLDAuMDUsMCwwKSIgeGxpbms6aHJlZj0iI3UiLz48dXNlIHRyYW5zZm9ybT0ibWF0cml4KDAuMDUsMCwwLDAuMDUsMTAsMCkiIHhsaW5rOmhyZWY9IiN2Ii8+PHVzZSB0cmFuc2Zvcm09Im1hdHJpeCgwLjA1LDAsMCwwLjA1LDEzLjk0OTk5OTk5OTk5OTk5OCwwKSIgeGxpbms6aHJlZj0iI3MiLz48dXNlIHRyYW5zZm9ybT0ibWF0cml4KDAuMDUsMCwwLDAuMDUsMjIuOTUsMCkiIHhsaW5rOmhyZWY9IiN3Ii8+PHVzZSB0cmFuc2Zvcm09Im1hdHJpeCgwLjA1LDAsMCwwLjA1LDI3Ljk1MDAwMDAwMDAwMDAwMywwKSIgeGxpbms6aHJlZj0iI3giLz48dXNlIHRyYW5zZm9ybT0ibWF0cml4KDAuMDUsMCwwLDAuMDUsNDQuNTUsMCkiIHhsaW5rOmhyZWY9IiN5Ii8+PHVzZSB0cmFuc2Zvcm09Im1hdHJpeCgwLjA1LDAsMCwwLjA1LDUwLjUsMCkiIHhsaW5rOmhyZWY9IiNyIi8+PHVzZSB0cmFuc2Zvcm09Im1hdHJpeCgwLjA1LDAsMCwwLjA1LDYwLjUsMCkiIHhsaW5rOmhyZWY9IiN6Ii8+PHVzZSB0cmFuc2Zvcm09Im1hdHJpeCgwLjA1LDAsMCwwLjA1LDcwLjUsMCkiIHhsaW5rOmhyZWY9IiN6Ii8+PHVzZSB0cmFuc2Zvcm09Im1hdHJpeCgwLjA1LDAsMCwwLjA1LDgwLjUsMCkiIHhsaW5rOmhyZWY9IiN0Ii8+PHVzZSB0cmFuc2Zvcm09Im1hdHJpeCgwLjA1LDAsMCwwLjA1LDkwLjUsMCkiIHhsaW5rOmhyZWY9IiN5Ii8+PC9nPjxwYXRoIGZpbGw9IiMzMzMiIGQ9Ik0xMTgtMTA3djc1SDkydi03NUgxOHYtMjZoNzR2LTc1aDI2djc1aDc0djI2aC03NCIgaWQ9IkEiLz48dXNlIHRyYW5zZm9ybT0ibWF0cml4KDAuMDUsMCwwLDAuMDUsMCwwKSIgeGxpbms6aHJlZj0iI0EiIGlkPSJjIi8+PHBhdGggZmlsbD0iIzMzMyIgZD0iTS01IDcyVjQ5aDIwOXYyM0gtNSIgaWQ9IkIiLz48cGF0aCBmaWxsPSIjMzMzIiBkPSJNMTE3LTE5NGM4OS00IDUzIDExNiA2MCAxOTRoLTMydi0xMjFjMC0zMS04LTQ5LTM5LTQ4QzM0LTE2NyA2Mi02NyA1NyAwSDI1bC0xLTE5MGgzMGMxIDEwLTEgMjQgMiAzMiAxMS0yMiAyOS0zNSA2MS0zNiIgaWQ9IkMiLz48cGF0aCBmaWxsPSIjMzMzIiBkPSJNMzMtMTU0di0zNmgzNHYzNkgzM3pNMzMgMHYtMzZoMzRWMEgzMyIgaWQ9IkQiLz48ZyBpZD0iZCI+PHVzZSB0cmFuc2Zvcm09Im1hdHJpeCgwLjA1LDAsMCwwLjA1LDAsMCkiIHhsaW5rOmhyZWY9IiNxIi8+PHVzZSB0cmFuc2Zvcm09Im1hdHJpeCgwLjA1LDAsMCwwLjA1LDMuOTUsMCkiIHhsaW5rOmhyZWY9IiN2Ii8+PHVzZSB0cmFuc2Zvcm09Im1hdHJpeCgwLjA1LDAsMCwwLjA1LDcuOSwwKSIgeGxpbms6aHJlZj0iI3MiLz48dXNlIHRyYW5zZm9ybT0ibWF0cml4KDAuMDUsMCwwLDAuMDUsMTYuOSwwKSIgeGxpbms6aHJlZj0iI3ciLz48dXNlIHRyYW5zZm9ybT0ibWF0cml4KDAuMDUsMCwwLDAuMDUsMjEuOSwwKSIgeGxpbms6aHJlZj0iI3QiLz48dXNlIHRyYW5zZm9ybT0ibWF0cml4KDAuMDUsMCwwLDAuMDUsMzEuODk5OTk5OTk5OTk5OTk1LDApIiB4bGluazpocmVmPSIjQiIvPjx1c2UgdHJhbnNmb3JtPSJtYXRyaXgoMC4wNSwwLDAsMC4wNSw0MS45LDApIiB4bGluazpocmVmPSIjdCIvPjx1c2UgdHJhbnNmb3JtPSJtYXRyaXgoMC4wNSwwLDAsMC4wNSw1MS45MDAwMDAwMDAwMDAwMDYsMCkiIHhsaW5rOmhyZWY9IiNDIi8+PHVzZSB0cmFuc2Zvcm09Im1hdHJpeCgwLjA1LDAsMCwwLjA1LDYxLjkwMDAwMDAwMDAwMDAwNiwwKSIgeGxpbms6aHJlZj0iI3ciLz48dXNlIHRyYW5zZm9ybT0ibWF0cml4KDAuMDUsMCwwLDAuMDUsNjYuOSwwKSIgeGxpbms6aHJlZj0iI3YiLz48dXNlIHRyYW5zZm9ybT0ibWF0cml4KDAuMDUsMCwwLDAuMDUsNzAuODUwMDAwMDAwMDAwMDEsMCkiIHhsaW5rOmhyZWY9IiN0Ii8+PHVzZSB0cmFuc2Zvcm09Im1hdHJpeCgwLjA1LDAsMCwwLjA1LDgwLjg1MDAwMDAwMDAwMDAxLDApIiB4bGluazpocmVmPSIjeSIvPjx1c2UgdHJhbnNmb3JtPSJtYXRyaXgoMC4wNSwwLDAsMC4wNSw4Ni44MDAwMDAwMDAwMDAwMSwwKSIgeGxpbms6aHJlZj0iI3MiLz48dXNlIHRyYW5zZm9ybT0ibWF0cml4KDAuMDUsMCwwLDAuMDUsOTUuODAwMDAwMDAwMDAwMDEsMCkiIHhsaW5rOmhyZWY9IiNEIi8+PC9nPjxnIGlkPSJlIj48dXNlIHRyYW5zZm9ybT0ibWF0cml4KDAuMDUsMCwwLDAuMDUsMCwwKSIgeGxpbms6aHJlZj0iI3EiLz48dXNlIHRyYW5zZm9ybT0ibWF0cml4KDAuMDUsMCwwLDAuMDUsMy45NSwwKSIgeGxpbms6aHJlZj0iI3YiLz48dXNlIHRyYW5zZm9ybT0ibWF0cml4KDAuMDUsMCwwLDAuMDUsNy45LDApIiB4bGluazpocmVmPSIjcyIvPjx1c2UgdHJhbnNmb3JtPSJtYXRyaXgoMC4wNSwwLDAsMC4wNSwxNi45LDApIiB4bGluazpocmVmPSIjdyIvPjwvZz48cGF0aCBmaWxsPSIjMzMzIiBkPSJNODcgNzVDNDkgMzMgMjItMTcgMjItOTRjMC03NiAyOC0xMjYgNjUtMTY3aDMxYy0zOCA0MS02NCA5Mi02NCAxNjhTODAgMzQgMTE4IDc1SDg3IiBpZD0iRSIvPjxwYXRoIGZpbGw9IiMzMzMiIGQ9Ik0zMy0yNjFjMzggNDEgNjUgOTIgNjUgMTY4UzcxIDM0IDMzIDc1SDJDMzkgMzQgNjYtMTcgNjYtOTNTMzktMjIwIDItMjYxaDMxIiBpZD0iRiIvPjxnIGlkPSJmIj48dXNlIHRyYW5zZm9ybT0ibWF0cml4KDAuMDUsMCwwLDAuMDUsMCwwKSIgeGxpbms6aHJlZj0iI0IiLz48dXNlIHRyYW5zZm9ybT0ibWF0cml4KDAuMDUsMCwwLDAuMDUsMTAsMCkiIHhsaW5rOmhyZWY9IiNCIi8+PHVzZSB0cmFuc2Zvcm09Im1hdHJpeCgwLjA1LDAsMCwwLjA1LDIwLDApIiB4bGluazpocmVmPSIjdiIvPjx1c2UgdHJhbnNmb3JtPSJtYXRyaXgoMC4wNSwwLDAsMC4wNSwyMy45NSwwKSIgeGxpbms6aHJlZj0iI0MiLz48dXNlIHRyYW5zZm9ybT0ibWF0cml4KDAuMDUsMCwwLDAuMDUsMzMuOTUsMCkiIHhsaW5rOmhyZWY9IiN2Ii8+PHVzZSB0cmFuc2Zvcm09Im1hdHJpeCgwLjA1LDAsMCwwLjA1LDM3LjkwMDAwMDAwMDAwMDAwNiwwKSIgeGxpbms6aHJlZj0iI3ciLz48dXNlIHRyYW5zZm9ybT0ibWF0cml4KDAuMDUsMCwwLDAuMDUsNDIuOTAwMDAwMDAwMDAwMDA2LDApIiB4bGluazpocmVmPSIjQiIvPjx1c2UgdHJhbnNmb3JtPSJtYXRyaXgoMC4wNSwwLDAsMC4wNSw1Mi45MDAwMDAwMDAwMDAwMDYsMCkiIHhsaW5rOmhyZWY9IiNCIi8+PHVzZSB0cmFuc2Zvcm09Im1hdHJpeCgwLjA1LDAsMCwwLjA1LDYyLjkwMDAwMDAwMDAwMDAwNiwwKSIgeGxpbms6aHJlZj0iI0UiLz48dXNlIHRyYW5zZm9ybT0ibWF0cml4KDAuMDUsMCwwLDAuMDUsNjguODUwMDAwMDAwMDAwMDEsMCkiIHhsaW5rOmhyZWY9IiNxIi8+PHVzZSB0cmFuc2Zvcm09Im1hdHJpeCgwLjA1LDAsMCwwLjA1LDcyLjgwMDAwMDAwMDAwMDAxLDApIiB4bGluazpocmVmPSIjdiIvPjx1c2UgdHJhbnNmb3JtPSJtYXRyaXgoMC4wNSwwLDAsMC4wNSw3Ni43NTAwMDAwMDAwMDAwMSwwKSIgeGxpbms6aHJlZj0iI3MiLz48dXNlIHRyYW5zZm9ybT0ibWF0cml4KDAuMDUsMCwwLDAuMDUsODUuNzUwMDAwMDAwMDAwMDEsMCkiIHhsaW5rOmhyZWY9IiN3Ii8+PHVzZSB0cmFuc2Zvcm09Im1hdHJpeCgwLjA1LDAsMCwwLjA1LDkwLjc1MDAwMDAwMDAwMDAxLDApIiB4bGluazpocmVmPSIjdCIvPjx1c2UgdHJhbnNmb3JtPSJtYXRyaXgoMC4wNSwwLDAsMC4wNSwxMDAuNzUwMDAwMDAwMDAwMDEsMCkiIHhsaW5rOmhyZWY9IiNCIi8+PHVzZSB0cmFuc2Zvcm09Im1hdHJpeCgwLjA1LDAsMCwwLjA1LDExMC43NSwwKSIgeGxpbms6aHJlZj0iI3QiLz48dXNlIHRyYW5zZm9ybT0ibWF0cml4KDAuMDUsMCwwLDAuMDUsMTIwLjc1LDApIiB4bGluazpocmVmPSIjQyIvPjx1c2UgdHJhbnNmb3JtPSJtYXRyaXgoMC4wNSwwLDAsMC4wNSwxMzAuNzUsMCkiIHhsaW5rOmhyZWY9IiN3Ii8+PHVzZSB0cmFuc2Zvcm09Im1hdHJpeCgwLjA1LDAsMCwwLjA1LDEzNS43NSwwKSIgeGxpbms6aHJlZj0iI3YiLz48dXNlIHRyYW5zZm9ybT0ibWF0cml4KDAuMDUsMCwwLDAuMDUsMTM5LjcsMCkiIHhsaW5rOmhyZWY9IiN0Ii8+PHVzZSB0cmFuc2Zvcm09Im1hdHJpeCgwLjA1LDAsMCwwLjA1LDE0OS43LDApIiB4bGluazpocmVmPSIjeSIvPjx1c2UgdHJhbnNmb3JtPSJtYXRyaXgoMC4wNSwwLDAsMC4wNSwxNTUuNjQ5OTk5OTk5OTk5OTgsMCkiIHhsaW5rOmhyZWY9IiNzIi8+PHVzZSB0cmFuc2Zvcm09Im1hdHJpeCgwLjA1LDAsMCwwLjA1LDE2NC42NDk5OTk5OTk5OTk5OCwwKSIgeGxpbms6aHJlZj0iI0QiLz48dXNlIHRyYW5zZm9ybT0ibWF0cml4KDAuMDUsMCwwLDAuMDUsMTY5LjY0OTk5OTk5OTk5OTk4LDApIiB4bGluazpocmVmPSIjcSIvPjx1c2UgdHJhbnNmb3JtPSJtYXRyaXgoMC4wNSwwLDAsMC4wNSwxNzMuNTk5OTk5OTk5OTk5OTcsMCkiIHhsaW5rOmhyZWY9IiN2Ii8+PHVzZSB0cmFuc2Zvcm09Im1hdHJpeCgwLjA1LDAsMCwwLjA1LDE3Ny41NDk5OTk5OTk5OTk5NSwwKSIgeGxpbms6aHJlZj0iI3MiLz48dXNlIHRyYW5zZm9ybT0ibWF0cml4KDAuMDUsMCwwLDAuMDUsMTg2LjU0OTk5OTk5OTk5OTk1LDApIiB4bGluazpocmVmPSIjdyIvPjx1c2UgdHJhbnNmb3JtPSJtYXRyaXgoMC4wNSwwLDAsMC4wNSwxOTEuNTQ5OTk5OTk5OTk5OTUsMCkiIHhsaW5rOmhyZWY9IiNGIi8+PC9nPjxwYXRoIGZpbGw9IiMzMzMiIGQ9Ik0xNi04MnYtMjhoODh2MjhIMTYiIGlkPSJHIi8+PHVzZSB0cmFuc2Zvcm09Im1hdHJpeCgwLjA1LDAsMCwwLjA1LDAsMCkiIHhsaW5rOmhyZWY9IiNHIiBpZD0iZyIvPjxwYXRoIGZpbGw9IiMzMzMiIGQ9Ik05Ni0xNjljLTQwIDAtNDggMzMtNDggNzNzOSA3NSA0OCA3NWMyNCAwIDQxLTE0IDQzLTM4bDMyIDJjLTYgMzctMzEgNjEtNzQgNjEtNTkgMC03Ni00MS04Mi05OS0xMC05MyAxMDEtMTMxIDE0Ny02NCA0IDcgNSAxNCA3IDIybC0zMiAzYy00LTIxLTE2LTM1LTQxLTM1IiBpZD0iSCIvPjxwYXRoIGZpbGw9IiMzMzMiIGQ9Ik04NCA0Qy01IDggMzAtMTEyIDIzLTE5MGgzMnYxMjBjMCAzMSA3IDUwIDM5IDQ5IDcyLTIgNDUtMTAxIDUwLTE2OWgzMWwxIDE5MGgtMzBjLTEtMTAgMS0yNS0yLTMzLTExIDIyLTI4IDM2LTYwIDM3IiBpZD0iSSIvPjxwYXRoIGZpbGw9IiMzMzMiIGQ9Ik0yMTAtMTY5Yy02NyAzLTM4IDEwNS00NCAxNjloLTMxdi0xMjFjMC0yOS01LTUwLTM1LTQ4QzM0LTE2NSA2Mi02NSA1NiAwSDI1bC0xLTE5MGgzMGMxIDEwLTEgMjQgMiAzMiAxMC00NCA5OS01MCAxMDcgMCAxMS0yMSAyNy0zNSA1OC0zNiA4NS0yIDQ3IDExOSA1NSAxOTRoLTMxdi0xMjFjMC0yOS01LTQ5LTM1LTQ4IiBpZD0iSiIvPjxwYXRoIGZpbGw9IiMzMzMiIGQ9Ik0xMDAtMTk0YzYyLTEgODUgMzcgODUgOTkgMSA2My0yNyA5OS04NiA5OVMxNi0zNSAxNS05NWMwLTY2IDI4LTk5IDg1LTk5ek05OS0yMGM0NCAxIDUzLTMxIDUzLTc1IDAtNDMtOC03NS01MS03NXMtNTMgMzItNTMgNzUgMTAgNzQgNTEgNzUiIGlkPSJLIi8+PHBhdGggZmlsbD0iIzMzMyIgZD0iTTE3OS0xOTBMOTMgMzFDNzkgNTkgNTYgODIgMTIgNzNWNDljMzkgNiA1My0yMCA2NC01MEwxLTE5MGgzNEw5Mi0zNGw1NC0xNTZoMzMiIGlkPSJMIi8+PGcgaWQ9ImgiPjx1c2UgdHJhbnNmb3JtPSJtYXRyaXgoMC4wNSwwLDAsMC4wNSwwLDApIiB4bGluazpocmVmPSIjQiIvPjx1c2UgdHJhbnNmb3JtPSJtYXRyaXgoMC4wNSwwLDAsMC4wNSwxMCwwKSIgeGxpbms6aHJlZj0iI0giLz48dXNlIHRyYW5zZm9ybT0ibWF0cml4KDAuMDUsMCwwLDAuMDUsMTksMCkiIHhsaW5rOmhyZWY9IiNyIi8+PHVzZSB0cmFuc2Zvcm09Im1hdHJpeCgwLjA1LDAsMCwwLjA1LDI5LDApIiB4bGluazpocmVmPSIjcSIvPjx1c2UgdHJhbnNmb3JtPSJtYXRyaXgoMC4wNSwwLDAsMC4wNSwzMi45NSwwKSIgeGxpbms6aHJlZj0iI0giLz48dXNlIHRyYW5zZm9ybT0ibWF0cml4KDAuMDUsMCwwLDAuMDUsNDEuOTUsMCkiIHhsaW5rOmhyZWY9IiNJIi8+PHVzZSB0cmFuc2Zvcm09Im1hdHJpeCgwLjA1LDAsMCwwLjA1LDUxLjk1LDApIiB4bGluazpocmVmPSIjcSIvPjx1c2UgdHJhbnNmb3JtPSJtYXRyaXgoMC4wNSwwLDAsMC4wNSw1NS45MDAwMDAwMDAwMDAwMDYsMCkiIHhsaW5rOmhyZWY9IiN0Ii8+PHVzZSB0cmFuc2Zvcm09Im1hdHJpeCgwLjA1LDAsMCwwLjA1LDY1LjksMCkiIHhsaW5rOmhyZWY9IiN5Ii8+PHVzZSB0cmFuc2Zvcm09Im1hdHJpeCgwLjA1LDAsMCwwLjA1LDcxLjg1MDAwMDAwMDAwMDAxLDApIiB4bGluazpocmVmPSIjQiIvPjx1c2UgdHJhbnNmb3JtPSJtYXRyaXgoMC4wNSwwLDAsMC4wNSw4MS44NTAwMDAwMDAwMDAwMSwwKSIgeGxpbms6aHJlZj0iI0oiLz48dXNlIHRyYW5zZm9ybT0ibWF0cml4KDAuMDUsMCwwLDAuMDUsOTYuODAwMDAwMDAwMDAwMDEsMCkiIHhsaW5rOmhyZWY9IiNLIi8+PHVzZSB0cmFuc2Zvcm09Im1hdHJpeCgwLjA1LDAsMCwwLjA1LDEwNi44MDAwMDAwMDAwMDAwMSwwKSIgeGxpbms6aHJlZj0iI0wiLz48dXNlIHRyYW5zZm9ybT0ibWF0cml4KDAuMDUsMCwwLDAuMDUsMTE1LjgwMDAwMDAwMDAwMDAxLDApIiB4bGluazpocmVmPSIjdCIvPjx1c2UgdHJhbnNmb3JtPSJtYXRyaXgoMC4wNSwwLDAsMC4wNSwxMjUuODAwMDAwMDAwMDAwMDEsMCkiIHhsaW5rOmhyZWY9IiNDIi8+PHVzZSB0cmFuc2Zvcm09Im1hdHJpeCgwLjA1LDAsMCwwLjA1LDEzNS44LDApIiB4bGluazpocmVmPSIjQyIvPjx1c2UgdHJhbnNmb3JtPSJtYXRyaXgoMC4wNSwwLDAsMC4wNSwxNDUuOCwwKSIgeGxpbms6aHJlZj0iI3QiLz48dXNlIHRyYW5zZm9ybT0ibWF0cml4KDAuMDUsMCwwLDAuMDUsMTU1LjgsMCkiIHhsaW5rOmhyZWY9IiNFIi8+PHVzZSB0cmFuc2Zvcm09Im1hdHJpeCgwLjA1LDAsMCwwLjA1LDE2MS43NSwwKSIgeGxpbms6aHJlZj0iI0YiLz48dXNlIHRyYW5zZm9ybT0ibWF0cml4KDAuMDUsMCwwLDAuMDUsMTY3LjcsMCkiIHhsaW5rOmhyZWY9IiNEIi8+PC9nPjxwYXRoIGZpbGw9IiMzMzMiIGQ9Ik0xMDEtMjM0Yy0zMS05LTQyIDEwLTM4IDQ0aDM4djIzSDYzVjBIMzJ2LTE2N0g1di0yM2gyN2MtNy01MiAxNy04MiA2OS02OHYyNCIgaWQ9Ik0iLz48ZyBpZD0iaSI+PHVzZSB0cmFuc2Zvcm09Im1hdHJpeCgwLjA1LDAsMCwwLjA1LDAsMCkiIHhsaW5rOmhyZWY9IiNNIi8+PHVzZSB0cmFuc2Zvcm09Im1hdHJpeCgwLjA1LDAsMCwwLjA1LDUsMCkiIHhsaW5rOmhyZWY9IiNxIi8+PHVzZSB0cmFuc2Zvcm09Im1hdHJpeCgwLjA1LDAsMCwwLjA1LDguOTUsMCkiIHhsaW5rOmhyZWY9IiNLIi8+PHVzZSB0cmFuc2Zvcm09Im1hdHJpeCgwLjA1LDAsMCwwLjA1LDE4Ljk1LDApIiB4bGluazpocmVmPSIjciIvPjx1c2UgdHJhbnNmb3JtPSJtYXRyaXgoMC4wNSwwLDAsMC4wNSwyOC45NTAwMDAwMDAwMDAwMDMsMCkiIHhsaW5rOmhyZWY9IiN3Ii8+PC9nPjxwYXRoIGZpbGw9IiMzMzMiIGQ9Ik04NS0xOTRjMzEgMCA0OCAxMyA2MCAzM2wtMS0xMDBoMzJsMSAyNjFoLTMwYy0yLTEwIDAtMjMtMy0zMUMxMzQtOCAxMTYgNCA4NSA0IDMyIDQgMTYtMzUgMTUtOTRjMC02NiAyMy0xMDAgNzAtMTAwem05IDI0Yy00MCAwLTQ2IDM0LTQ2IDc1IDAgNDAgNiA3NCA0NSA3NCA0MiAwIDUxLTMyIDUxLTc2IDAtNDItOS03NC01MC03MyIgaWQ9Ik4iLz48ZyBpZD0iaiI+PHVzZSB0cmFuc2Zvcm09Im1hdHJpeCgwLjA1LDAsMCwwLjA1LDAsMCkiIHhsaW5rOmhyZWY9IiNCIi8+PHVzZSB0cmFuc2Zvcm09Im1hdHJpeCgwLjA1LDAsMCwwLjA1LDEwLDApIiB4bGluazpocmVmPSIjSCIvPjx1c2UgdHJhbnNmb3JtPSJtYXRyaXgoMC4wNSwwLDAsMC4wNSwxOSwwKSIgeGxpbms6aHJlZj0iI3IiLz48dXNlIHRyYW5zZm9ybT0ibWF0cml4KDAuMDUsMCwwLDAuMDUsMjksMCkiIHhsaW5rOmhyZWY9IiNxIi8+PHVzZSB0cmFuc2Zvcm09Im1hdHJpeCgwLjA1LDAsMCwwLjA1LDMyLjk1LDApIiB4bGluazpocmVmPSIjSCIvPjx1c2UgdHJhbnNmb3JtPSJtYXRyaXgoMC4wNSwwLDAsMC4wNSw0MS45NSwwKSIgeGxpbms6aHJlZj0iI0kiLz48dXNlIHRyYW5zZm9ybT0ibWF0cml4KDAuMDUsMCwwLDAuMDUsNTEuOTUsMCkiIHhsaW5rOmhyZWY9IiNxIi8+PHVzZSB0cmFuc2Zvcm09Im1hdHJpeCgwLjA1LDAsMCwwLjA1LDU1LjkwMDAwMDAwMDAwMDAwNiwwKSIgeGxpbms6aHJlZj0iI3QiLz48dXNlIHRyYW5zZm9ybT0ibWF0cml4KDAuMDUsMCwwLDAuMDUsNjUuOSwwKSIgeGxpbms6aHJlZj0iI3kiLz48dXNlIHRyYW5zZm9ybT0ibWF0cml4KDAuMDUsMCwwLDAuMDUsNzEuODUwMDAwMDAwMDAwMDEsMCkiIHhsaW5rOmhyZWY9IiNCIi8+PHVzZSB0cmFuc2Zvcm09Im1hdHJpeCgwLjA1LDAsMCwwLjA1LDgxLjg1MDAwMDAwMDAwMDAxLDApIiB4bGluazpocmVmPSIjSiIvPjx1c2UgdHJhbnNmb3JtPSJtYXRyaXgoMC4wNSwwLDAsMC4wNSw5Ni44MDAwMDAwMDAwMDAwMSwwKSIgeGxpbms6aHJlZj0iI3QiLz48dXNlIHRyYW5zZm9ybT0ibWF0cml4KDAuMDUsMCwwLDAuMDUsMTA2LjgwMDAwMDAwMDAwMDAxLDApIiB4bGluazpocmVmPSIjTiIvPjx1c2UgdHJhbnNmb3JtPSJtYXRyaXgoMC4wNSwwLDAsMC4wNSwxMTYuODAwMDAwMDAwMDAwMDEsMCkiIHhsaW5rOmhyZWY9IiN2Ii8+PHVzZSB0cmFuc2Zvcm09Im1hdHJpeCgwLjA1LDAsMCwwLjA1LDEyMC43NSwwKSIgeGxpbms6aHJlZj0iI3IiLz48dXNlIHRyYW5zZm9ybT0ibWF0cml4KDAuMDUsMCwwLDAuMDUsMTMwLjc1LDApIiB4bGluazpocmVmPSIjQyIvPjx1c2UgdHJhbnNmb3JtPSJtYXRyaXgoMC4wNSwwLDAsMC4wNSwxNDAuNzUsMCkiIHhsaW5rOmhyZWY9IiN0Ii8+PHVzZSB0cmFuc2Zvcm09Im1hdHJpeCgwLjA1LDAsMCwwLjA1LDE1MC43NSwwKSIgeGxpbms6aHJlZj0iI0UiLz48dXNlIHRyYW5zZm9ybT0ibWF0cml4KDAuMDUsMCwwLDAuMDUsMTU2LjcsMCkiIHhsaW5rOmhyZWY9IiNGIi8+PHVzZSB0cmFuc2Zvcm09Im1hdHJpeCgwLjA1LDAsMCwwLjA1LDE2Mi42NDk5OTk5OTk5OTk5OCwwKSIgeGxpbms6aHJlZj0iI0QiLz48L2c+PGcgaWQ9ImsiPjx1c2UgdHJhbnNmb3JtPSJtYXRyaXgoMC4wNSwwLDAsMC4wNSwwLDApIiB4bGluazpocmVmPSIjdiIvPjx1c2UgdHJhbnNmb3JtPSJtYXRyaXgoMC4wNSwwLDAsMC4wNSwzLjk1LDApIiB4bGluazpocmVmPSIjQyIvPjx1c2UgdHJhbnNmb3JtPSJtYXRyaXgoMC4wNSwwLDAsMC4wNSwxMy45NDk5OTk5OTk5OTk5OTgsMCkiIHhsaW5rOmhyZWY9IiN3Ii8+PC9nPjxnIGlkPSJsIj48dXNlIHRyYW5zZm9ybT0ibWF0cml4KDAuMDUsMCwwLDAuMDUsMCwwKSIgeGxpbms6aHJlZj0iI0IiLz48dXNlIHRyYW5zZm9ybT0ibWF0cml4KDAuMDUsMCwwLDAuMDUsMTAsMCkiIHhsaW5rOmhyZWY9IiNIIi8+PHVzZSB0cmFuc2Zvcm09Im1hdHJpeCgwLjA1LDAsMCwwLjA1LDE5LDApIiB4bGluazpocmVmPSIjciIvPjx1c2UgdHJhbnNmb3JtPSJtYXRyaXgoMC4wNSwwLDAsMC4wNSwyOSwwKSIgeGxpbms6aHJlZj0iI3EiLz48dXNlIHRyYW5zZm9ybT0ibWF0cml4KDAuMDUsMCwwLDAuMDUsMzIuOTUsMCkiIHhsaW5rOmhyZWY9IiNIIi8+PHVzZSB0cmFuc2Zvcm09Im1hdHJpeCgwLjA1LDAsMCwwLjA1LDQxLjk1LDApIiB4bGluazpocmVmPSIjSSIvPjx1c2UgdHJhbnNmb3JtPSJtYXRyaXgoMC4wNSwwLDAsMC4wNSw1MS45NSwwKSIgeGxpbms6aHJlZj0iI3EiLz48dXNlIHRyYW5zZm9ybT0ibWF0cml4KDAuMDUsMCwwLDAuMDUsNTUuOTAwMDAwMDAwMDAwMDA2LDApIiB4bGluazpocmVmPSIjdCIvPjx1c2UgdHJhbnNmb3JtPSJtYXRyaXgoMC4wNSwwLDAsMC4wNSw2NS45LDApIiB4bGluazpocmVmPSIjeSIvPjx1c2UgdHJhbnNmb3JtPSJtYXRyaXgoMC4wNSwwLDAsMC4wNSw3MS44NTAwMDAwMDAwMDAwMSwwKSIgeGxpbms6aHJlZj0iI0IiLz48dXNlIHRyYW5zZm9ybT0ibWF0cml4KDAuMDUsMCwwLDAuMDUsODEuODUwMDAwMDAwMDAwMDEsMCkiIHhsaW5rOmhyZWY9IiN0Ii8+PHVzZSB0cmFuc2Zvcm09Im1hdHJpeCgwLjA1LDAsMCwwLjA1LDkxLjg1MDAwMDAwMDAwMDAxLDApIiB4bGluazpocmVmPSIjSCIvPjx1c2UgdHJhbnNmb3JtPSJtYXRyaXgoMC4wNSwwLDAsMC4wNSwxMDAuODUwMDAwMDAwMDAwMDEsMCkiIHhsaW5rOmhyZWY9IiNyIi8+PHVzZSB0cmFuc2Zvcm09Im1hdHJpeCgwLjA1LDAsMCwwLjA1LDExMC44NTAwMDAwMDAwMDAwMSwwKSIgeGxpbms6aHJlZj0iI3kiLz48dXNlIHRyYW5zZm9ybT0ibWF0cml4KDAuMDUsMCwwLDAuMDUsMTE2LjgwMDAwMDAwMDAwMDAxLDApIiB4bGluazpocmVmPSIjdyIvPjx1c2UgdHJhbnNmb3JtPSJtYXRyaXgoMC4wNSwwLDAsMC4wNSwxMjEuODAwMDAwMDAwMDAwMDEsMCkiIHhsaW5rOmhyZWY9IiNCIi8+PHVzZSB0cmFuc2Zvcm09Im1hdHJpeCgwLjA1LDAsMCwwLjA1LDEzMS44LDApIiB4bGluazpocmVmPSIjdyIvPjx1c2UgdHJhbnNmb3JtPSJtYXRyaXgoMC4wNSwwLDAsMC4wNSwxMzYuOCwwKSIgeGxpbms6aHJlZj0iI0wiLz48dXNlIHRyYW5zZm9ybT0ibWF0cml4KDAuMDUsMCwwLDAuMDUsMTQ1LjgsMCkiIHhsaW5rOmhyZWY9IiN6Ii8+PHVzZSB0cmFuc2Zvcm09Im1hdHJpeCgwLjA1LDAsMCwwLjA1LDE1NS44LDApIiB4bGluazpocmVmPSIjdCIvPjx1c2UgdHJhbnNmb3JtPSJtYXRyaXgoMC4wNSwwLDAsMC4wNSwxNjUuOCwwKSIgeGxpbms6aHJlZj0iI0UiLz48dXNlIHRyYW5zZm9ybT0ibWF0cml4KDAuMDUsMCwwLDAuMDUsMTcxLjc1LDApIiB4bGluazpocmVmPSIjRiIvPjx1c2UgdHJhbnNmb3JtPSJtYXRyaXgoMC4wNSwwLDAsMC4wNSwxNzcuNywwKSIgeGxpbms6aHJlZj0iI0QiLz48L2c+PHBhdGggZmlsbD0iIzMzMyIgZD0iTTExNS0xOTRjNTMgMCA2OSAzOSA3MCA5OCAwIDY2LTIzIDEwMC03MCAxMDBDODQgMyA2Ni03IDU2LTMwTDU0IDBIMjNsMS0yNjFoMzJ2MTAxYzEwLTIzIDI4LTM0IDU5LTM0em0tOCAxNzRjNDAgMCA0NS0zNCA0NS03NSAwLTQwLTUtNzUtNDUtNzQtNDIgMC01MSAzMi01MSA3NiAwIDQzIDEwIDczIDUxIDczIiBpZD0iTyIvPjxnIGlkPSJtIj48dXNlIHRyYW5zZm9ybT0ibWF0cml4KDAuMDUsMCwwLDAuMDUsMCwwKSIgeGxpbms6aHJlZj0iI0IiLz48dXNlIHRyYW5zZm9ybT0ibWF0cml4KDAuMDUsMCwwLDAuMDUsMTAsMCkiIHhsaW5rOmhyZWY9IiNNIi8+PHVzZSB0cmFuc2Zvcm09Im1hdHJpeCgwLjA1LDAsMCwwLjA1LDE1LDApIiB4bGluazpocmVmPSIjdiIvPjx1c2UgdHJhbnNmb3JtPSJtYXRyaXgoMC4wNSwwLDAsMC4wNSwxOC45NSwwKSIgeGxpbms6aHJlZj0iI3EiLz48dXNlIHRyYW5zZm9ybT0ibWF0cml4KDAuMDUsMCwwLDAuMDUsMjIuOSwwKSIgeGxpbms6aHJlZj0iI3ciLz48dXNlIHRyYW5zZm9ybT0ibWF0cml4KDAuMDUsMCwwLDAuMDUsMjcuODk5OTk5OTk5OTk5OTk1LDApIiB4bGluazpocmVmPSIjeSIvPjx1c2UgdHJhbnNmb3JtPSJtYXRyaXgoMC4wNSwwLDAsMC4wNSwzMy44NSwwKSIgeGxpbms6aHJlZj0iI3QiLz48dXNlIHRyYW5zZm9ybT0ibWF0cml4KDAuMDUsMCwwLDAuMDUsNDMuODUsMCkiIHhsaW5rOmhyZWY9IiN5Ii8+PHVzZSB0cmFuc2Zvcm09Im1hdHJpeCgwLjA1LDAsMCwwLjA1LDQ5LjgwMDAwMDAwMDAwMDAwNCwwKSIgeGxpbms6aHJlZj0iI0IiLz48dXNlIHRyYW5zZm9ybT0ibWF0cml4KDAuMDUsMCwwLDAuMDUsNTkuODAwMDAwMDAwMDAwMDA0LDApIiB4bGluazpocmVmPSIjQyIvPjx1c2UgdHJhbnNmb3JtPSJtYXRyaXgoMC4wNSwwLDAsMC4wNSw2OS44MDAwMDAwMDAwMDAwMSwwKSIgeGxpbms6aHJlZj0iI0siLz48dXNlIHRyYW5zZm9ybT0ibWF0cml4KDAuMDUsMCwwLDAuMDUsNzkuODAwMDAwMDAwMDAwMDEsMCkiIHhsaW5rOmhyZWY9IiNKIi8+PHVzZSB0cmFuc2Zvcm09Im1hdHJpeCgwLjA1LDAsMCwwLjA1LDk0Ljc1MDAwMDAwMDAwMDAxLDApIiB4bGluazpocmVmPSIjTyIvPjx1c2UgdHJhbnNmb3JtPSJtYXRyaXgoMC4wNSwwLDAsMC4wNSwxMDQuNzUsMCkiIHhsaW5rOmhyZWY9IiN5Ii8+PHVzZSB0cmFuc2Zvcm09Im1hdHJpeCgwLjA1LDAsMCwwLjA1LDExMC43LDApIiB4bGluazpocmVmPSIjdCIvPjx1c2UgdHJhbnNmb3JtPSJtYXRyaXgoMC4wNSwwLDAsMC4wNSwxMjAuNywwKSIgeGxpbms6aHJlZj0iI3MiLz48dXNlIHRyYW5zZm9ybT0ibWF0cml4KDAuMDUsMCwwLDAuMDUsMTI5LjcwMDAwMDAwMDAwMDAyLDApIiB4bGluazpocmVmPSIjQiIvPjx1c2UgdHJhbnNmb3JtPSJtYXRyaXgoMC4wNSwwLDAsMC4wNSwxMzkuNzAwMDAwMDAwMDAwMDIsMCkiIHhsaW5rOmhyZWY9IiN6Ii8+PHVzZSB0cmFuc2Zvcm09Im1hdHJpeCgwLjA1LDAsMCwwLjA1LDE0OS43MDAwMDAwMDAwMDAwMiwwKSIgeGxpbms6aHJlZj0iI3kiLz48dXNlIHRyYW5zZm9ybT0ibWF0cml4KDAuMDUsMCwwLDAuMDUsMTU1LjY1LDApIiB4bGluazpocmVmPSIjdCIvPjx1c2UgdHJhbnNmb3JtPSJtYXRyaXgoMC4wNSwwLDAsMC4wNSwxNjUuNjUsMCkiIHhsaW5rOmhyZWY9IiNKIi8+PHVzZSB0cmFuc2Zvcm09Im1hdHJpeCgwLjA1LDAsMCwwLjA1LDE4MC42LDApIiB4bGluazpocmVmPSIjdiIvPjx1c2UgdHJhbnNmb3JtPSJtYXRyaXgoMC4wNSwwLDAsMC4wNSwxODQuNTQ5OTk5OTk5OTk5OTgsMCkiIHhsaW5rOmhyZWY9IiN0Ii8+PHVzZSB0cmFuc2Zvcm09Im1hdHJpeCgwLjA1LDAsMCwwLjA1LDE5NC41NDk5OTk5OTk5OTk5OCwwKSIgeGxpbms6aHJlZj0iI3kiLz48dXNlIHRyYW5zZm9ybT0ibWF0cml4KDAuMDUsMCwwLDAuMDUsMjAwLjQ5OTk5OTk5OTk5OTk3LDApIiB4bGluazpocmVmPSIjcyIvPjx1c2UgdHJhbnNmb3JtPSJtYXRyaXgoMC4wNSwwLDAsMC4wNSwyMDkuNDk5OTk5OTk5OTk5OTcsMCkiIHhsaW5rOmhyZWY9IiNFIi8+PHVzZSB0cmFuc2Zvcm09Im1hdHJpeCgwLjA1LDAsMCwwLjA1LDIxNS40NDk5OTk5OTk5OTk5NiwwKSIgeGxpbms6aHJlZj0iI0YiLz48dXNlIHRyYW5zZm9ybT0ibWF0cml4KDAuMDUsMCwwLDAuMDUsMjIxLjM5OTk5OTk5OTk5OTk4LDApIiB4bGluazpocmVmPSIjRCIvPjwvZz48ZyBpZD0ibiI+PHVzZSB0cmFuc2Zvcm09Im1hdHJpeCgwLjA1LDAsMCwwLjA1LDAsMCkiIHhsaW5rOmhyZWY9IiNxIi8+PHVzZSB0cmFuc2Zvcm09Im1hdHJpeCgwLjA1LDAsMCwwLjA1LDMuOTUsMCkiIHhsaW5rOmhyZWY9IiN2Ii8+PHVzZSB0cmFuc2Zvcm09Im1hdHJpeCgwLjA1LDAsMCwwLjA1LDcuOSwwKSIgeGxpbms6aHJlZj0iI3MiLz48dXNlIHRyYW5zZm9ybT0ibWF0cml4KDAuMDUsMCwwLDAuMDUsMTYuOSwwKSIgeGxpbms6aHJlZj0iI3ciLz48L2c+PHBhdGggZmlsbD0iIzMzMyIgZD0iTTE0NS0zMUMxMzQtOSAxMTYgNCA4NSA0IDMyIDQgMTYtMzUgMTUtOTRjMC01OSAxNy05OSA3MC0xMDAgMzItMSA0OCAxNCA2MCAzMyAwLTExLTEtMjQgMi0zMmgzMGwtMSAyNjhoLTMyek05My0yMWM0MSAwIDUxLTMzIDUxLTc2cy04LTczLTUwLTczYy00MCAwLTQ2IDM1LTQ2IDc1czUgNzQgNDUgNzQiIGlkPSJQIi8+PGcgaWQ9Im8iPjx1c2UgdHJhbnNmb3JtPSJtYXRyaXgoMC4wNSwwLDAsMC4wNSwwLDApIiB4bGluazpocmVmPSIjSyIvPjx1c2UgdHJhbnNmb3JtPSJtYXRyaXgoMC4wNSwwLDAsMC4wNSwxMCwwKSIgeGxpbms6aHJlZj0iI08iLz48dXNlIHRyYW5zZm9ybT0ibWF0cml4KDAuMDUsMCwwLDAuMDUsMjAsMCkiIHhsaW5rOmhyZWY9IiN3Ii8+PHVzZSB0cmFuc2Zvcm09Im1hdHJpeCgwLjA1LDAsMCwwLjA1LDI1LDApIiB4bGluazpocmVmPSIjdCIvPjx1c2UgdHJhbnNmb3JtPSJtYXRyaXgoMC4wNSwwLDAsMC4wNSwzNSwwKSIgeGxpbms6aHJlZj0iI0MiLz48dXNlIHRyYW5zZm9ybT0ibWF0cml4KDAuMDUsMCwwLDAuMDUsNDUsMCkiIHhsaW5rOmhyZWY9IiN2Ii8+PHVzZSB0cmFuc2Zvcm09Im1hdHJpeCgwLjA1LDAsMCwwLjA1LDQ4Ljk1LDApIiB4bGluazpocmVmPSIjeSIvPjx1c2UgdHJhbnNmb3JtPSJtYXRyaXgoMC4wNSwwLDAsMC4wNSw1NC45MDAwMDAwMDAwMDAwMDYsMCkiIHhsaW5rOmhyZWY9IiNCIi8+PHVzZSB0cmFuc2Zvcm09Im1hdHJpeCgwLjA1LDAsMCwwLjA1LDY0LjksMCkiIHhsaW5rOmhyZWY9IiNzIi8+PHVzZSB0cmFuc2Zvcm09Im1hdHJpeCgwLjA1LDAsMCwwLjA1LDczLjksMCkiIHhsaW5rOmhyZWY9IiN3Ii8+PHVzZSB0cmFuc2Zvcm09Im1hdHJpeCgwLjA1LDAsMCwwLjA1LDc4LjksMCkiIHhsaW5rOmhyZWY9IiNyIi8+PHVzZSB0cmFuc2Zvcm09Im1hdHJpeCgwLjA1LDAsMCwwLjA1LDg4LjksMCkiIHhsaW5rOmhyZWY9IiN3Ii8+PHVzZSB0cmFuc2Zvcm09Im1hdHJpeCgwLjA1LDAsMCwwLjA1LDkzLjksMCkiIHhsaW5rOmhyZWY9IiN2Ii8+PHVzZSB0cmFuc2Zvcm09Im1hdHJpeCgwLjA1LDAsMCwwLjA1LDk3Ljg1MDAwMDAwMDAwMDAxLDApIiB4bGluazpocmVmPSIjcyIvPjx1c2UgdHJhbnNmb3JtPSJtYXRyaXgoMC4wNSwwLDAsMC4wNSwxMDYuODUwMDAwMDAwMDAwMDEsMCkiIHhsaW5rOmhyZWY9IiN3Ii8+PHVzZSB0cmFuc2Zvcm09Im1hdHJpeCgwLjA1LDAsMCwwLjA1LDExMS44NTAwMDAwMDAwMDAwMSwwKSIgeGxpbms6aHJlZj0iI3YiLz48dXNlIHRyYW5zZm9ybT0ibWF0cml4KDAuMDUsMCwwLDAuMDUsMTE1LjgwMDAwMDAwMDAwMDAxLDApIiB4bGluazpocmVmPSIjUCIvPjx1c2UgdHJhbnNmb3JtPSJtYXRyaXgoMC4wNSwwLDAsMC4wNSwxMjUuODAwMDAwMDAwMDAwMDEsMCkiIHhsaW5rOmhyZWY9IiNJIi8+PHVzZSB0cmFuc2Zvcm09Im1hdHJpeCgwLjA1LDAsMCwwLjA1LDEzNS44LDApIiB4bGluazpocmVmPSIjdCIvPjx1c2UgdHJhbnNmb3JtPSJtYXRyaXgoMC4wNSwwLDAsMC4wNSwxNDUuOCwwKSIgeGxpbms6aHJlZj0iI3MiLz48dXNlIHRyYW5zZm9ybT0ibWF0cml4KDAuMDUsMCwwLDAuMDUsMTU0LjgsMCkiIHhsaW5rOmhyZWY9IiNCIi8+PHVzZSB0cmFuc2Zvcm09Im1hdHJpeCgwLjA1LDAsMCwwLjA1LDE2NC44LDApIiB4bGluazpocmVmPSIjSCIvPjx1c2UgdHJhbnNmb3JtPSJtYXRyaXgoMC4wNSwwLDAsMC4wNSwxNzMuOCwwKSIgeGxpbms6aHJlZj0iI3IiLz48dXNlIHRyYW5zZm9ybT0ibWF0cml4KDAuMDUsMCwwLDAuMDUsMTgzLjgsMCkiIHhsaW5rOmhyZWY9IiN5Ii8+PHVzZSB0cmFuc2Zvcm09Im1hdHJpeCgwLjA1LDAsMCwwLjA1LDE4OS43NSwwKSIgeGxpbms6aHJlZj0iI3IiLz48dXNlIHRyYW5zZm9ybT0ibWF0cml4KDAuMDUsMCwwLDAuMDUsMTk5Ljc1LDApIiB4bGluazpocmVmPSIjSCIvPjx1c2UgdHJhbnNmb3JtPSJtYXRyaXgoMC4wNSwwLDAsMC4wNSwyMDguNzUsMCkiIHhsaW5rOmhyZWY9IiN3Ii8+PHVzZSB0cmFuc2Zvcm09Im1hdHJpeCgwLjA1LDAsMCwwLjA1LDIxMy43NSwwKSIgeGxpbms6aHJlZj0iI3QiLz48dXNlIHRyYW5zZm9ybT0ibWF0cml4KDAuMDUsMCwwLDAuMDUsMjIzLjc1LDApIiB4bGluazpocmVmPSIjeSIvPjx1c2UgdHJhbnNmb3JtPSJtYXRyaXgoMC4wNSwwLDAsMC4wNSwyMjkuNjk5OTk5OTk5OTk5OTYsMCkiIHhsaW5rOmhyZWY9IiN2Ii8+PHVzZSB0cmFuc2Zvcm09Im1hdHJpeCgwLjA1LDAsMCwwLjA1LDIzMy42NDk5OTk5OTk5OTk5OCwwKSIgeGxpbms6aHJlZj0iI3MiLz48dXNlIHRyYW5zZm9ybT0ibWF0cml4KDAuMDUsMCwwLDAuMDUsMjQyLjY0OTk5OTk5OTk5OTk4LDApIiB4bGluazpocmVmPSIjdyIvPjx1c2UgdHJhbnNmb3JtPSJtYXRyaXgoMC4wNSwwLDAsMC4wNSwyNDcuNjQ5OTk5OTk5OTk5OTgsMCkiIHhsaW5rOmhyZWY9IiN2Ii8+PHVzZSB0cmFuc2Zvcm09Im1hdHJpeCgwLjA1LDAsMCwwLjA1LDI1MS41OTk5OTk5OTk5OTk5NywwKSIgeGxpbms6aHJlZj0iI1AiLz48dXNlIHRyYW5zZm9ybT0ibWF0cml4KDAuMDUsMCwwLDAuMDUsMjYxLjU5OTk5OTk5OTk5OTk3LDApIiB4bGluazpocmVmPSIjSSIvPjx1c2UgdHJhbnNmb3JtPSJtYXRyaXgoMC4wNSwwLDAsMC4wNSwyNzEuNTk5OTk5OTk5OTk5OTcsMCkiIHhsaW5rOmhyZWY9IiN0Ii8+PHVzZSB0cmFuc2Zvcm09Im1hdHJpeCgwLjA1LDAsMCwwLjA1LDI4MS41OTk5OTk5OTk5OTk5NywwKSIgeGxpbms6aHJlZj0iI3MiLz48dXNlIHRyYW5zZm9ybT0ibWF0cml4KDAuMDUsMCwwLDAuMDUsMjkwLjU5OTk5OTk5OTk5OTk3LDApIiB4bGluazpocmVmPSIjRSIvPjx1c2UgdHJhbnNmb3JtPSJtYXRyaXgoMC4wNSwwLDAsMC4wNSwyOTYuNTQ5OTk5OTk5OTk5OTUsMCkiIHhsaW5rOmhyZWY9IiNGIi8+PC9nPjwvZGVmcz48L2c+PC9zdmc+)"
   ]
  },
  {
   "cell_type": "markdown",
   "id": "6e59319b",
   "metadata": {},
   "source": [
    "### Encapsulation\n",
    "\n",
    "L'encapsulation est le mécanisme qui permet de regrouper les données (attributs) et les comportements (méthodes) au sein d'un même objet. Cette notion va plus loin en rendant certains de ces éléments privés, c'est-à-dire non accessibles directement depuis l'extérieur de l'objet. Ainsi, l'encapsulation permet de protéger l'intégrité des données en empêchant l'accès aux données par un autre moyen que les méthodes proposées.\n",
    "\n",
    "<b>Pourquoi l'encapsulation est-elle importante ?</b><br/>\n",
    "L'encapsulation permet de garantir que les données soient utilisées de manière appropriée et empêche des manipulations non autorisées. \n",
    "\n",
    "<b>Comment utiliser l'encapsulation ?</b><br/>\n",
    "En Python, il est courant de voir des attributs ou des méthodes précédés d'un underscore (_). C'est une convention pour indiquer que ces éléments sont destinés à un usage interne à la classe et qu'ils ne doivent pas être manipulés directement depuis l'extérieur."
   ]
  },
  {
   "cell_type": "code",
   "execution_count": null,
   "id": "9bd62f2d",
   "metadata": {},
   "outputs": [],
   "source": [
    "# Exemple d'une classe CompteBancaire\n",
    "# La banque doit tenir un registre précis des transactions effectuées \n",
    "# sur chaque compte bancaire. Grâce à l'encapsulation, les attributs \n",
    "# du compte ne peuvent être consultés ou modifiés qu'à travers des \n",
    "# méthodes publiques. Ces méthodes produisent des messages permettant\n",
    "# le suivi des activités du compte.\n",
    "\n",
    "class CompteBancaire:\n",
    "\n",
    "    def __init__(self, titulaire, solde_initial):\n",
    "        self._titulaire = titulaire\n",
    "        self._solde = solde_initial\n",
    "        print(\"Initialisation compte bancaire\")\n",
    "\n",
    "    def deposer(self, montant):\n",
    "        self._solde += montant\n",
    "        print(f\"Dépot de {montant} | Solde actuel : {self._solde}\")\n",
    "\n",
    "    def retirer(self, montant):\n",
    "        if self._solde - montant >= 0:\n",
    "            self._solde -= montant\n",
    "            print(f\"Retrait de {montant} | Solde actuel : {self._solde}\")\n",
    "        else:\n",
    "            print(\"Solde insuffisant.\")\n",
    "\n",
    "    def consulter_solde(self):\n",
    "        print(f\"Consultation du solde | Solde actuel : {self._solde}\")\n",
    "\n"
   ]
  },
  {
   "cell_type": "markdown",
   "id": "wanted-consolidation",
   "metadata": {},
   "source": [
    "![Image Alt Text](data:image/svg+xml;base64,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)"
   ]
  },
  {
   "cell_type": "code",
   "execution_count": null,
   "id": "7b49682c",
   "metadata": {},
   "outputs": [],
   "source": [
    "compte = CompteBancaire(\"Alice\", 1000)\n",
    "compte.deposer(100)\n",
    "compte.retirer(800)\n",
    "compte.consulter_solde()"
   ]
  },
  {
   "cell_type": "code",
   "execution_count": null,
   "id": "5d50558f",
   "metadata": {},
   "outputs": [],
   "source": [
    "# Sans les méthodes prévues, on ne peut plus suivre l'historique des transactions\n",
    "# D'où la nécessité d'utiliser les méthodes publiques pour manipuler les données privées.\n",
    "compte = CompteBancaire(\"Alice\", 1000)\n",
    "compte._solde += 100\n",
    "compte._solde -= 800\n",
    "compte.consulter_solde()"
   ]
  },
  {
   "cell_type": "markdown",
   "id": "c727af27",
   "metadata": {},
   "source": [
    "En Python, même si l'usage du simple underscore (_) devant un nom d'attribut ou de méthode est une convention qui signale que cet élément est destiné à un usage interne, il n'est pas techniquement privé."
   ]
  },
  {
   "cell_type": "code",
   "execution_count": null,
   "id": "47274559",
   "metadata": {},
   "outputs": [],
   "source": [
    "print(f\"Solde avant : {compte._solde}\")\n",
    "compte._solde += 1000\n",
    "print(f\"Solde avant : {compte._solde}\")"
   ]
  },
  {
   "cell_type": "markdown",
   "id": "049bbede",
   "metadata": {},
   "source": [
    "Il incombe au développeur de respecter ou non cette convention.\n",
    "\n",
    "Cependant, Python offre une autre manière de rendre un attribut ou une méthode réellement \"privé\" en utilisant un double underscore (__) avant le nom."
   ]
  },
  {
   "cell_type": "code",
   "execution_count": null,
   "id": "6ebc7305",
   "metadata": {},
   "outputs": [],
   "source": [
    "# Ajout de deux _ devant les noms des attributs\n",
    "class CompteBancaire:\n",
    "\n",
    "    def __init__(self, titulaire, solde_initial):\n",
    "        self.__titulaire = titulaire\n",
    "        self.__solde = solde_initial\n",
    "        print(\"Initialisation compte bancaire\")\n",
    "        \n",
    "    def deposer(self, montant):\n",
    "        self.__solde += montant\n",
    "        print(f\"Dépot de {montant} | Solde actuel : {self.__solde}\")\n",
    "        \n",
    "    def retirer(self, montant):\n",
    "        if self.__solde - montant >= 0:\n",
    "            self.__solde -= montant\n",
    "            print(f\"Retrait de {montant} | Solde actuel : {self.__solde}\")\n",
    "        else:\n",
    "            print(\"Solde insuffisant.\")\n",
    "        \n",
    "    def consulter_solde(self):\n",
    "        print(f\"Consultation du solde | Solde actuel : {self.__solde}\")\n",
    "\n",
    "# Il est encore possible d'utiliser les méthodes publiques pour accéder aux attributs\n",
    "compte = CompteBancaire(\"Alice\", 1000)\n",
    "compte.deposer(1000)\n"
   ]
  },
  {
   "cell_type": "code",
   "execution_count": null,
   "id": "8e50fc88",
   "metadata": {},
   "outputs": [],
   "source": [
    "# Mais l'accès direct soulève une erreur\n",
    "print(compte.__solde) "
   ]
  },
  {
   "cell_type": "markdown",
   "id": "0b256edc",
   "metadata": {},
   "source": [
    "### Héritage\n",
    "\n",
    "L'héritage est un mécanisme qui permet à une classe de reprendre les attributs et les méthodes d'une autre classe. La classe qui est héritée s'appelle la \"classe parent\" ou \"classe de base\", tandis que la classe qui hérite s'appelle la \"classe enfant\" ou \"classe dérivée\".\n",
    "\n",
    "<b>Pourquoi l'héritage est-il important ?</b><br/>\n",
    "L'héritage favorise la réutilisation du code et établit une relation de type \"est une sorte de\" entre la classe parent et la classe enfant. Cela signifie que la classe enfant est une spécialisation de la classe parent.\n",
    "\n",
    "<b>Comment utiliser l'héritage ?</b><br/>\n",
    "En Python, l'héritage se réalise en passant la classe parent en paramètre lors de la définition de la classe enfant."
   ]
  },
  {
   "cell_type": "code",
   "execution_count": null,
   "id": "3e649992",
   "metadata": {},
   "outputs": [],
   "source": [
    "# Classe mère/base CompteBancaire\n",
    "class CompteBancaire:\n",
    "\n",
    "    def __init__(self, titulaire, solde_initial):\n",
    "        self._titulaire = titulaire\n",
    "        self._solde = solde_initial\n",
    "        print(\"Initialisation compte bancaire\")\n",
    "\n",
    "    def deposer(self, montant):\n",
    "        self._solde += montant\n",
    "        print(f\"Dépot de {montant} | Solde actuel : {self._solde}\")\n",
    "\n",
    "    def retirer(self, montant):\n",
    "        if self._solde - montant >= 0:\n",
    "            self._solde -= montant\n",
    "            print(f\"Retrait de {montant} | Solde actuel : {self._solde}\")\n",
    "        else:\n",
    "            print(\"Solde insuffisant.\")\n",
    "\n",
    "    def consulter_solde(self):\n",
    "        print(f\"Consultation du solde | Solde actuel : {self._solde}\")\n"
   ]
  },
  {
   "cell_type": "code",
   "execution_count": null,
   "id": "6d07591d",
   "metadata": {},
   "outputs": [],
   "source": [
    "# Classe fille/dérivée CompteEpargne qui hérite de la classe CompteBancaire\n",
    "\n",
    "# L'héritage est réalisé en insérant le nom de la classe parente entre  \n",
    "# parenthèses, juste après le nom de la classe dérivée.\n",
    "class CompteEpargne(CompteBancaire):\n",
    "    pass\n",
    "\n",
    "# Instanciation du compte épargne\n",
    "nouveau_compte = CompteEpargne(\"Alice\", 1000)\n",
    "\n",
    "# L'instance nouveau compte est aussi un compte bancaire car la classe épargne dérive de celle-ci\n",
    "print(f\"nouveau_compte est un CompteEpargne : {isinstance(nouveau_compte, CompteEpargne)}\")\n",
    "print(f\"nouveau_compte est un CompteBancaire : {isinstance(nouveau_compte, CompteBancaire)}\")"
   ]
  },
  {
   "cell_type": "markdown",
   "id": "39f8eda1",
   "metadata": {},
   "source": [
    "En héritant de la classe CompteBancaire, la classe CompteEpargne a obtenu les mêmes attributs et méthodes que ceux définis dans CompteBancaire."
   ]
  },
  {
   "cell_type": "code",
   "execution_count": null,
   "id": "dea5371b",
   "metadata": {},
   "outputs": [],
   "source": [
    "# Utilisation des méthodes définies dans la classe mère\n",
    "nouveau_compte.deposer(200)\n",
    "nouveau_compte.consulter_solde()"
   ]
  },
  {
   "cell_type": "markdown",
   "id": "bd2b9fc7",
   "metadata": {},
   "source": [
    "L'avantage de l'héritage réside dans la possibilité d'<b>étendre les fonctionnalités</b> et de spécialiser les classes dérivées. Par exemple, la classe CompteEpargne pourrait inclure un taux d'intérêt ainsi qu'une méthode dédiée à l'ajout des intérêts au solde existant."
   ]
  },
  {
   "cell_type": "code",
   "execution_count": null,
   "id": "250f8576",
   "metadata": {},
   "outputs": [],
   "source": [
    "class CompteEpargne(CompteBancaire):\n",
    "\n",
    "    def __init__(self, titulaire, solde_initial, taux_interet):\n",
    "        super().__init__(titulaire, solde_initial)\n",
    "        self._taux_interet = taux_interet\n",
    "        print(\"Initialisation taux d'intérêt\")\n",
    "\n",
    "    def calculer_interet(self):\n",
    "        interet = self._solde * self._taux_interet / 100\n",
    "        print(f\"Intérêt calculé : {interet}\")\n",
    "        self.deposer(interet)\n",
    "        "
   ]
  },
  {
   "cell_type": "markdown",
   "id": "unlikely-apparatus",
   "metadata": {},
   "source": [
    "![Image Alt Text](data:image/svg+xml;base64,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)"
   ]
  },
  {
   "cell_type": "code",
   "execution_count": null,
   "id": "777de246",
   "metadata": {},
   "outputs": [],
   "source": [
    "nouveau_compte = CompteEpargne(\"Alice\", 1000, 2)\n",
    "print(\"---\")\n",
    "nouveau_compte.calculer_interet()"
   ]
  },
  {
   "cell_type": "markdown",
   "id": "77d57be2",
   "metadata": {},
   "source": [
    "La méthode super() permet d'appeler une méthode de la classe parente depuis une classe dérivée. Elle est utile lorsque vous souhaitez étendre ou modifier le comportement d'une méthode parente sans la réécrire entièrement.\n",
    "\n",
    "Dans ce cas, notre méthode __init__ invoque d'abord la méthode __init__ de la classe mère, ce qui conduit à l'affichage du message \"Initialisation compte bancaire\". Ensuite, le message \"Initialisation taux d'intérêt\" est affiché, car le constructeur de la classe dérivée continue son exécution."
   ]
  },
  {
   "cell_type": "markdown",
   "id": "ffca8135",
   "metadata": {},
   "source": [
    "#### Exercice 1: Animaux et leur cri\n",
    "Créez une classe Animal qui a une méthode faire_du_bruit. Cette méthode affiche \"L'animal fait du bruit\". Puis, créez deux classes dérivées de votre choix qui redéfinit cette méthode."
   ]
  },
  {
   "cell_type": "code",
   "execution_count": null,
   "id": "a705b0a3",
   "metadata": {},
   "outputs": [],
   "source": [
    "# Exercice 1"
   ]
  },
  {
   "cell_type": "markdown",
   "id": "d43e0310",
   "metadata": {},
   "source": [
    "#### Exercice 2: Véhicules\n",
    "Créez une classe Vehicule avec des méthodes comme demarrer et arreter. Ensuite, créez des classes de votre choix et ajoutez des fonctionnalités."
   ]
  },
  {
   "cell_type": "code",
   "execution_count": null,
   "id": "492df2c1",
   "metadata": {},
   "outputs": [],
   "source": [
    "# Exercice 2"
   ]
  },
  {
   "cell_type": "markdown",
   "id": "89c61072",
   "metadata": {},
   "source": [
    "#### Notes :\n",
    "* Il est possible d'hériter de plusieurs classes, mais cela peut rendre le code plus difficile à suivre et à maintenir.\n",
    "* Il est recommandé d'utiliser l'héritage seulement lorsque la relation \"est une sorte de\" est clairement applicable entre la classe enfant et la classe parent.\n",
    "* Les attributs privés d'une classe mère ne sont pas accessibles dans les classes dérivées. "
   ]
  },
  {
   "cell_type": "markdown",
   "id": "1d4cb285",
   "metadata": {},
   "source": [
    "### Polymorphisme\n",
    "\n",
    "Le polymorphisme en programmation orientée objet autorise une seule méthode à avoir plusieurs comportements, que ce soit en fonction des différentes classes qui l'utilisent ou des différents arguments qui lui sont passés, afin d'adapter son fonctionnement au contexte donné. Les deux types principaux de polymorphisme sont:\n",
    "\n",
    "* <b>Polymorphisme par héritage</b> : Ici, une classe enfant hérite d'une classe parente et peut personnaliser les méthodes de la classe parente. Cela permet à plusieurs classes d'utiliser la même méthode avec des comportements différents.\n",
    "<br/><br/>\n",
    "* <b>Polymorphisme ad hoc</b> : Ce type de polymorphisme permet à une seule méthode de gérer différents types de données ou différents nombres d'arguments. \n",
    "\n",
    "#### Polymorphisme par héritage\n",
    "\n",
    "Analogie : On peut imaginer une classe Joueur qui possède une méthode \"jouer\", et diverses classes dérivées comme Joueur de foot ou Joueur de badminton. Dans chaque classe dérivée, la méthode \"jouer\" agirait différemment, en fonction du sport concerné (classe).\n"
   ]
  },
  {
   "cell_type": "code",
   "execution_count": null,
   "id": "b4e879b4",
   "metadata": {},
   "outputs": [],
   "source": [
    "# Classe mère\n",
    "class Instrument:\n",
    "    def __init__(self, nom):\n",
    "        self.nom = nom\n",
    "\n",
    "    def son(self):\n",
    "        print(f\"Émet un son de {self.nom}\")\n",
    "\n",
    "        \n",
    "# Classe dérivée 1\n",
    "class Guitare(Instrument):\n",
    "    def son(self):\n",
    "        print(f\"Émet un son de corde grattée.\")\n",
    "\n",
    "        \n",
    "# Classe dérivée 2\n",
    "class Piano(Instrument):\n",
    "    def son(self):\n",
    "        print(f\"Émet un son de corde frappée.\")\n"
   ]
  },
  {
   "attachments": {},
   "cell_type": "markdown",
   "id": "f2ce92d8",
   "metadata": {},
   "source": [
    "![Image Alt Text](data:image/svg+xml;base64,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)"
   ]
  },
  {
   "cell_type": "code",
   "execution_count": null,
   "id": "41023cb9",
   "metadata": {},
   "outputs": [],
   "source": [
    "# Instances\n",
    "guitare = Guitare(\"guitare\")\n",
    "piano = Piano(\"piano\")\n",
    "\n",
    "# Utilisation de la même méthode avec un comportement spécifique à la classe\n",
    "guitare.son()\n",
    "piano.son()"
   ]
  },
  {
   "cell_type": "markdown",
   "id": "95132e6d",
   "metadata": {},
   "source": [
    "L'avantage du polymorphisme est qu'il nous permet d'utiliser une méthode sans avoir à connaître la classe spécifique de l'objet, tant que cette méthode est définie pour cet objet.\n",
    "\n",
    "Exemple:"
   ]
  },
  {
   "cell_type": "code",
   "execution_count": null,
   "id": "f97c7e3c",
   "metadata": {},
   "outputs": [],
   "source": [
    "# Utilisation du polymorphisme\n",
    "def jouer(instrument):\n",
    "    instrument.son()\n",
    "    \n",
    "jouer(guitare)\n",
    "jouer(piano)"
   ]
  },
  {
   "cell_type": "markdown",
   "id": "1d4764a1",
   "metadata": {},
   "source": [
    "Cela signifie que dans notre fonction <b>jouer</b>, nous pouvons passer n'importe quel objet d'instrument qui a une méthode <b>son</b> sans se préoccuper de son type précis.\n",
    "\n",
    "#### Polymorphisme ad hoc\n",
    "\n",
    "Analogie : Pour illustrer, considérez une classe \"Bûcheron\" équipée d'une méthode \"couper\". Cette méthode peut recevoir différents outils en argument, comme une hache ou une scie, ce qui affectera la façon dont la coupe est effectuée."
   ]
  },
  {
   "cell_type": "code",
   "execution_count": null,
   "id": "d1bde297",
   "metadata": {},
   "outputs": [],
   "source": [
    "class Musicien:\n",
    "    \n",
    "    def jouer(self, instrument):\n",
    "        if isinstance(instrument, Guitare):\n",
    "            self._jouer_guitare()\n",
    "        elif isinstance(instrument, Piano):\n",
    "            self._joueur_piano()\n",
    "        \n",
    "    def _jouer_guitare(self):\n",
    "        print(\"Gratte les cordes\")\n",
    "        \n",
    "    def _joueur_piano(self):\n",
    "        print(\"Frappe les touches\")\n",
    "       \n",
    "    \n",
    "musicien = Musicien()"
   ]
  },
  {
   "cell_type": "code",
   "execution_count": null,
   "id": "ee6db89a",
   "metadata": {},
   "outputs": [],
   "source": [
    "musicien.jouer(guitare)"
   ]
  },
  {
   "cell_type": "code",
   "execution_count": null,
   "id": "680667a8",
   "metadata": {},
   "outputs": [],
   "source": [
    "musicien.jouer(piano)"
   ]
  },
  {
   "cell_type": "markdown",
   "id": "db031a83",
   "metadata": {},
   "source": [
    "Certaines fonctions natives de Python exploitent le polymorphisme ad hoc, ce qui vous permet d'utiliser la même méthode avec divers types d'arguments."
   ]
  },
  {
   "cell_type": "code",
   "execution_count": null,
   "id": "430c65f3",
   "metadata": {},
   "outputs": [],
   "source": [
    "# Utilisation d'entiers\n",
    "print(3 + 4)\n",
    "\n",
    "# Utilisation de flottants\n",
    "print(3.1 + 4.2)\n",
    "\n",
    "# Utilisation de string\n",
    "print(\"Hello \" + \"World\")  "
   ]
  },
  {
   "cell_type": "markdown",
   "id": "34345ea6",
   "metadata": {},
   "source": [
    "### Quizz\n",
    "\n",
    "<b>Question 1</b>: Pourquoi est-il bénéfique d'utiliser l'abstraction en programmation ?\n",
    "* A) Cela permet d'accélérer le code.\n",
    "* B) Cela réduit la mémoire nécessaire pour exécuter le programme.\n",
    "* C) Cela permet de simplifier la complexité en exposant uniquement les fonctionnalités nécessaires.\n",
    "* D) Cela permet d'accéder directement aux méthodes privées.\n",
    "\n",
    "<b>Question 2</b>: Pourquoi la méthode _signal_strength est-elle préfixée par un trait de soulignement ?\n",
    "* A) Pour indiquer qu'elle doit être utilisée en dehors de la classe\n",
    "* B) Pour indiquer qu'elle doit être surchargée par des classes filles\n",
    "* C) Pour indiquer qu'elle devrait être utilisée seulement à l'intérieur de la classe\n",
    "* D) Aucune de ces réponses\n",
    "\n",
    "<b>Question 3</b>: Quel est le principal avantage de l'encapsulation en programmation orientée objet ?\n",
    "* A) Augmente la vitesse d'exécution du code\n",
    "* B) Permet un accès non contrôlé aux attributs de la classe\n",
    "* C) Facilite la gestion du code et contrôle l'accès aux attributs et méthodes\n",
    "* D) Réduit l'empreinte mémoire du programme\n",
    "\n",
    "<b>Question 4</b>: Quel concept l'encapsulation aide-t-il à mettre en œuvre ?\n",
    "* A) Polymorphisme\n",
    "* B) Abstraction\n",
    "* C) Héritage\n",
    "* D) Réflexion\n",
    "\n",
    "<b>Question 5</b>: Qu'est-ce que l'héritage en programmation orientée objet ?\n",
    "* A) Une manière de réinitialiser toutes les propriétés d'un objet\n",
    "* B) Un moyen pour une classe de hériter des attributs et méthodes d'une autre classe\n",
    "* C) Une technique pour cacher les détails d'implémentation d'un objet\n",
    "* D) Une façon de compresser du code pour économiser de l'espace\n",
    "\n",
    "<b>Question 6</b>: Quel est le principal avantage de l'héritage ?\n",
    "* A) Il permet de réduire la répétition du code\n",
    "* B) Il accélère le temps d'exécution du code\n",
    "* C) Il facilite le débogage\n",
    "* D) Il permet d'encrypter le code source\n",
    "\n",
    "<b>Question 7</b>: Que fait le mot-clé super() en Python ?\n",
    "* A) Il permet de contourner l'encapsulation de la classe parente.\n",
    "* B) Il retourne une instance temporaire de la classe parente pour accéder à ses méthodes.\n",
    "* C) Il génère une instance séparée de la classe parente.\n",
    "* D) Il vérifie si la classe parente contient des erreurs.\n",
    "\n",
    "<b>Question 8</b>: Quel type de polymorphisme permet d'utiliser des opérations similaires sur différents types de données ?\n",
    "* A) Polymorphisme de surcharge\n",
    "* B) Polymorphisme d'héritage\n",
    "* C) Polymorphisme ad hoc\n",
    "* D) Polymorphisme d'inclusion\n",
    "\n",
    "<b>Question 9</b>: Quel est l'avantage principal du polymorphisme ?\n",
    "* A) Il rend le code plus court\n",
    "* B) Il permet une plus grande modularité du code\n",
    "* C) Il augmente la vitesse d'exécution du programme\n",
    "* D) Il garantit la sécurité du code"
   ]
  },
  {
   "cell_type": "markdown",
   "id": "2e4fd797",
   "metadata": {},
   "source": [
    "### Récapitulatif des 4 pilliers\n",
    "\n",
    "* <b>Abstraction</b> : <br/>Cache les détails complexes et expose uniquement les fonctionnalités nécessaires, rendant le code plus facile à comprendre et à utiliser.\n",
    "<br/><br/>\n",
    "* <b>Encapsulation</b> : <br/>Permet de regrouper des données et les méthodes qui les manipulent en une seule entité et de gérer leurs accès.\n",
    "<br/><br/>\n",
    "* <b>Héritage</b> : <br/>Permet à une nouvelle classe de prendre les caractéristiques d'une classe existante, ce qui facilite la réutilisation du code et réduit sa redondance.\n",
    "<br/><br/>\n",
    "* <b>Polymorphisme</b> : <br/>Permet à une méthode d'avoir différent comportement selon son contexte d'utilisation."
   ]
  },
  {
   "cell_type": "markdown",
   "id": "f3e0d884",
   "metadata": {},
   "source": [
    "# De la procédurale à l'orienté objet\n",
    "\n",
    "## Exercice\n",
    "\n",
    "Le but de l'exercice va être de transformer le code suivant utilisant le paradigme procédural en un code utilisant le paradigme orienté objet.\n",
    "\n",
    "Le script fourni modélise une bibliothèque simple avec une liste de livres et d'usagers. Les livres peuvent être empruntés ou retournés par les usagers. "
   ]
  },
  {
   "cell_type": "code",
   "execution_count": null,
   "id": "c193092d",
   "metadata": {},
   "outputs": [],
   "source": [
    "# Gestion d'une bibliothèque version procédurale\n",
    "\n",
    "livres = [\n",
    "    {\"titre\": \"Projet dernière chance\", \"auteur\": \"Andy Weir\", \"disponible\": True},\n",
    "    {\"titre\": \"Le Meilleur des mondes\", \"auteur\": \"Aldous Huxley\", \"disponible\": False},\n",
    "]\n",
    "\n",
    "usagers = [\n",
    "    {\"nom\": \"Martin\", \"emprunts\": [\"Projet dernière chance\"]},\n",
    "    {\"nom\": \"Durand\", \"emprunts\": []},\n",
    "]\n",
    "\n",
    "\n",
    "def afficher_livres():\n",
    "    for livre in livres:\n",
    "        print(f\"{livre['titre']} par {livre['auteur']} - {'Disponible' if livre['disponible'] else 'Emprunté'}\")\n",
    "\n",
    "        \n",
    "def emprunter_livre(usager_nom, livre_titre):\n",
    "    for usager in usagers:\n",
    "        if usager[\"nom\"] == usager_nom:\n",
    "            for livre in livres:\n",
    "                if livre[\"titre\"] == livre_titre and livre[\"disponible\"]:\n",
    "                    livre[\"disponible\"] = False\n",
    "                    usager[\"emprunts\"].append(livre_titre)\n",
    "                    return True\n",
    "    return False\n",
    "\n",
    "\n",
    "def retourner_livre(usager_nom, livre_titre):\n",
    "    for usager in usagers:\n",
    "        if usager[\"nom\"] == usager_nom:\n",
    "            if livre_titre in usager[\"emprunts\"]:\n",
    "                usager[\"emprunts\"].remove(livre_titre)\n",
    "                for livre in livres:\n",
    "                    if livre[\"titre\"] == livre_titre:\n",
    "                        livre[\"disponible\"] = True\n",
    "                        return True\n",
    "    return False\n",
    "\n",
    "\n",
    "afficher_livres()\n",
    "emprunter_livre(\"Durand\", \"Le Meilleur des mondes\")"
   ]
  },
  {
   "attachments": {},
   "cell_type": "markdown",
   "id": "987556af",
   "metadata": {},
   "source": [
    "### Objectif\n",
    "\n",
    "Transformer ce code en utilisant la POO en créant les classes Livre, Usager et Bibliothèque.\n",
    "\n",
    "![Image Alt Text](data:image/svg+xml;base64,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)"
   ]
  },
  {
   "cell_type": "code",
   "execution_count": null,
   "id": "d8bd69d1",
   "metadata": {},
   "outputs": [],
   "source": [
    "# Gestion d'une bibliothèque version OOP\n",
    "class Usager:\n",
    "    pass\n",
    "\n",
    "\n",
    "class Livre:\n",
    "    pass\n",
    "\n",
    "\n",
    "class Bibliotheque:\n",
    "    pass\n"
   ]
  },
  {
   "cell_type": "markdown",
   "id": "a7487f61",
   "metadata": {},
   "source": [
    "### Conclusion de l'exercice\n",
    "\n",
    "On observe qu'en programmation orientée objet, nous avons établi des blocs logiques cohérents en regroupant attributs et méthodes au sein de classes. Cela non seulement facilite la compréhension du code, mais facilitera également l’intégration de nouvelles fonctionnalités.\n",
    "\n",
    "# Contexte d'utilisation des paradigmes\n",
    "\n",
    "### Quand utiliser la Programmation Procédurale :\n",
    "\n",
    "* Pour des scripts simples et des automatisations.\n",
    "* Lorsque le programme n'exige pas une gestion complexe de données et d'entités.\n",
    "\n",
    "### Quand opter pour la Programmation Orientée Objet :\n",
    "\n",
    "* Pour des logiciels complexes, évolutifs et à grande échelle, où la modularité et la réutilisabilité sont cruciales.\n",
    "* Lorsque le programme nécessite la gestion d'entités et de données complexes et interconnectées.\n",
    "* Dans les environnements où plusieurs équipes travaillent sur différentes parties d'un même projet, facilitant ainsi l’intégration et la compréhension du code entre les équipes."
   ]
  }
 ],
 "metadata": {
  "kernelspec": {
   "display_name": "Python 3",
   "language": "python",
   "name": "python3"
  },
  "language_info": {
   "codemirror_mode": {
    "name": "ipython",
    "version": 3
   },
   "file_extension": ".py",
   "mimetype": "text/x-python",
   "name": "python",
   "nbconvert_exporter": "python",
   "pygments_lexer": "ipython3",
   "version": "3.8.5"
  }
 },
 "nbformat": 4,
 "nbformat_minor": 5
}
