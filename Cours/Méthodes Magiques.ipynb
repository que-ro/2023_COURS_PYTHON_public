{
 "cells": [
  {
   "cell_type": "markdown",
   "id": "compact-vanilla",
   "metadata": {},
   "source": [
    "<center><h1>Méthodes Magiques en POO</h1></center>\n",
    "<br/>\n",
    "<center>Quentin Rott 2023</center>\n",
    "<br/>"
   ]
  },
  {
   "cell_type": "markdown",
   "id": "floral-liability",
   "metadata": {},
   "source": [
    "# Introduction\n",
    "\n",
    "## Qu'est-ce que c'est?\n",
    "\n",
    "Les méthodes magiques, que vous pourriez aussi entendre appelées \"méthodes spéciales\" ou \"dunder methods\" (dunder venant de \"double underscore\" en raison des deux tirets bas qui entourent leur nom), sont des méthodes intégrées que Python reconnaît et sait utiliser dans différents contextes. Le terme \"magique\" vient du fait qu'elles sont automatiquement appelées par Python selon des circonstances spécifiques ; par exemple, lorsque vous additionnez deux objets avec le signe +, c'est une méthode magique qui entre en action en coulisses.\n",
    "\n",
    "Elles sont faciles à reconnaître par leur syntaxe spécifique, qui est de double underscores avant et après le nom de la méthode, comme \\_\\_init\\_\\_ ou \\_\\_str\\_\\_. Ces méthodes vous permettent de définir comment les objets que vous créez vont se comporter dans différentes situations, comme lorsqu'ils sont convertis en une chaîne de caractères ou lorsqu'ils interagissent avec d'autres objets.\n",
    "\n",
    "\n",
    "# Les méthodes magiques d'affichage\n",
    "\n",
    "## Comportement par défaut\n",
    "\n",
    "Lorsqu'un objet est créé en Python, il possède un affichage par défaut qui n'est souvent pas très descriptif. Par exemple :\n",
    "\n",
    "\n",
    "\n"
   ]
  },
  {
   "cell_type": "code",
   "execution_count": null,
   "id": "joint-slovakia",
   "metadata": {},
   "outputs": [],
   "source": [
    "class Point:\n",
    "\n",
    "    def __init__(self, x, y):\n",
    "        self.x = x\n",
    "        self.y = y\n",
    "\n",
    "\n",
    "p = Point(2, 3)\n",
    "print(p)"
   ]
  },
  {
   "cell_type": "markdown",
   "id": "opponent-operation",
   "metadata": {},
   "source": [
    "Sans méthodes magiques implémentées, l'affichage ci-dessus renvoie quelque chose de similaire à <\\_\\_main\\_\\_.Point object at 0x10e6867f0>, qui est la représentation par défaut donnée par Python.   \n",
    "Elle indique le nom du module et de la classe, ainsi que l'adresse mémoire de l'objet."
   ]
  },
  {
   "cell_type": "markdown",
   "id": "sudden-midwest",
   "metadata": {},
   "source": [
    "## La méthode magique \\_\\_str\\_\\_\n",
    "La méthode \\_\\_str\\_\\_ est appelée par les fonctions intégrées print() et str() de Python. Elle doit retourner une chaîne de caractères.\n",
    "\n",
    "Implémentation dans la classe Point :"
   ]
  },
  {
   "cell_type": "code",
   "execution_count": null,
   "id": "unlike-reception",
   "metadata": {},
   "outputs": [],
   "source": [
    "class Point:\n",
    "\n",
    "    def __init__(self, x, y):\n",
    "        self.x = x\n",
    "        self.y = y\n",
    "\n",
    "    def __str__(self):\n",
    "        return f\"Point de coordonnées ({self.x}, {self.y})\"\n",
    "\n",
    "\n",
    "p = Point(2, 3)\n",
    "print(p)\n"
   ]
  },
  {
   "cell_type": "markdown",
   "id": "established-champagne",
   "metadata": {},
   "source": [
    "## La méthode magique \\_\\_repr\\_\\_\n",
    "La méthode \\_\\_repr\\_\\_ est utilisée pour une représentation formelle de l'objet qui peut être utilisée pour répliquer l'objet. "
   ]
  },
  {
   "cell_type": "code",
   "execution_count": null,
   "id": "engaging-personal",
   "metadata": {},
   "outputs": [],
   "source": [
    "class Point:\n",
    "\n",
    "    def __init__(self, x, y):\n",
    "        self.x = x\n",
    "        self.y = y\n",
    "\n",
    "    def __repr__(self):\n",
    "        return f\"Point({self.x}, {self.y})\"\n",
    "\n",
    "\n",
    "p = Point(2, 3)\n",
    "print(p)\n"
   ]
  },
  {
   "cell_type": "markdown",
   "id": "patent-peace",
   "metadata": {},
   "source": [
    "Ici nous pouvons recopier le print pour recréer l'objet\n",
    "\n",
    "## Mise en pratique\n",
    "\n",
    "- Créez une classe Livre qui a deux attributs : titre et auteur. \n",
    "- Implémentez les méthodes \\_\\_str\\_\\_ et \\_\\_repr\\_\\_ pour qu'en affichant l'objet, \\_\\_str\\_\\_ retourne \"Le titre du livre est {titre} écrit par {auteur}\" et que \\_\\_repr\\_\\_ retourne \"Livre('{titre}', '{auteur}')\". \n",
    "- Testez vos méthodes en créant une instance de Livre."
   ]
  },
  {
   "cell_type": "code",
   "execution_count": null,
   "id": "integrated-fitness",
   "metadata": {},
   "outputs": [],
   "source": [
    "class Livre:\n",
    "    pass"
   ]
  },
  {
   "cell_type": "code",
   "execution_count": null,
   "id": "average-cookie",
   "metadata": {},
   "outputs": [],
   "source": [
    "# Que se passe-t-il si on utilise print sur l'instance uniquement?\n"
   ]
  },
  {
   "cell_type": "code",
   "execution_count": null,
   "id": "promotional-amateur",
   "metadata": {},
   "outputs": [],
   "source": [
    "# Que se passe-t-il si on utilise print sur liste contenant l'instance?"
   ]
  },
  {
   "cell_type": "markdown",
   "id": "guilty-optimization",
   "metadata": {},
   "source": [
    "# Les opérations arithmétiques (-, +, /, *, **)\n",
    "\n",
    "## Comportement par défaut\n",
    "\n",
    "En Python, si vous essayez d'effectuer une opération arithmétique sur des instances de classe personnalisée sans méthodes magiques appropriées, vous obtiendrez une erreur.  \n",
    "Par exemple :"
   ]
  },
  {
   "cell_type": "code",
   "execution_count": null,
   "id": "electric-opposition",
   "metadata": {},
   "outputs": [],
   "source": [
    "class Vector2D:\n",
    "\n",
    "    def __init__(self, x, y):\n",
    "        self.x = x\n",
    "        self.y = y\n",
    "\n",
    "\n",
    "v1 = Vector2D(2, 3)\n",
    "v2 = Vector2D(1, 1)\n",
    "print(v1 + v2)  # Cela soulèvera une TypeError\n"
   ]
  },
  {
   "cell_type": "markdown",
   "id": "funny-input",
   "metadata": {},
   "source": [
    "## Personnalisation des Opérations Arithmétiques\n",
    "\n",
    "Pour permettre à nos objets d'utiliser les opération arithmétiques, nous devons implémenter des méthodes magiques qui sont les suivants :\n",
    "\n",
    "- \\_\\_add\\_\\_(self, other) pour l'addition avec +\n",
    "- \\_\\_sub\\_\\_(self, other) pour la soustraction avec -\n",
    "- \\_\\_mul\\_\\_(self, other) pour la multiplication avec *\n",
    "- \\_\\_truediv\\_\\_(self, other) pour la division avec /\n",
    "- \\_\\_pow\\_\\_(self, other) pour l'exponentiation avec **\n",
    "\n",
    "En reprenant l'exemple du Vector2D, on peut implémenter \\_\\_add\\_\\_ de la manière suivante :"
   ]
  },
  {
   "cell_type": "code",
   "execution_count": null,
   "id": "quick-boating",
   "metadata": {},
   "outputs": [],
   "source": [
    "class Vector2D:\n",
    "\n",
    "    def __init__(self, x, y):\n",
    "        self.x = x\n",
    "        self.y = y\n",
    "\n",
    "    def __add__(self, other):\n",
    "        if isinstance(other, Vector2D):\n",
    "            return Vector2D(self.x + other.x, self.y + other.y)\n",
    "        return NotImplemented\n",
    "\n",
    "    def __str__(self):\n",
    "        return f\"Vector2D({self.x}, {self.y})\"\n",
    "\n",
    "\n",
    "v1 = Vector2D(2, 3)\n",
    "v2 = Vector2D(1, 1)\n",
    "v3 = v1 + v2\n",
    "print(v3)  # Affichage : Vector2D(3, 4)\n"
   ]
  },
  {
   "cell_type": "markdown",
   "id": "proved-kernel",
   "metadata": {},
   "source": [
    "## Mise en pratique\n",
    "\n",
    "- Ajoutez la méthode de soustraction\n",
    "- Implémentez la multiplication pour obtenir le produit scalaire\n",
    "\n",
    "Rappel : $\\vec{A} \\cdot \\vec{B} = A_x B_x + A_y B_y$\n",
    "\n",
    "- Testez votre code\n"
   ]
  },
  {
   "cell_type": "code",
   "execution_count": null,
   "id": "signal-cowboy",
   "metadata": {},
   "outputs": [],
   "source": [
    "class Vector2D:\n",
    "\n",
    "    def __init__(self, x, y):\n",
    "        self.x = x\n",
    "        self.y = y\n",
    "\n",
    "    def __add__(self, other):\n",
    "        if isinstance(other, Vector2D):\n",
    "            return Vector2D(self.x + other.x, self.y + other.y)\n",
    "        return NotImplemented\n",
    "\n",
    "    def __str__(self):\n",
    "        return f\"Vector2D({self.x}, {self.y})\"\n",
    "    \n",
    "    # Complete the code below"
   ]
  },
  {
   "cell_type": "markdown",
   "id": "apparent-equilibrium",
   "metadata": {},
   "source": [
    "# Opérateurs de comparaison (==, <, <=, >, >=, !=)\n",
    "\n",
    "## Comportement par défaut :\n",
    "\n",
    "Les comparateurs d'égalité et de non-égalité, \"=\" et \"!=\" par défaut, compare les objets de classes personnalisées en utilisant leur identité (c'est-à-dire leur adresse en mémoire) par défaut.   \n",
    "Sans méthodes de comparaison définies, deux instances de la même classe ne seront pas considérées comme égales, même si leurs attributs sont identiques :"
   ]
  },
  {
   "cell_type": "code",
   "execution_count": null,
   "id": "moved-speech",
   "metadata": {},
   "outputs": [],
   "source": [
    "class Point:\n",
    "\n",
    "    def __init__(self, x, y):\n",
    "        self.x = x\n",
    "        self.y = y\n",
    "\n",
    "\n",
    "p1 = Point(2, 3)\n",
    "p2 = Point(2, 3)\n",
    "print(p1 == p2)  # False\n",
    "print(p1 != p2)  # True\n"
   ]
  },
  {
   "cell_type": "markdown",
   "id": "ordered-cabin",
   "metadata": {},
   "source": [
    "Les comparateurs de supériorité (>, >=) et d'infériorité (<, <=) vont quand à eux retourner une erreur TypeError si les méthodes magiques ne sont pas définies"
   ]
  },
  {
   "cell_type": "code",
   "execution_count": null,
   "id": "supreme-grenada",
   "metadata": {},
   "outputs": [],
   "source": [
    "p1 >= p2"
   ]
  },
  {
   "cell_type": "markdown",
   "id": "confused-dependence",
   "metadata": {},
   "source": [
    "## Personnalisation des Opérations de Comparaison \n",
    "\n",
    "Les méthodes magiques pour la comparaison sont :\n",
    "\n",
    "- \\_\\_eq\\_\\_(self, other) pour l'égalité ==\n",
    "- \\_\\_ne\\_\\_(self, other) pour la non-égalité !=\n",
    "- \\_\\_lt\\_\\_(self, other) pour inférieur à <\n",
    "- \\_\\_le\\_\\_(self, other) pour inférieur ou égal à <=\n",
    "- \\_\\_gt\\_\\_(self, other) pour supérieur à >\n",
    "- \\_\\_ge\\_\\_(self, other) pour supérieur ou égal à >=\n",
    "\n",
    "Exemple d'ajout du comparateur d'égalité et de non-égalité pour notre classe Point :"
   ]
  },
  {
   "cell_type": "code",
   "execution_count": null,
   "id": "neutral-hurricane",
   "metadata": {},
   "outputs": [],
   "source": [
    "class Point:\n",
    "\n",
    "    def __init__(self, x, y):\n",
    "        self.x = x\n",
    "        self.y = y\n",
    "\n",
    "    def __eq__(self, other):\n",
    "        if isinstance(other, Point):\n",
    "            return self.x == other.x and self.y == other.y\n",
    "        return NotImplemented\n",
    "    \n",
    "    def __ne__(self, other):\n",
    "        if isinstance(other, Point):\n",
    "            return self.x != other.x or self.y != other.y\n",
    "        return NotImplemented\n",
    "\n",
    "\n",
    "p1 = Point(2, 3)\n",
    "p2 = Point(2, 3)\n",
    "print(p1 == p2)  # Affichage : True\n",
    "print(p1 != p2)  # Affichage : False\n"
   ]
  },
  {
   "cell_type": "markdown",
   "id": "transsexual-addiction",
   "metadata": {},
   "source": [
    "## Mise en pratique\n",
    "- Créez une classe Time qui aura comme attributs: hour et minute\n",
    "- Implémentez l'ensemble des méthodes de comparaison\n",
    "- Testez votre code"
   ]
  },
  {
   "cell_type": "code",
   "execution_count": null,
   "id": "relative-contamination",
   "metadata": {},
   "outputs": [],
   "source": [
    "class Time:\n",
    "    pass"
   ]
  },
  {
   "cell_type": "markdown",
   "id": "scientific-phase",
   "metadata": {},
   "source": [
    "# Autres méthodes magiques\n",
    "\n",
    "Les différentes méthodes que nous venons voir n'est pas une liste exhaustive. Pour aller plus loin dans la personnalisation de vos classes et selon les cas, vous pouvez aussi implémenter les méthodes suivantes:\n",
    "\n",
    "- Contrôle d'accès aux attributs : \\_\\_getattr\\_\\_, \\_\\_setattr\\_\\_, \\_\\_delattr\\_\\_ et \\_\\_getattribute\\_\\_ permettent de personnaliser l'accès et la modification des attributs.\n",
    "\n",
    "- Représentation des instances : Outre \\_\\_str\\_\\_ et \\_\\_repr\\_\\_, il existe \\_\\_format\\_\\_ pour personnaliser le formatage des objets.\n",
    "\n",
    "- Contexte de gestion des ressources : \\_\\_enter\\_\\_ et \\_\\_exit\\_\\_ sont utilisées pour définir le comportement d'un objet dans un bloc with.\n",
    "\n",
    "- Création et destruction : \\_\\_new\\_\\_ et \\_\\_del\\_\\_ contrôlent la création et la destruction d'instances.\n",
    "\n",
    "- Attributs calculés : \\_\\_getattr\\_\\_, \\_\\_getattribute\\_\\_, \\_\\_setattr\\_\\_, et \\_\\_delattr\\_\\_ permettent de définir des comportements personnalisés lors de l'accès aux attributs.\n",
    "\n",
    "- Descripteurs : \\_\\_get\\_\\_, \\_\\_set\\_\\_, et \\_\\_delete\\_\\_ sont utilisés pour créer des descripteurs qui contrôlent l'accès à des variables d'instance.\n",
    "\n",
    "- Indexation et découpage : \\_\\_getitem\\_\\_, \\_\\_setitem\\_\\_, et \\_\\_delitem\\_\\_ permettent de définir le comportement des opérations d'indexation et de découpage.\n",
    "\n",
    "- Appels de fonctions : \\_\\_call\\_\\_ permet à une instance de se comporter comme une fonction.\n",
    "- Etc...\n",
    "\n",
    "\n",
    "Pour une liste exhaustive, consultez: https://rszalski.github.io/magicmethods/"
   ]
  },
  {
   "cell_type": "code",
   "execution_count": null,
   "id": "competitive-vessel",
   "metadata": {},
   "outputs": [],
   "source": []
  },
  {
   "cell_type": "code",
   "execution_count": null,
   "id": "mounted-tomato",
   "metadata": {},
   "outputs": [],
   "source": []
  }
 ],
 "metadata": {
  "kernelspec": {
   "display_name": "Python 3",
   "language": "python",
   "name": "python3"
  },
  "language_info": {
   "codemirror_mode": {
    "name": "ipython",
    "version": 3
   },
   "file_extension": ".py",
   "mimetype": "text/x-python",
   "name": "python",
   "nbconvert_exporter": "python",
   "pygments_lexer": "ipython3",
   "version": "3.8.5"
  }
 },
 "nbformat": 4,
 "nbformat_minor": 5
}
