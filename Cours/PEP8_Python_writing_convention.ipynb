{
 "cells": [
  {
   "cell_type": "markdown",
   "id": "b0f1b3ec",
   "metadata": {},
   "source": [
    "<center><h1>PEP8 convention d'écriture</h1></center>\n",
    "\n",
    "<br/>\n",
    "\n",
    "PEP 8, parfois orthographié PEP8 ou PEP-8, est un document qui fournit des directives et des meilleures pratiques sur la façon d'écrire du code Python. Il a été rédigé en 2001 par Guido van Rossum, Barry Warsaw, et Nick Coghlan. L'objectif principal de PEP 8 est d'améliorer la lisibilité et la cohérence du code Python.\n",
    "\n",
    "PEP signifie Proposition d'Amélioration de Python (Python Enhancement Proposal), et il en existe plusieurs. Un PEP est un document qui décrit de nouvelles fonctionnalités proposées pour Python et documente des aspects de Python, comme la conception et le style, pour la communauté.\n",
    "\n",
    "### Pourquoi on a besoin de PEP8 :\n",
    "\n",
    "- Il peut être difficile de se souvenir de la signification d'un morceau de code quelques jours, ou semaines, après l'avoir écrit. En suivant la convention PEP 8, vous assurez d'avoir bien nommé vos variables et d'avoir produit un code structuré. Tout cela signifie que votre code sera plus lisible et plus facile à revoir.\n",
    "- PEP 8 est un standard partagé qui vous permettra de partager facilement votre code avec d'autres développeurs et de lire plus aisément du code publié sur le web.\n",
    "\n",
    "## Conventions de nommage\n",
    "\n",
    "- Utilisez l'anglais\n",
    "- Utilisez des noms entiers mais concis"
   ]
  },
  {
   "cell_type": "code",
   "execution_count": null,
   "id": "8d4e115b",
   "metadata": {},
   "outputs": [],
   "source": [
    "q# Recommended\n",
    "document_ids = [123, 465]\n",
    "for document_id in document_ids:\n",
    "    # do something\n",
    "    pass\n",
    "\n",
    "# Not recommended (unclear abbreviations, single letter variables)\n",
    "dids = [123, 465]\n",
    "for i in dids:\n",
    "    # do something\n",
    "    pass"
   ]
  },
  {
   "cell_type": "markdown",
   "id": "857f29a7",
   "metadata": {},
   "source": [
    "\n",
    "| Type        | Bon exemple          | Mauvais exemple  |\n",
    "|-------------|----------------------|------------------|\n",
    "| Function    | `function`, `my_function` | `Function`      |\n",
    "| Variable    | `x`, `var`, `my_variable` | `X`, `Var`, `My_Variable` |\n",
    "| Class       | `Model`, `MyClass`   | `model`, `myClass` |\n",
    "| Method      | `class_method`, `method` | `Class_method`, `Method` |\n",
    "| Constant    | `CONSTANT`, `MY_CONSTANT`, `MY_LONG_CONSTANT` | `constant`, `my_constant`, `my_long_constant` |\n",
    "| Module      | `module.py`, `my_module.py` | `Module.py`, `My_Module.py` |\n",
    "| Package     | `package`, `mypackage` | `Package`, `MyPackage` |\n",
    "\n",
    "\n",
    "## Longueur maximale de ligne et coupure de ligne\n",
    "\n",
    "- Longueur maximale d'une ligne: 79 caractères\n",
    "- Coupure de ligne:\n",
    "- - Implicite en utilisant les parenthèses, crochets ou accolades\n",
    "- - En utilisant le backslash: \\\n",
    "\n",
    "**Note**: Favorisez les coupures implicites avant d'utilisez les backslashs."
   ]
  },
  {
   "cell_type": "code",
   "execution_count": 3,
   "id": "1eb7a5be",
   "metadata": {},
   "outputs": [
    {
     "name": "stdout",
     "output_type": "stream",
     "text": [
      "Ceci est un exemple de texte qui est assez long pour nécessiter une coupure de ligne en utilisant les règles de style PEP 8.\n",
      "Ceci est un exemple de texte qui est assez long pour nécessiter une coupure de ligne en utilisant les règles de style PEP 8.\n"
     ]
    }
   ],
   "source": [
    "# Recommended\n",
    "print(\"Ceci est un exemple de texte qui est assez long pour nécessiter une \"\n",
    "      \"coupure de ligne en utilisant les règles de style PEP 8.\")\n",
    "\n",
    "def my_function(arg1, arg2, arg3, arg4, arg5, arg6,\n",
    "                arg7, arg8, arg9, arg10, arg11):\n",
    "    \"\"\"Ceci est une fonction avec beaucoup d'arguments.\"\"\"\n",
    "    pass\n",
    "\n",
    "\n",
    "# Not recommended\n",
    "print(\"Ceci est un exemple de texte qui est assez long pour nécessiter une coupure de ligne en utilisant les règles de style PEP 8.\")\n",
    "\n",
    "def my_function(arg1, arg2, arg3, arg4, arg5, arg6,arg7, arg8, arg9, arg10, arg11):\n",
    "    \"\"\"Ceci est une fonction avec beaucoup d'arguments.\"\"\"\n",
    "    pass\n",
    "\n"
   ]
  },
  {
   "cell_type": "markdown",
   "id": "52f9ce85",
   "metadata": {},
   "source": [
    "## Commentaires\n",
    "\n",
    "- Utilisez des phrases complètes qui débutent par une majuscule.\n",
    "- Débutez chaque commentaire avec un # suivi d'un espace.\n",
    "- Indentez le commentaire au même niveau que le code associé.\n",
    "- Ne pas utiliser de commentaire pour expliquer ce qui est évident."
   ]
  },
  {
   "cell_type": "code",
   "execution_count": 4,
   "id": "944fbc3f",
   "metadata": {},
   "outputs": [],
   "source": [
    "# Recommended\n",
    "def calculate_velocity(distance, time):\n",
    "    \n",
    "    # Avoid division by zero\n",
    "    if time == 0:\n",
    "        return 0  \n",
    "    \n",
    "    velocity = distance / time\n",
    "    \n",
    "    return velocity\n",
    "\n",
    "# Not recommended\n",
    "def calculate_velocity(distance, time):\n",
    "    \n",
    "    #check if time equals 0\n",
    "    if time == 0:\n",
    "    # Return 0\n",
    "        return 0  \n",
    "    \n",
    "    # Calculate velocity\n",
    "    velocity = distance / time\n",
    "    \n",
    "    # Return velocity\n",
    "    return velocity"
   ]
  },
  {
   "cell_type": "markdown",
   "id": "1e54d311",
   "metadata": {},
   "source": [
    "## Mise en page du code\n",
    "\n",
    "- Utilisez deux espaces entre les classes et les fonctions de niveau supérieur, et un espace à l'intérieur des classes entre les méthodes.\n",
    "- Utilisez des lignes vides dans les fonctions pour indiquer des étapes logiques claires."
   ]
  },
  {
   "cell_type": "code",
   "execution_count": 5,
   "id": "82d915a2",
   "metadata": {},
   "outputs": [],
   "source": [
    "# Recommended\n",
    "def high_level_func1():\n",
    "    pass\n",
    "\n",
    "\n",
    "def high_level_func2():\n",
    "    pass\n",
    "\n",
    "\n",
    "class MyClass:\n",
    "    \n",
    "    def greet_and_add(self, a, b):\n",
    "        \n",
    "        print(\"Hello, User!\")\n",
    "\n",
    "        result = a + b\n",
    "        print(f\"The result of {a} + {b} is {result}\")\n",
    "        \n",
    "    def other_method(self):\n",
    "        pass\n",
    "\n",
    "\n",
    "# Not recommended\n",
    "def high_level_func1():\n",
    "    pass\n",
    "\n",
    "def high_level_func2():\n",
    "    pass\n",
    "\n",
    "class MyClass:\n",
    "    \n",
    "    def greet_and_add(a, b):\n",
    "        print(\"Hello, User!\")\n",
    "        result = a + b\n",
    "        print(f\"The result of {a} + {b} is {result}\")\n",
    "        \n",
    "        \n",
    "    def other_method(self):\n",
    "        pass\n",
    "           "
   ]
  },
  {
   "cell_type": "markdown",
   "id": "21d4dbfe",
   "metadata": {},
   "source": [
    "## Indentation\n",
    "\n",
    "- Utilisez 4 espaces par niveau d'indentation.\n",
    "- Pour les coupures de ligne dans les définitions de fonctions ou les structures de contrôle, ajoutez une double indentation pour distinguer clairement les arguments ou les conditions du corps de la fonction ou de la structure.\n",
    "\n",
    "**Note**: Jupyter et d'autres éditeurs sont configurés pour créer 4 espaces quand vous utilisez la touche tab."
   ]
  },
  {
   "cell_type": "code",
   "execution_count": 6,
   "id": "d394d061",
   "metadata": {},
   "outputs": [],
   "source": [
    "# Recommended\n",
    "def my_function(arg1, arg2, arg3, arg4, arg5, arg6,\n",
    "        arg7, arg8, arg9, arg10, arg11):\n",
    "    \n",
    "    \"\"\"Ceci est une fonction avec beaucoup d'arguments.\"\"\"\n",
    "    \n",
    "    if (argument_un and argument_deux and\n",
    "            argument_trois and argument_quatre and\n",
    "            argument_cinq):\n",
    "        pass\n",
    "\n",
    "# Not recommended\n",
    "def my_function(arg1, arg2, arg3, arg4, arg5, arg6,\n",
    "    arg7, arg8, arg9, arg10, arg11):\n",
    "    \n",
    "    \"\"\"Ceci est une fonction avec beaucoup d'arguments.\"\"\"\n",
    "    \n",
    "    if (arg1 and arg2 and arg3 and arg4\n",
    "        arg5 and arg6 and arg7 and arg8\n",
    "        and arg9 and arg10):\n",
    "        # Code inside the if\n",
    "        # Hard to see when the condition stops and when the code starts\n",
    "        pass"
   ]
  },
  {
   "cell_type": "markdown",
   "id": "28aa724e",
   "metadata": {},
   "source": [
    "## Pour des règles plus exhaustives:\n",
    "\n",
    "Les règles que vous venez de voir ne sont pas exhaustives mais sont suffisantes pour débuter.\n",
    "Pour en apprendre plus sur les conventions PEP8, visitez les sites suivants:\n",
    "- https://peps.python.org/pep-0008/\n",
    "- https://www.cs.utexas.edu/~mitra/csFall2022/cs313/lectures/pep8.pdf"
   ]
  },
  {
   "cell_type": "code",
   "execution_count": null,
   "id": "89575441",
   "metadata": {},
   "outputs": [],
   "source": []
  }
 ],
 "metadata": {
  "kernelspec": {
   "display_name": "Python 3",
   "language": "python",
   "name": "python3"
  },
  "language_info": {
   "codemirror_mode": {
    "name": "ipython",
    "version": 3
   },
   "file_extension": ".py",
   "mimetype": "text/x-python",
   "name": "python",
   "nbconvert_exporter": "python",
   "pygments_lexer": "ipython3",
   "version": "3.8.5"
  }
 },
 "nbformat": 4,
 "nbformat_minor": 5
}
