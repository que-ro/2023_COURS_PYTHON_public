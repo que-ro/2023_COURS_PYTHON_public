{
 "cells": [
  {
   "cell_type": "markdown",
   "metadata": {},
   "source": [
    "<center><h1>Examen 3</h1></center>\n",
    "\n",
    "<b>Consigne :</b>\n",
    "\n",
    "À la fin de l'examen, téléchargez le fichier sous format .ipynb et envoyez-le à mon mail: quentin.rott2@etu.unistra.fr.\n",
    "- Si vous êtes sur Google Colab : Fichier -> Télécharger -> Télécharger le fichier .ipynb\n",
    "- Si vous êtes sur Jupyter Notebook : File -> Download as -> Notebook (.ipynb)"
   ]
  },
  {
   "cell_type": "markdown",
   "metadata": {},
   "source": [
    "## Exercice 1: (7 pts)\n",
    "\n",
    "### Contexte\n",
    "Le but va être d'implémenter une filmothèque en définissant deux classes `Movie` et `FilmLibrary`\n",
    "\n",
    "### Consignes\n",
    "\n",
    "1. Définissez la classe `Movie` avec les attributs: title, director, et duration (un entier répresentant les minutes).\n",
    "2. Définissez la classe `FilmLibrary` avec les attributs: name (nom de la filmothèque) et movies (une liste).\n",
    "3. Dans la classe `FilmLibrary`, ajoutez les méthodes:  \n",
    "    3.1 `add_movie(movie)` pour ajouter un film à la filmothèque.  \n",
    "    3.2 `remove_movie(title_movie)` pour retirer un film de la filmothèque en utilisant son titre.  \n",
    "    3.3 `total_duration()` pour retourner la durée totale des films dans la filmothèque.  (Il faut que la méthode retourne et non affiche la durée totale)\n",
    "\n",
    "\n",
    "<b>Note : </b>\n",
    "- Pensez aux méthodes append et remove des listes\n"
   ]
  },
  {
   "cell_type": "code",
   "execution_count": null,
   "metadata": {},
   "outputs": [],
   "source": [
    "# Your code :\n",
    "\n",
    "\n",
    "# ! Do not change the code below !\n",
    "# Expected output :\n",
    "# Duration of Favorites library : 418 minutes\n",
    "\n",
    "# Testing script :\n",
    "my_library = FilmLibrary(\n",
    "    name=\"Favorites\",\n",
    "    movies=[\n",
    "        Movie(\"Interstellar\", \"Christopher Nolan\", 169),\n",
    "        Movie(\"Mad max: Fury Road\", \"George Miller\", 120),\n",
    "        Movie(\"12 Angry Men\", \"Sidney Lumet\", 95)\n",
    "    ]\n",
    ")\n",
    "\n",
    "my_library.remove_movie(\"12 Angry Men\")\n",
    "my_library.add_movie(Movie(\"12 Monkeys\", \"Terry Gilliam\", 129))\n",
    "print(f\"Duration of {my_library.name} library : {my_library.total_duration()} minutes\")\n",
    "\n"
   ]
  },
  {
   "cell_type": "markdown",
   "metadata": {},
   "source": [
    "## Exercice 2: (7 pts)\n",
    "\n",
    "### Contexte\n",
    "Le but de l'exercice sera de développer un système de réservation de place de parking par des véhicules. Pour celà trois classes devront être définies, `VehicleReservation`, `CarReservation` et `BikeReservation`. `CarReservation` et `BikeReservation` dériveront de la classe parente `VehicleReservation`.\n",
    "\n",
    "### Consignes\n",
    "- Créez la classe `VehicleReservation` qui devra contenir les attributs `customer_name` (nom du client) et `duration_days` (durée du stationnement).\n",
    "- Implémentez la méthode `calculate_cost` qui devra calculer le prix du stationnement en multipliant duration_days par 5 (5 euros par jour). La méthode devra retourner le prix.\n",
    "\n",
    "- Créez la classe `CarReservation` qui héritera de la classe `VehicleReservation` et qui contiendra en plus deux attributs `car_length` et `car_width` qui seront la largeur et la longueur en cm respectivement de la voiture.\n",
    "- Dans cette classe `CarReservation`, redéfinissez la méthode `calculate_cost`  qui devra calculer le prix du stationnement en utilisant la formule suivante: \n",
    "\n",
    "$$ duration\\_days \\times \\left(\\frac{length + width}{100}\\right) $$\n",
    "\n",
    "- Créez la classe `BikeReservation` qui héritera de la classe `VehicleReservation` qui contiendra en plus l'attribut `discount_pct` (réduction en pourcentage) qui aura toujours comme valeur 0.8 (réduction de 80%)\n",
    "- Dans cette classe `BikeReservation`, redéfinissez la méthode `calculate_cost` qui devra calculer le prix du stationnement de la même manière que la classe parente `VehicleReservation` en appliquant la réduction. (Pensez à le faire de manière à utiliser l'héritage)\n",
    "\n",
    "- Instanciez un objet VehicleReservation avec une durée de 8 jours.\n",
    "- Instanciez un objet CarReservation avec une durée de 2 jours, une longueur de voiture de 436cm et une largeur de 255cm.\n",
    "- Instanciez un objet BikeReservation pour une durée de 3 jours.\n",
    "- Pour chaque objet, affichez le prix de stationnement\n",
    "\n",
    "<br/><br/>\n"
   ]
  },
  {
   "cell_type": "code",
   "execution_count": null,
   "metadata": {},
   "outputs": [],
   "source": []
  },
  {
   "cell_type": "markdown",
   "metadata": {},
   "source": [
    "## Exercice 3: (6 pts)\n",
    "\n",
    "### Contexte\n",
    "Dans cet exercice il va falloir implémenter une classe `ComplexNumber` qui supportera les opérations d'addition et de soustraction.\n",
    "Les nombres complexes sont une extension des nombres réels et sont largement utilisés en mathématiques, en physique et en ingénierie. Un nombre complexe est constitué d'une partie réelle et d'une partie imaginaire. Par exemple, dans le nombre complexe 3 + 4i, 3 est la partie réelle et 4i est la partie imaginaire. Lorsque deux nombres complexes sont additionnés ou soustraits, leurs parties réelles sont additionnées ou soustraites entre elles, et de même pour leurs parties imaginaires.\n",
    "\n",
    "<b>Exemple :</b> (10 + 4i) + (40 + 3i) = 50 + 7i\n",
    "\n",
    "### Consignes\n",
    "- Créez la classe `ComplexNumber` qui devra contenir les attributs `real` (partie réelle) et `imaginary` (partie imaginaire).\n",
    "\n",
    "- Implémentez la méthode magique `__str__` qui devra retourner une chaîne présentant le nombre complexe sous la forme \"a + bi\" ou \"a - bi\", selon que la partie imaginaire soit positive ou négative.  \n",
    "Exemple: print(ComplexNumber(real=3, imaginary=4)) devra afficher \"3 + 4i\"\n",
    "\n",
    "- Implémentez la méthode magique `__add__` qui devra additionner deux nombres complexes en additionnant leurs parties réelles et imaginaires séparément, et retourner un nouvel objet `ComplexNumber`.  \n",
    "Exemple: ComplexNumber(real=3, imaginary=4) + ComplexNumber(real=1, imaginary=2) devra retourner un objet ComplexNumber avec real = 4 et imaginary = 6.\n",
    "\n",
    "- Implémentez la méthode magique `__sub__` qui devra soustraire un nombre complexe d'un autre en soustrayant leurs parties réelles et imaginaires séparément, et retourner un nouvel objet `ComplexNumber`.  \n",
    "Exemple: ComplexNumber(real=5, imaginary=3) - ComplexNumber(real=2, imaginary=1) devra retourner un objet ComplexNumber avec real = 3 et imaginary = 2.\n",
    "\n",
    "- Instanciez un nombre complexe avec 3 comme partie réelle et 4 comme partie imaginaire.\n",
    "\n",
    "- Instanciez un autre nombre complexe avec 1 comme partie réelle et 2 comme partie imaginaire.\n",
    "\n",
    "- Affichez le résultat obtenu par l'addition de ces deux nombres complexes.\n",
    "\n",
    "- Affichez le résultat obtenu par la soustraction du premier nombre complexe par le second."
   ]
  },
  {
   "cell_type": "code",
   "execution_count": null,
   "metadata": {},
   "outputs": [],
   "source": []
  }
 ],
 "metadata": {
  "kernelspec": {
   "display_name": "Python 3",
   "language": "python",
   "name": "python3"
  },
  "language_info": {
   "codemirror_mode": {
    "name": "ipython",
    "version": 3
   },
   "file_extension": ".py",
   "mimetype": "text/x-python",
   "name": "python",
   "nbconvert_exporter": "python",
   "pygments_lexer": "ipython3",
   "version": "3.8.5"
  }
 },
 "nbformat": 4,
 "nbformat_minor": 2
}
