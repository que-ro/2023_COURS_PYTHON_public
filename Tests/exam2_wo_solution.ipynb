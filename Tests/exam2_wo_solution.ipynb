{
 "cells": [
  {
   "cell_type": "markdown",
   "metadata": {},
   "source": [
    "<center><h1>Examen 2</h1></center>\n",
    "\n",
    "<b>Consigne :</b>\n",
    "\n",
    "À la fin de l'examen, téléchargez le fichier sous format .ipynb et envoyez-le à mon mail: quentin.rott2@etu.unistra.fr.\n",
    "- Si vous êtes sur Google Colab : Fichier -> Télécharger -> Télécharger le fichier .ipynb\n",
    "- Si vous êtes sur Jupyter Notebook : File -> Download as -> Notebook (.ipynb)\n",
    "\n",
    "\n",
    "## Exercice 1: (10 pts)\n",
    "\n",
    "### Contexte:\n",
    "Le but sera d'implémenter une classe ProtectedMessage qui aura pour but de protéger un message par un code pour que seul les détenteurs du mdp puissent le lire ou le modifier.\n",
    "\n",
    "### Consignes:\n",
    "\n",
    "- Créez la classe ProtectedMessage qui devra contenir un message et un mot de passe privée qui ne peuvent être directement lue exceptée par les méthodes que vous\n",
    "devez implémenter.\n",
    "\n",
    "- La classe ProtectedMessage devra de plus implémenter quatre méthodes permettant de:\n",
    "\t- Vérifier que le mot de passe donné en argument de la méthode est le bon. La méthode devra retourner un booléen (False ou True)\n",
    "\t- Modifier le mot de passe qui prendra en arguments l'ancien mot de passe ainsi que le nouveau. La méthode d'abord doit vérifier que l'ancien mot de passe donné est le bon, et si c'est le cas, le changement peut être effectué. Dans chaque cas, affichez un message du succès ou non de l'opération\n",
    "\t- Lire le message, qui prendra en argument le mot de passe. La méthode doit d'abord vérifier que c'est le bon mot de passe avant d'afficher le message, sinon il affiche un message expliquant que le mot de passe n'est pas le bon.\n",
    "\t- Modifier le message, qui prendra en arguments le nouveau message et le mot de passe. La méthode devra à nouveau d'abord vérifier qu'il s'agit du bon mot de passe avant de modifier le message. Selon la vérification, afficher un message de succès ou d'échec de l'opération.\n",
    "<br/><br/>\n",
    "- Créez un script testant l'ensemble des fonctionnalités implémentées."
   ]
  },
  {
   "cell_type": "code",
   "execution_count": null,
   "metadata": {},
   "outputs": [],
   "source": []
  },
  {
   "cell_type": "markdown",
   "metadata": {},
   "source": [
    "## Exercice 2 : (10 pts)\n",
    "\n",
    "### Contexte:\n",
    "Le but sera de créer une classe `Product` et une classe `BasicDiscount` qui sera une classe mère pour une classe de réduction saisonnière. Un produit pourra accumuler un certain nombre de réductions (discount).\n",
    "\n",
    "### Consignes:\n",
    "\n",
    "- Créez la classe `BasicDiscount` qui devra contenir l'attribut `discount_percentage` (réduction en pourcentage).\n",
    "- Implémentez la méthode `apply_discount` qui devra prendre en argument un prix et devra retourner le prix réduit après l'application de la réduction (retourné et non affiché).\n",
    "\n",
    "- Créez la classe `SeasonalDiscount` qui héritera de la classe `BasicDiscount` et qui contiendra en plus deux attributs `start_month` et `end_month` qui seront des entiers (1: Janvier, 2: Février, etc...).\n",
    "- Redéfinissez la méthode `apply_discount` :\n",
    "\t- Elle devra tout d'abord obtenir le mois actuel.\n",
    "\t- Elle devra ensuite vérifier si le mois actuel se trouve entre `start_month` et `end_month`.\n",
    "\t\t- Si oui, elle devra retourner le prix réduit en utilisant la méthode parente.\n",
    "\t\t- Si non, elle devra retourner le prix sans réduction.\n",
    "<br/><br/>\n",
    "- Créez une classe `Product` qui devra contenir les attributs `name`, `price` et `list_discounts`.\n",
    "- Implémentez une méthode `get_price` qui devra appliquer l'ensemble des réductions de `list_discounts`. Attention, ne modifiez pas le prix original (attribut `price` stocké dans `self`).\n",
    "\n",
    "- Testez vos classes :\n",
    "\t- Instanciez un objet `BasicDiscount` avec une réduction de 10%.\n",
    "\t- Instanciez un objet `SeasonalDiscount` avec une réduction de 10% pour les mois entre Juin et Décembre.\n",
    "\t- Instanciez un objet `Product` \"Headphone\" avec un prix de 200 et avec les deux réductions.\n",
    "\t- Affichez le prix.\n",
    "\t- Dupliquez le code de test que vous venez d'implémenter et modifiez uniquement l'instanciation de `SeasonalDiscount` qui aura toujours une réduction de 10% mais qui sera appliquée entre le mois de Janvier et Juin.\n"
   ]
  },
  {
   "cell_type": "code",
   "execution_count": null,
   "metadata": {},
   "outputs": [],
   "source": []
  },
  {
   "cell_type": "markdown",
   "metadata": {},
   "source": []
  }
 ],
 "metadata": {
  "kernelspec": {
   "display_name": "Python 3",
   "language": "python",
   "name": "python3"
  },
  "language_info": {
   "codemirror_mode": {
    "name": "ipython",
    "version": 3
   },
   "file_extension": ".py",
   "mimetype": "text/x-python",
   "name": "python",
   "nbconvert_exporter": "python",
   "pygments_lexer": "ipython3",
   "version": "3.8.12"
  }
 },
 "nbformat": 4,
 "nbformat_minor": 5
}
