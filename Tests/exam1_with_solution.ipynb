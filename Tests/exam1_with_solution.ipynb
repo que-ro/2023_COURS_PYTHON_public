{
 "cells": [
  {
   "cell_type": "markdown",
   "metadata": {},
   "source": [
    "<center><h1>Examen 1</h1></center>"
   ]
  },
  {
   "cell_type": "markdown",
   "metadata": {},
   "source": [
    "<b>Note :</b> Faites les exercices dans l'ordre de votre choix sur une feuille à part."
   ]
  },
  {
   "cell_type": "markdown",
   "metadata": {},
   "source": [
    "# Exercice 1: (3 pts)\n",
    "Analyser le code suivant et identifier les erreurs de syntaxe.  \n",
    "Utilisez les numéros des lignes pour localiser les erreurs et décrivez les erreurs. "
   ]
  },
  {
   "cell_type": "code",
   "execution_count": null,
   "metadata": {},
   "outputs": [],
   "source": [
    "import datetime\n",
    "\n",
    "class Task:\n",
    "    def __init__(self, title, description):\n",
    "        self._title = title\n",
    "        self._description = description\n",
    "        self._is_complete = False\n",
    "\n",
    "    def mark_complete():\n",
    "        self._is_complete = True\n",
    "\n",
    "\n",
    "class ScheduledTask(Task):\n",
    "\n",
    "    def __init__(self, title, description, scheduled_time):\n",
    "        super().__init__(\"title\", \"description\")\n",
    "        if isinstance(scheduled_time, datetime.datetime):\n",
    "            self.scheduled_time = scheduled_time\n",
    "        else:\n",
    "            raise ValueError(\"Invalid time format. Please provide a 'datetime' object.\")\n",
    "\n",
    "    def reschedule(self, new_time):\n",
    "        super().reschedule(new_time) \n",
    "        if isinstance(new_time, datetime.datetime) and not self._is_complete:\n",
    "            scheduled_time = new_time\n",
    "        else:\n",
    "            raise ValueError(\"Cannot reschedule a completed task or invalid time format.\")\n",
    "\n",
    "\n",
    "# Testing script\n",
    "my_task = ScheduledTask \n",
    "my_task.reschedule(datetime.datetime(2023, 10, 15, 18, 0))\n",
    "info = my_task.mark_complete\n",
    "print(f\"Is the task complete : {my_task._is_complete}\")"
   ]
  },
  {
   "cell_type": "markdown",
   "metadata": {},
   "source": [
    "Solution:    \n",
    "0.5 pts par bonne réponse, avec une limite à 3  \n",
    "\n",
    "l4. : Un saut de ligne est manquant entre la définition de la classe et la méthoed  \n",
    "l9. : Il manque l'argument self  \n",
    "l16. : Il faut retirer les \" car on veut utiliser les arguments.  \n",
    "l23. : Il n'y a pas de méthode reschedule dans la classe mère Task   \n",
    "l25. : Il faut ajouter \"self.\" devant pour accéder à l'attribut scheduled_time  \n",
    "l31. : Il manque les parenthèses et les arguments pour créer une instance de ScheduledTask  \n",
    "l33. : Il manque les parenthèses pour exécuter la méthode  \n",
    "l34. : Violation de l'encapsulation  "
   ]
  },
  {
   "cell_type": "markdown",
   "metadata": {},
   "source": [
    "# Exercice 2: (3 pts)\n",
    "Quelles seront les valeurs finales des attributs de account1, account2 et account3 en exécutant ce script?"
   ]
  },
  {
   "cell_type": "code",
   "execution_count": null,
   "metadata": {},
   "outputs": [],
   "source": [
    "class BankAccount:\n",
    "\n",
    "    def __init__(self, account_holder_name, balance=0):\n",
    "        self.account_holder_name = account_holder_name\n",
    "        self.balance = balance\n",
    "\n",
    "    def deposit(self, amount):\n",
    "        self.balance += amount\n",
    "\n",
    "    def withdraw(self, amount):\n",
    "        if self.balance >= amount:\n",
    "            self.balance -= amount\n",
    "        else:\n",
    "            print(\"Insufficient balance\")\n",
    "\n",
    "\n",
    "class SavingsAccount(BankAccount):\n",
    "\n",
    "    def __init__(self, account_holder_name, balance=0, minimum_balance=50):\n",
    "        super().__init__(account_holder_name, balance)\n",
    "        self.minimum_balance = minimum_balance\n",
    "\n",
    "    def withdraw(self, amount):\n",
    "        if self.balance - amount >= self.minimum_balance:\n",
    "            self.balance -= amount\n",
    "        else:\n",
    "            print(f\"Cannot withdraw below the minimum balance: {self.minimum_balance}\")\n",
    "\n",
    "\n",
    "# Testing script:\n",
    "account1 = SavingsAccount(\"John Doe\", 0)\n",
    "account1.deposit(100)\n",
    "account1.withdraw(50)\n",
    "account1.withdraw(50)\n",
    "\n",
    "account2 = SavingsAccount(\"Diego Aguilera\", 200, 200)\n",
    "account2.deposit(200)\n",
    "account2.withdraw(50)\n",
    "account2.withdraw(200)\n",
    "\n",
    "account3 = BankAccount(\"Jessica Kompton\", 0)\n",
    "account3.deposit(100)\n",
    "account3.withdraw(50)\n",
    "account3.withdraw(50)"
   ]
  },
  {
   "cell_type": "markdown",
   "metadata": {},
   "source": [
    "Solution:  \n",
    "account_holder_name: John Doe, balance: 50, minimum_balance: 50 (1pts)  \n",
    "account_holder_name: Diego Aguilera,balance: 350, minimum_balance: 200 (1pts)  \n",
    "account_holder_name: Jessica Kompton, balance: 0  (1pts)  "
   ]
  },
  {
   "cell_type": "markdown",
   "metadata": {},
   "source": [
    "# Exercice 3: (3pts)\n",
    "- Analyser le code suivant et identifier les constante(s), les attribut(s) et les argument(s).  \n",
    "- Identifier les méthode(s) et les fonction(s).\n",
    "- Identifier les classes et les instances de classe(s)/objet(s).\n"
   ]
  },
  {
   "cell_type": "code",
   "execution_count": null,
   "metadata": {},
   "outputs": [],
   "source": [
    "EMISSIONS_LIMIT = 50\n",
    "\n",
    "def check_emissions(emissions):\n",
    "    return emissions <= EMISSIONS_LIMIT\n",
    "\n",
    "\n",
    "class Car:\n",
    "\n",
    "    def __init__(self, make, model, emissions):\n",
    "        self.make = make\n",
    "        self.model = model\n",
    "        self._emissions = emissions\n",
    "\n",
    "    def update_emissions(self, new_emissions):\n",
    "        self._emissions = new_emissions\n",
    "\n",
    "    def get_legal_review(self):\n",
    "        is_legal = check_emissions(self._emissions)\n",
    "        legal_review = f\"Car: {self.make} {self.model} \\n\"\n",
    "        legal_review += f\"Legal Status: {'Legal' if is_legal else 'Illegal'}\"\n",
    "        return legal_review\n",
    "\n",
    "\n",
    "# Testing script\n",
    "car1 = Car(\"Citroën\", \"C4\", 45)\n",
    "car2 = Car(\"Volkswagen\", \"Eos\", 55)\n",
    "\n",
    "print(car1.get_legal_review())\n",
    "print(car2.get_legal_review())\n",
    "\n",
    "car2.update_emissions(45)\n",
    "print(car2.get_legal_review())"
   ]
  },
  {
   "cell_type": "markdown",
   "metadata": {},
   "source": [
    "Solution:  \n",
    "- 0.25pts pour toute erreur ou oublie\n",
    "\n",
    "1.  (1 pts)\n",
    " Constante(s): EMISSIONS_LIMIT  \n",
    " Attribut(s): make, model, _emissions  \n",
    " Argument(s): make, model, emissions, new_emissions, self  \n",
    "\n",
    "2.  (1 pts)\n",
    " Méthode(s): __init__, update_emissions, get_legal_review  \n",
    " Fonction(s): check_emissions  \n",
    " \n",
    "3.  (1 pts)\n",
    " Classe(s): Car  \n",
    " Objet(s): car1, car2, (is_legal, legal_review)  "
   ]
  },
  {
   "cell_type": "markdown",
   "metadata": {},
   "source": [
    "# Exercice 4: (4pts)\n",
    "\n",
    "Écrivez le code des classes \"Appliance\" et \"Refrigerator\".\n",
    "\n",
    "- La classe \"Appliance\" possède un attribut : _power_usage.\n",
    "- La classe \"Refrigerator\" hérite de la classe \"Appliance\".\n",
    "- La classe \"Refrigerator\" contient également les attributs suivants :\n",
    "    - _current_temperature (température actuelle du réfrigérateur).\n",
    "    - desired_temperature avec une valeur par défaut de 4.0 (la température que vous souhaitez pour le réfrigérateur).\n",
    "    - _optimal_temperature avec une valeur par défaut de 6.0 (la température de fonctionnement optimale pour le réfrigérateur).\n",
    "- La classe \"Refrigerator\" implémente une méthode get_power_consumption() qui retourne la consommation énergétique en utilisant la logique suivante :\n",
    "    - Si la température actuelle est égale à la température désirée, alors la consommation énergétique est égale à _power_usage x [abs(_current_temperature - _optimal_temperature) / 10 + 1].\n",
    "    - Sinon, la consommation énergétique est égale à _power_usage x [abs(_current_temperature - desired_temperature) / 2 + 1].\n",
    "    \n",
    "<b>Note :</b> abs est une fonction intégrée de Python, tout comme print.\n"
   ]
  },
  {
   "cell_type": "code",
   "execution_count": 3,
   "metadata": {},
   "outputs": [],
   "source": [
    "# Solution\n",
    "\n",
    "class Appliance:\n",
    "    def __init__(self, power_usage):\n",
    "        self._power_usage = power_usage\n",
    "\n",
    "\n",
    "class Refrigerator(Appliance):\n",
    "    def __init__(self, power_usage, current_temperature, desired_temperature=4.0, optimal_temperature=6.0):\n",
    "        super().__init__(power_usage)  # Héritage de Appliance\n",
    "        self._current_temperature = current_temperature\n",
    "        self.desired_temperature = desired_temperature\n",
    "        self._optimal_temperature = optimal_temperature\n",
    "\n",
    "    def get_power_consumption(self):\n",
    "        if self._current_temperature == self.desired_temperature:\n",
    "            return self._power_usage * (abs(self._current_temperature - self._optimal_temperature) / 10 + 1)\n",
    "        else:\n",
    "            return self._power_usage * (abs(self._current_temperature - self.desired_temperature) / 2 + 1)\n"
   ]
  },
  {
   "cell_type": "markdown",
   "metadata": {},
   "source": [
    "# Exercice 5: (3pts)\n",
    "Lorsque que l'on va exécuter ce script, quel sera l'ordre des messages affichées.  \n",
    "Lister de cette manière A -> F -> ...\n"
   ]
  },
  {
   "cell_type": "code",
   "execution_count": null,
   "metadata": {},
   "outputs": [],
   "source": [
    "class Computer:\n",
    "    def __init__(self, processor):\n",
    "        self.processor = processor\n",
    "        print(f\"Message A: {self.processor}-based computer initialized.\")\n",
    "\n",
    "    def boot_up(self):\n",
    "        print(f\"Message B: {self.processor}-based computer booting up.\")\n",
    "\n",
    "        \n",
    "class Laptop(Computer):\n",
    "    def __init__(self, processor, battery_life):\n",
    "        super().__init__(processor)\n",
    "        self.battery_life = battery_life\n",
    "        print(f\"Message C: Laptop with {self.processor} processor and {self.battery_life}-hour battery life ready.\")\n",
    "\n",
    "    def boot_up(self):\n",
    "        super().boot_up()\n",
    "        if self.battery_life < 5:\n",
    "            print(\"Message D: Warning: Low battery.\")\n",
    "        else:\n",
    "            print(f\"Message E: Battery healthy, {self.battery_life} hours remaining.\")\n",
    "\n",
    "            \n",
    "class Server(Computer):\n",
    "    def __init__(self, processor, rack_unit):\n",
    "        super().__init__(processor)\n",
    "        self.rack_unit = rack_unit\n",
    "        print(f\"Message F: Server with {self.processor} processor occupying {self.rack_unit} rack units.\")\n",
    "\n",
    "    def boot_up(self):\n",
    "        print(f\"Message G: Server booting up. System diagnostics running on {self.processor} processor.\")\n",
    "\n",
    "    def perform_backup(self):\n",
    "        print(f\"Message H: Performing scheduled backup on server.\")\n",
    "\n",
    "\n",
    "# Script starts executing here\n",
    "pc1 = Computer(\"Intel i7\")\n",
    "pc1.boot_up()\n",
    "\n",
    "laptop1 = Laptop(\"AMD Ryzen 7\", 3)  # Low battery scenario\n",
    "laptop1.boot_up()\n",
    "\n",
    "laptop2 = Laptop(\"Intel i5\", 8)  # Healthy battery scenario\n",
    "laptop2.boot_up()\n",
    "\n",
    "server1 = Server(\"Intel Xeon\", 4)\n",
    "server1.boot_up()\n",
    "server1.perform_backup()"
   ]
  },
  {
   "cell_type": "markdown",
   "metadata": {},
   "source": [
    "Solution:  \n",
    "A -> B ->                0.75 pts   \n",
    "A -> C -> B -> D ->      0.75 pts   \n",
    "A -> C -> B -> E ->      0.75 pts   \n",
    "A -> F -> G -> H         0.75 pts   "
   ]
  },
  {
   "cell_type": "markdown",
   "metadata": {},
   "source": [
    "# Exercice 6: (4pts)\n",
    "- Quels sont les 4 pilliers de la programmation orientée objet?\n",
    "- Qu'est-ce que l'héritage dans la programmation orientée objet?\n",
    "- Que représente le mot \"self\" dans les méthodes d'instances et que permet-il? \n",
    "- Qu'est-ce que le PEP8 et quelle est son utilité?"
   ]
  },
  {
   "cell_type": "markdown",
   "metadata": {},
   "source": [
    "Solution:\n",
    "\n",
    "1. (1pts)\n",
    "L'abstraction, l'encapsulation, l'héritage et le polymorphisme\n",
    "\n",
    "2. (1pts)\n",
    "L'héritage est un des pilliers de la programmation orientée objet qui permet de faire hériter les attributs et les méthodes d'une classe mère à des classes filles. Ce concept permet la réutilisation du code et d'éviter la redondance dans le code. \n",
    "(Héritage des méthodes et attributs (0.66 pts) + évite la redondance ou permet la réutilisation du code (0.33pts))\n",
    "\n",
    "3. (1pts)\n",
    "Le mot \"self\" fait référence à l'instance/l'objet de la classe qui appelle la méthode et permet d'accéder à ses attributs et aux méthodes d'instances.\n",
    "\n",
    "4. (1pts)\n",
    "Le PEP8 est une proposition d'amélioration de Python qui décrit les conventions d'écriture que les développeurs doivent utiliser afin d'améliorer la lisibilité et la cohérence du code. Elle permet de même de faciliter le partage de code entre les développeurs qui auront l'habitude de travailler avec ces conventions. \n",
    "(Document regroupant les conventions d'écriture (0.5pts) + améliore lisibilité/cohérence/partage entre les développeurs/productivité/vitesse de relecture (0.25pts pour chaque argument jusqu'à 0.5pts))\n"
   ]
  },
  {
   "cell_type": "code",
   "execution_count": null,
   "metadata": {},
   "outputs": [],
   "source": [
    " "
   ]
  },
  {
   "cell_type": "code",
   "execution_count": null,
   "metadata": {},
   "outputs": [],
   "source": []
  }
 ],
 "metadata": {
  "kernelspec": {
   "display_name": "Python 3",
   "language": "python",
   "name": "python3"
  },
  "language_info": {
   "codemirror_mode": {
    "name": "ipython",
    "version": 3
   },
   "file_extension": ".py",
   "mimetype": "text/x-python",
   "name": "python",
   "nbconvert_exporter": "python",
   "pygments_lexer": "ipython3",
   "version": "3.8.12"
  }
 },
 "nbformat": 4,
 "nbformat_minor": 2
}
