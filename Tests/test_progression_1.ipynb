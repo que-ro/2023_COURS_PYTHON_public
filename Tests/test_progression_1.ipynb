{
 "cells": [
  {
   "cell_type": "markdown",
   "id": "caroline-recorder",
   "metadata": {},
   "source": [
    "<center><h1>Test de progression 1</h1></center>\n",
    "\n",
    "## Exercice:  Le gestionnaire de recettes\n",
    "\n",
    "### Partie 1: Classe Ingredient\n",
    "\n",
    "1. Créez une classe nommée Ingredient avec deux attributs :\n",
    "* name: une chaîne de caractères (str) qui représente le nom de l'ingrédient.\n",
    "* quantity: une chaîne de caractères (str) qui représente la quantité de l'ingrédient.\n",
    "\n",
    "### Partie 2: Classe Recipe\n",
    "2. Créez une classe nommée Recipe.  \n",
    "    2.1. Cette classe doit contenir trois attributs:\n",
    "    * name: le nom de la recette\n",
    "    * ingredients: une liste contenant des objets de type Ingredient.\n",
    "    * instructions: une chaîne de caractères (str) décrivant les étapes à suivre pour réaliser la recette.  \n",
    "    2.2 Ajoutez à cette classe une méthode display_recipe() qui affiche le nom de la recette, puis la liste des ingrédients avec leurs quantités, et enfin, les instructions.  \n",
    "    2.3. Ajoutez également une méthode has_ingredient(ingredient_name) qui vérifie si un ingrédient spécifié par son nom est présent dans la recette.\n",
    "\n",
    "### Partie 3: Classe CookBook\n",
    "3. Créez une classe nommée CookBook.  \n",
    "    3.1. Cette classe doit avoir un attribut nommé recipes_list qui est une liste contenant des objets de type Recipe.  \n",
    "    3.2. Ajoutez à cette classe les méthodes suivantes :\n",
    "    * add_recipe(recipe): Ajoute une recette à la liste.\n",
    "    * remove_recipe(name): Supprime une recette de la liste en utilisant son nom.\n",
    "    * search_recipe_by_name(name): Cherche et renvoie une recette de la liste en utilisant son nom.\n",
    "    * search_recipes_containing_ingredient(ingredient_name): Cherche et renvoie toutes les recettes contenant un ingrédient spécifié par son nom.\n",
    "\n",
    "\n"
   ]
  },
  {
   "cell_type": "code",
   "execution_count": null,
   "id": "widespread-anime",
   "metadata": {},
   "outputs": [],
   "source": [
    "# Write code for part1 here\n"
   ]
  },
  {
   "cell_type": "code",
   "execution_count": null,
   "id": "commercial-agency",
   "metadata": {},
   "outputs": [],
   "source": [
    "# Don't change this code\n",
    "# This code should execute correctly after you completed part1\n",
    "ingredient1 = Ingredient(\"Tomate\", \"2 pièces\")\n",
    "ingredient2 = Ingredient(\"Oignon\", \"1 pièce\")\n",
    "\n",
    "ingredient3 = Ingredient(\"Lait\", \"1 litre\")\n",
    "ingredient4 = Ingredient(\"Sucre\", \"100g\")\n",
    "\n",
    "# Expected output 1 : \n",
    "#      Ingrédient: Tomate | Quantité : 2 pièces\n",
    "print(f\"Ingrédient: {ingredient1.name} \"\n",
    "      f\"| Quantité : {ingredient1.quantity}\")"
   ]
  },
  {
   "cell_type": "code",
   "execution_count": null,
   "id": "outside-kernel",
   "metadata": {},
   "outputs": [],
   "source": [
    "# Write code for part2 here\n"
   ]
  },
  {
   "cell_type": "code",
   "execution_count": null,
   "id": "effective-third",
   "metadata": {},
   "outputs": [],
   "source": [
    "# Don't change this code\n",
    "# This code should execute correctly after you completed part2\n",
    "recipe1 = Recipe(\"Salade de Tomate\", [ing1, ing2], \"Coupez et mélangez.\")\n",
    "recipe2 = Recipe(\"Lait sucré\", [ing3, ing4], \"Mélangez le lait et le sucre.\")\n",
    "\n",
    "# Expected output 2 : (it can differ depending on your implementation):\n",
    "#      Recette : Salade de Tomate\n",
    "#      \n",
    "#      Ingrédients :\n",
    "#      Ingrédient: Tomate | Quantité : 2 pièces\n",
    "#      Ingrédient: Oignon | Quantité : 1 pièce\n",
    "#      \n",
    "#      Instructions :\n",
    "#      Coupez et mélangez.\n",
    "print(\"Output 2 :\")\n",
    "recipe1.display_recipe()\n",
    "\n",
    "# Expected output 3: \n",
    "#      Est-ce que la recette 2 contient du Lait: True\n",
    "print(\"\\n---\\n\\nOutput 3 :\")\n",
    "print(\"Est-ce que la recette 2 contient du Lait:\"\n",
    "      f\" {recipe2.has_ingredient('Lait')}\")\n"
   ]
  },
  {
   "cell_type": "code",
   "execution_count": null,
   "id": "valued-charlotte",
   "metadata": {},
   "outputs": [],
   "source": [
    "# Write code for part3 here\n"
   ]
  },
  {
   "cell_type": "code",
   "execution_count": null,
   "id": "worldwide-omega",
   "metadata": {},
   "outputs": [],
   "source": [
    "# Don't change this code\n",
    "# This code should execute correctly after you completed part3\n",
    "cook_book = CookBook()\n",
    "cook_book.add_recipe(recipe1)\n",
    "cook_book.add_recipe(recipe2)\n",
    "\n",
    "# Expected output 4 : (it can differ depending on your implementation):\n",
    "#     Recette : Lait sucré\n",
    "#     \n",
    "#     Ingrédients :\n",
    "#     Ingrédient: Lait | Quantité : 1 litre\n",
    "#     Ingrédient: Sucre | Quantité : 100g\n",
    "#     \n",
    "#     Instructions :\n",
    "#     Mélangez le lait et le sucre.\n",
    "print(\"Output 4 : \")\n",
    "sugar_milk = cook_book.search_recipe_by_name(\"Lait sucré\")\n",
    "sugar_milk.display_recipe()\n",
    "\n",
    "# Expected output 5:\n",
    "#     Nombre de recettes contenant des tomates : 1\n",
    "#      - Salade de Tomate\n",
    "print(\"\\n---\\n\\nOutput 5 : \")\n",
    "recipes_with_tomatoes = cook_book.search_recipes_containing_ingredient(\"Tomate\")\n",
    "print(f\"Nombre de recettes contenant des tomates : {len(recipes_with_tomatoes)}\")\n",
    "for recipe in recipes_with_tomatoes:\n",
    "    print(f\" - {recipe.name}\")\n"
   ]
  },
  {
   "cell_type": "code",
   "execution_count": null,
   "id": "basic-entertainment",
   "metadata": {},
   "outputs": [],
   "source": []
  }
 ],
 "metadata": {
  "kernelspec": {
   "display_name": "Python 3",
   "language": "python",
   "name": "python3"
  },
  "language_info": {
   "codemirror_mode": {
    "name": "ipython",
    "version": 3
   },
   "file_extension": ".py",
   "mimetype": "text/x-python",
   "name": "python",
   "nbconvert_exporter": "python",
   "pygments_lexer": "ipython3",
   "version": "3.8.5"
  }
 },
 "nbformat": 4,
 "nbformat_minor": 5
}
